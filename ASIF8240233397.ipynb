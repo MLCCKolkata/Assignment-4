{
  "nbformat": 4,
  "nbformat_minor": 0,
  "metadata": {
    "colab": {
      "name": "First_Date_with_TensorFlow.ipynb",
      "version": "0.3.2",
      "provenance": [],
      "include_colab_link": true
    },
    "kernelspec": {
      "name": "python3",
      "display_name": "Python 3"
    }
  },
  "cells": [
    {
      "cell_type": "markdown",
      "metadata": {
        "id": "view-in-github",
        "colab_type": "text"
      },
      "source": [
        "[View in Colaboratory](https://colab.research.google.com/github/ASIF8240233397/Assignment-4/blob/ASIF8240233397/ASIF8240233397.ipynb)"
      ]
    },
    {
      "metadata": {
        "id": "2XXfXed5YLbe",
        "colab_type": "text"
      },
      "cell_type": "markdown",
      "source": [
        "# First Date with TensorFlow\n",
        "\n",
        "Hi all,<br/>\n",
        "\n",
        "You know what's important for understanding Deep Learning / Machine Learning?<br/>\n",
        "Intuition. Period.\n",
        "\n",
        "And Intuition comes when you run the code multiple times.\n",
        "\n",
        "So, today I can write a couple of defination and say this is this, this is that.<br/>\n",
        "You Google half of the things up. You find answers which you need to Google further.<br/>\n",
        "In the process, you probably won't even remember what's the first thing you started out with!\n",
        "\n",
        "So?\n",
        "\n",
        "Hence on, I will execute cells with code. <br/>\n",
        "The neurons in your brain will optimize a function to get a hold of what each function is doing.<br/>\n",
        "**No Theory Just Code.**\n",
        "\n",
        "I will at max give a defination that extends for a line. That's it.<br/>\n",
        "Let's get started!\n",
        "\n",
        "<hr/>\n",
        "\n",
        "**RECOMMENDED!**<br/>\n",
        "Write the code in the cells using the signals sent by your brain to your fingers!<br/>\n",
        "Don't just `shift+enter` the cells.\n",
        "\n",
        "[Source](https://github.com/iArunava/TensorFlow-NoteBooks)"
      ]
    },
    {
      "metadata": {
        "id": "gYWUpE-bYKWP",
        "colab_type": "code",
        "colab": {}
      },
      "cell_type": "code",
      "source": [
        "# Essential imports\n",
        "import numpy as np\n",
        "import tensorflow as tf\n",
        "import matplotlib.pyplot as plt"
      ],
      "execution_count": 0,
      "outputs": []
    },
    {
      "metadata": {
        "id": "eKpz5NCIYMdi",
        "colab_type": "code",
        "colab": {}
      },
      "cell_type": "code",
      "source": [
        "# Let's define some tensors\n",
        "t1 = tf.constant(2.0, dtype=tf.float32)\n",
        "t2 = tf.constant([1.0, 2.0], dtype=tf.float32)\n",
        "t3 = tf.constant([[[1.0, 9.0], [2.0, 3.0], [4.0, 5.0]], \n",
        "                  [[1.0, 9.0], [2.0, 3.0], [4.0, 5.0]]])"
      ],
      "execution_count": 0,
      "outputs": []
    },
    {
      "metadata": {
        "id": "vmMcjzTxbWzw",
        "colab_type": "code",
        "colab": {
          "base_uri": "https://localhost:8080/",
          "height": 68
        },
        "outputId": "4e4cc367-8700-4d71-8cbc-2c24ada07e4e"
      },
      "cell_type": "code",
      "source": [
        "# Let's print them out!\n",
        "print (t1)\n",
        "print (t2)\n",
        "print (t3)"
      ],
      "execution_count": 4,
      "outputs": [
        {
          "output_type": "stream",
          "text": [
            "Tensor(\"Const_3:0\", shape=(), dtype=float32)\n",
            "Tensor(\"Const_4:0\", shape=(2,), dtype=float32)\n",
            "Tensor(\"Const_5:0\", shape=(2, 3, 2), dtype=float32)\n"
          ],
          "name": "stdout"
        }
      ]
    },
    {
      "metadata": {
        "id": "10ahnfjYbcop",
        "colab_type": "text"
      },
      "cell_type": "markdown",
      "source": [
        "Where's Waldo?<br/>\n",
        "I mean, the value?<br/>\n",
        "\n",
        "So, the thing is you can't print the value of tensors directly.<br/>\n",
        "You have to use `session`, so let's do that!"
      ]
    },
    {
      "metadata": {
        "id": "ol6O5I7Tb2nb",
        "colab_type": "code",
        "colab": {
          "base_uri": "https://localhost:8080/",
          "height": 204
        },
        "outputId": "68b9f9ad-01b1-489e-85ac-09e96cc756a9"
      },
      "cell_type": "code",
      "source": [
        "sess = tf.Session()\n",
        "print (sess.run(t1))\n",
        "print (\"=======================\")\n",
        "print (sess.run(t2))\n",
        "print (\"=======================\")\n",
        "print (sess.run(t3))\n",
        "sess.close()"
      ],
      "execution_count": 5,
      "outputs": [
        {
          "output_type": "stream",
          "text": [
            "2.0\n",
            "=======================\n",
            "[1. 2.]\n",
            "=======================\n",
            "[[[1. 9.]\n",
            "  [2. 3.]\n",
            "  [4. 5.]]\n",
            "\n",
            " [[1. 9.]\n",
            "  [2. 3.]\n",
            "  [4. 5.]]]\n"
          ],
          "name": "stdout"
        }
      ]
    },
    {
      "metadata": {
        "id": "rXKfVs_zb-kU",
        "colab_type": "text"
      },
      "cell_type": "markdown",
      "source": [
        "Aaahaa!! Just printed those tensors!!!<br/>\n",
        "Feels good! <br/>\n",
        "\n",
        "For some of you, who are like, dude you got \"No Theory Just Code\" in bold <br/>\n",
        "And you are still using the markdown cells for the theory ?!\n",
        "\n",
        "I am just gonna say I am a unreasonable man.<br/>\n",
        "\n",
        "\n",
        "So, you are programming with tf.<br/>\n",
        "What ever you do is broken down to 2 basic steps:\n",
        "- Building the computational Graph!\n",
        "- Execute that graph using `session`!\n",
        "\n",
        "That's all!\n",
        "\n",
        "<hr/>\n",
        "\n",
        "Let's compare this 2 steps with what we did above!<br/>\n",
        "So, I defined 3 `tensor`s and these 3 `tensor`s formed my computational Graph.<br/>\n",
        "And then I executed each tensor in this graph using a `session`.\n",
        "\n",
        "That simple!\n",
        "\n",
        "<hr/>\n",
        "\n",
        "Now, let's define a few more computational graphs and execute them with sessions.\n",
        "\n",
        "Okay, to start with let's build this computational graph!\n",
        "\n",
        "![Comp Graph 1](https://raw.githubusercontent.com/iArunava/TensorFlow-NoteBooks/master/assets/comp_graph_1.jpg)"
      ]
    },
    {
      "metadata": {
        "id": "FyVz0GNqgreZ",
        "colab_type": "code",
        "colab": {
          "base_uri": "https://localhost:8080/",
          "height": 51
        },
        "outputId": "29bd93fd-52e9-4701-c993-0592e0cf6736"
      },
      "cell_type": "code",
      "source": [
        "# Let's define the graph\n",
        "comp_graph_1 = tf.multiply(tf.add(78, 19), 79)\n",
        "\n",
        "# Alternatively\n",
        "comp_graph_1_alt = (tf.constant(78) + tf.constant(19)) * tf.constant(79)\n",
        "\n",
        "# Let's execute using session\n",
        "sess = tf.Session()\n",
        "print ('Comp Graph 1    : ', sess.run(comp_graph_1))\n",
        "print ('Comp Graph 1 Alt: ', sess.run(comp_graph_1_alt))\n",
        "sess.close()"
      ],
      "execution_count": 6,
      "outputs": [
        {
          "output_type": "stream",
          "text": [
            "Comp Graph 1    :  7663\n",
            "Comp Graph 1 Alt:  7663\n"
          ],
          "name": "stdout"
        }
      ]
    },
    {
      "metadata": {
        "id": "SVMMtuFYhaQB",
        "colab_type": "text"
      },
      "cell_type": "markdown",
      "source": [
        "Let's define a sligtly more involved graph!\n",
        "\n",
        "![alt text](https://raw.githubusercontent.com/iArunava/TensorFlow-NoteBooks/master/assets/comp_graph_2.jpg)"
      ]
    },
    {
      "metadata": {
        "id": "4856BTvRhiBb",
        "colab_type": "code",
        "colab": {
          "base_uri": "https://localhost:8080/",
          "height": 68
        },
        "outputId": "a5b156ef-e9da-4724-95ce-d73539d4b6fb"
      },
      "cell_type": "code",
      "source": [
        "# Let build the graph\n",
        "# We need to cast cause the tensors operated on should be of the same type\n",
        "comp_graph_part_1 = tf.cast(tf.subtract(tf.add(7, 8), tf.add(9, 10)), \n",
        "                            dtype=tf.float32)\n",
        "comp_graph_part_2 = tf.divide(tf.cast(tf.multiply(7, 10), dtype=tf.float32), tf.constant(19.5))\n",
        "comp_graph_complete = tf.maximum(comp_graph_part_1, comp_graph_part_2)\n",
        "\n",
        "# Let's execute\n",
        "sess = tf.Session()\n",
        "part1_res, part2_res, total_res = sess.run([comp_graph_part_1, comp_graph_part_2, comp_graph_complete])\n",
        "print ('Complete Result: ', total_res)\n",
        "print ('Part 1 Result: ', part1_res)\n",
        "print ('Part 2 Result: ', part2_res)\n",
        "sess.close()"
      ],
      "execution_count": 7,
      "outputs": [
        {
          "output_type": "stream",
          "text": [
            "Complete Result:  3.5897436\n",
            "Part 1 Result:  -4.0\n",
            "Part 2 Result:  3.5897436\n"
          ],
          "name": "stdout"
        }
      ]
    },
    {
      "metadata": {
        "id": "B-_ZDtEbj4N0",
        "colab_type": "text"
      },
      "cell_type": "markdown",
      "source": [
        "Cool! Let's go! Build another graph and execute it with sessions.<br/>\n",
        "\n",
        "But this time, it's all you!\n",
        "\n",
        "Build this graph and execute it with `session`!\n",
        "\n",
        "![alt text](https://raw.githubusercontent.com/iArunava/TensorFlow-NoteBooks/master/assets/comp_graph_3.jpg)\n",
        "\n",
        "_Remember that `tensors` operated on should be of the same type!_<br/>\n",
        "_Search up errors and other help you need on Google_"
      ]
    },
    {
      "metadata": {
        "id": "-uHNe1BolJY0",
        "colab_type": "code",
        "colab": {
          "base_uri": "https://localhost:8080/",
          "height": 68
        },
        "outputId": "1b89fed5-f6a5-4c97-b061-5b92dea07ebb"
      },
      "cell_type": "code",
      "source": [
        "# Build the graph\n",
        "# YOUR CODE HERE\n",
        "\n",
        "cg_p1 = tf.divide(  tf.multiply( tf.cast([9,10], dtype=tf.float32) , [7,8.65] ), 5.6) \n",
        "cg_p2 = tf.add([7.65,9], [13.5,7.18])\n",
        "cg = tf.minimum(cg_p1, cg_p2)\n",
        "\n",
        "\n",
        "with tf.Session() as sess:\n",
        "  print('Left subtree', sess.run(cg_p1))\n",
        "  print('Right subtree', sess.run(cg_p2))\n",
        "  print('Result', sess.run(cg))\n",
        "# Execute \n",
        "# YOUR CODE HERE"
      ],
      "execution_count": 11,
      "outputs": [
        {
          "output_type": "stream",
          "text": [
            "Left subtree [11.25     15.446429]\n",
            "Right subtree [21.15 16.18]\n",
            "Result [11.25     15.446429]\n"
          ],
          "name": "stdout"
        }
      ]
    },
    {
      "metadata": {
        "id": "qmap38WelREN",
        "colab_type": "text"
      },
      "cell_type": "markdown",
      "source": [
        "Let's do another!<br/>\n",
        "It's fun! Isn't it?!\n",
        "\n",
        "Build and execute this one!\n",
        "\n",
        "![alt text](https://raw.githubusercontent.com/iArunava/TensorFlow-NoteBooks/master/assets/comp_graph_4.jpg)"
      ]
    },
    {
      "metadata": {
        "id": "0ZhYwAlLmEvB",
        "colab_type": "code",
        "colab": {
          "base_uri": "https://localhost:8080/",
          "height": 102
        },
        "outputId": "8d685262-a60e-4617-b782-21832630e091"
      },
      "cell_type": "code",
      "source": [
        "# Build the graph\n",
        "# YOUR CODE HERE\n",
        "\n",
        "m1 = tf.constant([[1.2, 3.4], [7.5, 8.6]], dtype=tf.float32)\n",
        "m2 = tf.constant([[7, 9],[8, 6]], dtype=tf.float32)\n",
        "m3 = tf.constant([[2.79, 3.81, 5.6], [7.3, 5.67, 8.9]], dtype=tf.float32)\n",
        "m4 = tf.constant([[2.6, 18.1], [7.86, 9.81], [9.36, 10.41]], dtype=tf.float32)\n",
        "\n",
        "cg_p1 = tf.multiply( tf.reduce_mean(m1, axis=1) , m2 )\n",
        "cg_p2 = tf.reduce_sum( tf.multiply(m3 , tf.transpose(m4)) )\n",
        "cg = cg_p1 + cg_p2\n",
        "\n",
        "with tf.Session() as sess:\n",
        "  print('Left subtree', sess.run(cg_p1))\n",
        "  print('Right subtree', sess.run(cg_p2))\n",
        "  print('Result', sess.run(cg))\n",
        "# Execute \n",
        "# YOUR CODE HERE"
      ],
      "execution_count": 12,
      "outputs": [
        {
          "output_type": "stream",
          "text": [
            "Left subtree [[16.100002 72.450005]\n",
            " [18.400002 48.300003]]\n",
            "Right subtree 370.01828\n",
            "Result [[386.1183  442.4683 ]\n",
            " [388.41827 418.3183 ]]\n"
          ],
          "name": "stdout"
        }
      ]
    },
    {
      "metadata": {
        "id": "BnB0b6qCmGmg",
        "colab_type": "text"
      },
      "cell_type": "markdown",
      "source": [
        "And a final one, before we move on to the next part!\n",
        "\n",
        "![alt text](https://raw.githubusercontent.com/iArunava/TensorFlow-NoteBooks/master/assets/comp_graph_5.jpg)"
      ]
    },
    {
      "metadata": {
        "id": "GQWyCvsQmMcL",
        "colab_type": "code",
        "colab": {
          "base_uri": "https://localhost:8080/",
          "height": 102
        },
        "outputId": "9366f46d-37ee-450e-ec89-af87f9c34e4d"
      },
      "cell_type": "code",
      "source": [
        "# Build the graph\n",
        "# YOUR CODE HERE\n",
        "\n",
        "m1 = tf.constant([[7.36, 8.91, 10.41], [5.31, 9.38, 7.99]], dtype=tf.float32)\n",
        "m2 = tf.constant([[7.99, 10.36], [5.36, 7.98], [8.91, 5.67]], dtype=tf.float32)\n",
        "m3 = tf.constant([[1, 5.6, 6.1, 8], [0, 0, 7.98, 9], [0, 0, 7.6, 7], [0, 0, 0, 8.98]], dtype=tf.float32)\n",
        "\n",
        "cg_p1 = tf.divide( tf.add( 7.0, tf.reduce_sum( tf.multiply(m1 , tf.transpose(m2)) ) ), 19.6)\n",
        "cg = tf.divide(cg_p1, m3)\n",
        "\n",
        "\n",
        "with tf.Session() as sess:\n",
        "  print('Left subtree', sess.run(cg_p1))\n",
        "  print('Result', sess.run(cg))\n",
        "# Execute \n",
        "# YOUR CODE HERE"
      ],
      "execution_count": 13,
      "outputs": [
        {
          "output_type": "stream",
          "text": [
            "Left subtree 19.463488\n",
            "Result [[19.463488   3.475623   3.1907358  2.432936 ]\n",
            " [       inf        inf  2.4390335  2.1626098]\n",
            " [       inf        inf  2.5609853  2.7804983]\n",
            " [       inf        inf        inf  2.1674263]]\n"
          ],
          "name": "stdout"
        }
      ]
    },
    {
      "metadata": {
        "id": "12NC7XTPsJw7",
        "colab_type": "text"
      },
      "cell_type": "markdown",
      "source": [
        "# Linear Regression\n",
        "\n",
        "Okay, now we will create a dummy dataset and perform linear regression on this dataset!\n",
        "\n",
        "\n",
        "To get you in the habit of looking up for the documentation, I am not providing what some of the following functions does, Google them up!"
      ]
    },
    {
      "metadata": {
        "id": "hW31RZkjtNwI",
        "colab_type": "code",
        "colab": {}
      },
      "cell_type": "code",
      "source": [
        "# Create the dataset\n",
        "X = np.linspace(-30.0, 300.0, 300)\n",
        "Y = 2 * np.linspace(-30.0, 250.0, 300) + np.random.randn(*X.shape)\n",
        "\n",
        "# Divide it into train and test\n",
        "train_X = X[:250]\n",
        "train_Y = Y[:250]\n",
        "\n",
        "test_X = X[250:]\n",
        "test_Y = Y[250:]"
      ],
      "execution_count": 0,
      "outputs": []
    },
    {
      "metadata": {
        "id": "LQKy6U33y4lt",
        "colab_type": "code",
        "colab": {}
      },
      "cell_type": "code",
      "source": [
        "# Let's define the hyperparameters\n",
        "learning_rate = 0.000005\n",
        "n_epochs = 1000\n",
        "interval = 50"
      ],
      "execution_count": 0,
      "outputs": []
    },
    {
      "metadata": {
        "id": "1h1-D8K1uT48",
        "colab_type": "code",
        "colab": {
          "base_uri": "https://localhost:8080/",
          "height": 347
        },
        "outputId": "df502017-962b-4bf9-9fbd-581eef50ecd0"
      },
      "cell_type": "code",
      "source": [
        "# let's viz the first 10 datapoints of the dataset\n",
        "plt.plot(train_X[:10], train_Y[:10], 'g')\n",
        "plt.show()"
      ],
      "execution_count": 16,
      "outputs": [
        {
          "output_type": "display_data",
          "data": {
            "image/png": "[encoded data removed]",
            "text/plain": [
              "<matplotlib.figure.Figure at 0x7ff1ca4b5630>"
            ]
          },
          "metadata": {
            "tags": []
          }
        }
      ]
    },
    {
      "metadata": {
        "id": "jrsUps0nu8vj",
        "colab_type": "text"
      },
      "cell_type": "markdown",
      "source": [
        "** Question **<br/>\n",
        "Why did I created a session to plot the graph?<br/>\n",
        "[Ans]"
      ]
    },
    {
      "metadata": {
        "id": "P3-iuxE4sjAf",
        "colab_type": "code",
        "colab": {}
      },
      "cell_type": "code",
      "source": [
        "# Let's define the placeholders\n",
        "\n",
        "# Placeholders?\n",
        "# The input to the model changes on iteration\n",
        "# So we cannot have a constant in the input as we did before\n",
        "# And thus we need placeholders which we can change on each \n",
        "# iteration of the training\n",
        "\n",
        "x = tf.placeholder(tf.float32, name='x')\n",
        "y = tf.placeholder(tf.float32, name='y')"
      ],
      "execution_count": 0,
      "outputs": []
    },
    {
      "metadata": {
        "id": "8hPRkaoxvRyV",
        "colab_type": "code",
        "colab": {}
      },
      "cell_type": "code",
      "source": [
        "# Let's define the linear regression model\n",
        "\n",
        "# tf.Variable?\n",
        "# We define the model parameters as tf.Variables\n",
        "# as they get updated throghout the training.\n",
        "# And variables denotes something which changes overtime.\n",
        "\n",
        "W = tf.Variable(0.0, name='weight_1')\n",
        "b = tf.Variable(0.0, name='bias_1')\n",
        "\n",
        "pred_y = (W*x) + b"
      ],
      "execution_count": 0,
      "outputs": []
    },
    {
      "metadata": {
        "id": "cSw1P8bkv96r",
        "colab_type": "code",
        "colab": {}
      },
      "cell_type": "code",
      "source": [
        "# Let's define the loss function\n",
        "# We are going to use the mean squared loss\n",
        "loss = tf.reduce_mean(tf.square(y - pred_y))"
      ],
      "execution_count": 0,
      "outputs": []
    },
    {
      "metadata": {
        "id": "5G4uQqjsygNj",
        "colab_type": "code",
        "colab": {}
      },
      "cell_type": "code",
      "source": [
        "# Let's define the optimizer\n",
        "# And specify the which value (i.e. loss) it has to minimize\n",
        "optimizer = tf.train.GradientDescentOptimizer(learning_rate=learning_rate).minimize(loss)"
      ],
      "execution_count": 0,
      "outputs": []
    },
    {
      "metadata": {
        "id": "ttI7ZT-ozAm1",
        "colab_type": "code",
        "colab": {
          "base_uri": "https://localhost:8080/",
          "height": 721
        },
        "outputId": "2aab0862-439e-4175-d746-462a9d195ede"
      },
      "cell_type": "code",
      "source": [
        "# So the graph is now built\n",
        "# Now let's execute the graph using session\n",
        "# i.e. lets train the model\n",
        "\n",
        "# What it is to train a model?\n",
        "# To update the paramters in the graph (i.e. tf.Variables)\n",
        "# So that the loss is minimized\n",
        "\n",
        "# Okay let's start!\n",
        "with tf.Session() as sess:\n",
        "  # We need to initialize the variables in our graph\n",
        "  sess.run(tf.global_variables_initializer())\n",
        "  \n",
        "  for epoch in range(n_epochs):\n",
        "    _, curr_loss = sess.run([optimizer, loss], feed_dict={x:train_X, y:train_Y})\n",
        "    \n",
        "    if epoch % interval == 0:\n",
        "      print ('Loss after epoch', epoch, ' is ', curr_loss)\n",
        "    \n",
        "  print ('Now testing the model in the test set')\n",
        "  final_preds, final_loss = sess.run([pred_y, loss], feed_dict={x:test_X, y:test_Y})\n",
        "    \n",
        "  print ('The final loss is: ', final_loss)\n",
        "  \n",
        "  # Plotting the final predictions against the true predictions\n",
        "  plt.plot(test_X[:10], test_Y[:10], 'g', label='True Function')\n",
        "  plt.plot(test_X[:10], final_preds[:10], 'r', label='Predicted Function')\n",
        "  plt.legend()\n",
        "  plt.show()"
      ],
      "execution_count": 21,
      "outputs": [
        {
          "output_type": "stream",
          "text": [
            "Loss after epoch 0  is  48273.26\n",
            "Loss after epoch 50  is  30.601217\n",
            "Loss after epoch 100  is  30.590584\n",
            "Loss after epoch 150  is  30.580091\n",
            "Loss after epoch 200  is  30.5696\n",
            "Loss after epoch 250  is  30.559126\n",
            "Loss after epoch 300  is  30.548645\n",
            "Loss after epoch 350  is  30.538166\n",
            "Loss after epoch 400  is  30.527681\n",
            "Loss after epoch 450  is  30.517218\n",
            "Loss after epoch 500  is  30.506752\n",
            "Loss after epoch 550  is  30.496288\n",
            "Loss after epoch 600  is  30.485826\n",
            "Loss after epoch 650  is  30.475376\n",
            "Loss after epoch 700  is  30.464926\n",
            "Loss after epoch 750  is  30.454483\n",
            "Loss after epoch 800  is  30.444027\n",
            "Loss after epoch 850  is  30.43359\n",
            "Loss after epoch 900  is  30.42316\n",
            "Loss after epoch 950  is  30.412725\n",
            "Now testing the model in the test set\n",
            "The final loss is:  33.516876\n"
          ],
          "name": "stdout"
        },
        {
          "output_type": "display_data",
          "data": {
            "image/png": "[encoded data removed]",
            "text/plain": [
              "<matplotlib.figure.Figure at 0x7ff1c73e4cc0>"
            ]
          },
          "metadata": {
            "tags": []
          }
        }
      ]
    },
    {
      "metadata": {
        "id": "jgmH3wwt1src",
        "colab_type": "text"
      },
      "cell_type": "markdown",
      "source": [
        "Okay, so we are doing good!<br/>\n",
        "\n",
        "Now, let me just put everything here into one function so that you can tweak the hyperparameters easily!\n",
        "\n",
        "Or better, do it yourself!"
      ]
    },
    {
      "metadata": {
        "id": "OZ5TY7B_4E_v",
        "colab_type": "code",
        "colab": {}
      },
      "cell_type": "code",
      "source": [
        "def linear_regression(X_train, X_test, Y_train, Y_test, learning_rate=0.000005, n_epochs=100, interval=50):\n",
        "  x = tf.placeholder(tf.float32, name='x')\n",
        "  y = tf.placeholder(tf.float32, name='y')\n",
        "  \n",
        "  W = tf.Variable(0.0, name='weight_1')\n",
        "  b = tf.Variable(0.0, name='bias_1')\n",
        "\n",
        "  pred_y = (W*x) + b\n",
        "  \n",
        "  loss = tf.reduce_mean(tf.square(y - pred_y))\n",
        "  \n",
        "  optimizer = tf.train.GradientDescentOptimizer(learning_rate=learning_rate).minimize(loss)\n",
        "  \n",
        "  with tf.Session() as  sess:\n",
        "    sess.run(tf.global_variables_initializer())\n",
        "\n",
        "    for epoch in range(n_epochs):\n",
        "      _, curr_loss = sess.run([optimizer, loss], feed_dict={x:X_train, y:Y_train})\n",
        "\n",
        "      if epoch % interval == 0:\n",
        "        print ('Loss after epoch', epoch, ' is ', curr_loss)\n",
        "\n",
        "    print ('Now testing the model in the test set')\n",
        "    final_preds, final_loss = sess.run([pred_y, loss], feed_dict={x:X_test, y:Y_test})\n",
        "\n",
        "    print ('The final loss is: ', final_loss)\n",
        "\n",
        "    # Plotting the final predictions against the true predictions\n",
        "    plt.plot(test_X[:10], test_Y[:10], 'g', label='True Function')\n",
        "    plt.plot(test_X[:10], final_preds[:10], 'r', label='Predicted Function')\n",
        "    plt.legend()\n",
        "    plt.show()"
      ],
      "execution_count": 0,
      "outputs": []
    },
    {
      "metadata": {
        "id": "kMkVneZwwtH0",
        "colab_type": "code",
        "colab": {
          "base_uri": "https://localhost:8080/",
          "height": 415
        },
        "outputId": "cd2f0738-15cf-4570-b507-af142941cc4a"
      },
      "cell_type": "code",
      "source": [
        "#test\n",
        "linear_regression(train_X, test_X, train_Y, test_Y)"
      ],
      "execution_count": 25,
      "outputs": [
        {
          "output_type": "stream",
          "text": [
            "Loss after epoch 0  is  48273.26\n",
            "Loss after epoch 50  is  30.601217\n",
            "Now testing the model in the test set\n",
            "The final loss is:  33.731224\n"
          ],
          "name": "stdout"
        },
        {
          "output_type": "display_data",
          "data": {
            "image/png": "[encoded data removed]",
            "text/plain": [
              "<matplotlib.figure.Figure at 0x7ff1c7403a20>"
            ]
          },
          "metadata": {
            "tags": []
          }
        }
      ]
    },
    {
      "metadata": {
        "id": "A6MaclhK4rc6",
        "colab_type": "code",
        "colab": {
          "base_uri": "https://localhost:8080/",
          "height": 551
        },
        "outputId": "250fe7d2-062d-439a-9df8-7a0675bdb07c"
      },
      "cell_type": "code",
      "source": [
        "# Okay! Now let's tweak!\n",
        "linear_regression(train_X, test_X, train_Y, test_Y, learning_rate=0.000034, n_epochs=500)"
      ],
      "execution_count": 27,
      "outputs": [
        {
          "output_type": "stream",
          "text": [
            "Loss after epoch 0  is  48273.26\n",
            "Loss after epoch 50  is  30.540276\n",
            "Loss after epoch 100  is  30.469112\n",
            "Loss after epoch 150  is  30.398125\n",
            "Loss after epoch 200  is  30.32729\n",
            "Loss after epoch 250  is  30.256647\n",
            "Loss after epoch 300  is  30.186205\n",
            "Loss after epoch 350  is  30.115887\n",
            "Loss after epoch 400  is  30.045774\n",
            "Loss after epoch 450  is  29.975786\n",
            "Now testing the model in the test set\n",
            "The final loss is:  32.952362\n"
          ],
          "name": "stdout"
        },
        {
          "output_type": "display_data",
          "data": {
            "image/png": "[encoded data removed]",
            "text/plain": [
              "<matplotlib.figure.Figure at 0x7ff1c4902358>"
            ]
          },
          "metadata": {
            "tags": []
          }
        }
      ]
    },
    {
      "metadata": {
        "id": "KjY_KnlE5ClG",
        "colab_type": "text"
      },
      "cell_type": "markdown",
      "source": [
        "## Drive the loss to a minimum."
      ]
    },
    {
      "metadata": {
        "id": "JKiHjGN15HPX",
        "colab_type": "code",
        "colab": {
          "base_uri": "https://localhost:8080/",
          "height": 2081
        },
        "outputId": "0d2c3683-158c-44bd-8a58-293c31bbd5dc"
      },
      "cell_type": "code",
      "source": [
        "linear_regression(train_X, test_X, train_Y, test_Y, learning_rate=0.00006, n_epochs=10000, interval = 100)"
      ],
      "execution_count": 28,
      "outputs": [
        {
          "output_type": "stream",
          "text": [
            "Loss after epoch 0  is  48273.26\n",
            "Loss after epoch 100  is  3.178274e+16\n",
            "Loss after epoch 200  is  2.093887e+28\n",
            "Loss after epoch 300  is  inf\n",
            "Loss after epoch 400  is  inf\n",
            "Loss after epoch 500  is  inf\n",
            "Loss after epoch 600  is  nan\n",
            "Loss after epoch 700  is  nan\n",
            "Loss after epoch 800  is  nan\n",
            "Loss after epoch 900  is  nan\n",
            "Loss after epoch 1000  is  nan\n",
            "Loss after epoch 1100  is  nan\n",
            "Loss after epoch 1200  is  nan\n",
            "Loss after epoch 1300  is  nan\n",
            "Loss after epoch 1400  is  nan\n",
            "Loss after epoch 1500  is  nan\n",
            "Loss after epoch 1600  is  nan\n",
            "Loss after epoch 1700  is  nan\n",
            "Loss after epoch 1800  is  nan\n",
            "Loss after epoch 1900  is  nan\n",
            "Loss after epoch 2000  is  nan\n",
            "Loss after epoch 2100  is  nan\n",
            "Loss after epoch 2200  is  nan\n",
            "Loss after epoch 2300  is  nan\n",
            "Loss after epoch 2400  is  nan\n",
            "Loss after epoch 2500  is  nan\n",
            "Loss after epoch 2600  is  nan\n",
            "Loss after epoch 2700  is  nan\n",
            "Loss after epoch 2800  is  nan\n",
            "Loss after epoch 2900  is  nan\n",
            "Loss after epoch 3000  is  nan\n",
            "Loss after epoch 3100  is  nan\n",
            "Loss after epoch 3200  is  nan\n",
            "Loss after epoch 3300  is  nan\n",
            "Loss after epoch 3400  is  nan\n",
            "Loss after epoch 3500  is  nan\n",
            "Loss after epoch 3600  is  nan\n",
            "Loss after epoch 3700  is  nan\n",
            "Loss after epoch 3800  is  nan\n",
            "Loss after epoch 3900  is  nan\n",
            "Loss after epoch 4000  is  nan\n",
            "Loss after epoch 4100  is  nan\n",
            "Loss after epoch 4200  is  nan\n",
            "Loss after epoch 4300  is  nan\n",
            "Loss after epoch 4400  is  nan\n",
            "Loss after epoch 4500  is  nan\n",
            "Loss after epoch 4600  is  nan\n",
            "Loss after epoch 4700  is  nan\n",
            "Loss after epoch 4800  is  nan\n",
            "Loss after epoch 4900  is  nan\n",
            "Loss after epoch 5000  is  nan\n",
            "Loss after epoch 5100  is  nan\n",
            "Loss after epoch 5200  is  nan\n",
            "Loss after epoch 5300  is  nan\n",
            "Loss after epoch 5400  is  nan\n",
            "Loss after epoch 5500  is  nan\n",
            "Loss after epoch 5600  is  nan\n",
            "Loss after epoch 5700  is  nan\n",
            "Loss after epoch 5800  is  nan\n",
            "Loss after epoch 5900  is  nan\n",
            "Loss after epoch 6000  is  nan\n",
            "Loss after epoch 6100  is  nan\n",
            "Loss after epoch 6200  is  nan\n",
            "Loss after epoch 6300  is  nan\n",
            "Loss after epoch 6400  is  nan\n",
            "Loss after epoch 6500  is  nan\n",
            "Loss after epoch 6600  is  nan\n",
            "Loss after epoch 6700  is  nan\n",
            "Loss after epoch 6800  is  nan\n",
            "Loss after epoch 6900  is  nan\n",
            "Loss after epoch 7000  is  nan\n",
            "Loss after epoch 7100  is  nan\n",
            "Loss after epoch 7200  is  nan\n",
            "Loss after epoch 7300  is  nan\n",
            "Loss after epoch 7400  is  nan\n",
            "Loss after epoch 7500  is  nan\n",
            "Loss after epoch 7600  is  nan\n",
            "Loss after epoch 7700  is  nan\n",
            "Loss after epoch 7800  is  nan\n",
            "Loss after epoch 7900  is  nan\n",
            "Loss after epoch 8000  is  nan\n",
            "Loss after epoch 8100  is  nan\n",
            "Loss after epoch 8200  is  nan\n",
            "Loss after epoch 8300  is  nan\n",
            "Loss after epoch 8400  is  nan\n",
            "Loss after epoch 8500  is  nan\n",
            "Loss after epoch 8600  is  nan\n",
            "Loss after epoch 8700  is  nan\n",
            "Loss after epoch 8800  is  nan\n",
            "Loss after epoch 8900  is  nan\n",
            "Loss after epoch 9000  is  nan\n",
            "Loss after epoch 9100  is  nan\n",
            "Loss after epoch 9200  is  nan\n",
            "Loss after epoch 9300  is  nan\n",
            "Loss after epoch 9400  is  nan\n",
            "Loss after epoch 9500  is  nan\n",
            "Loss after epoch 9600  is  nan\n",
            "Loss after epoch 9700  is  nan\n",
            "Loss after epoch 9800  is  nan\n",
            "Loss after epoch 9900  is  nan\n",
            "Now testing the model in the test set\n",
            "The final loss is:  nan\n"
          ],
          "name": "stdout"
        },
        {
          "output_type": "display_data",
          "data": {
            "image/png": "[encoded data removed]",
            "text/plain": [
              "<matplotlib.figure.Figure at 0x7ff1c48dd400>"
            ]
          },
          "metadata": {
            "tags": []
          }
        }
      ]
    },
    {
      "metadata": {
        "id": "ziGjJsw8xFQn",
        "colab_type": "code",
        "colab": {
          "base_uri": "https://localhost:8080/",
          "height": 2081
        },
        "outputId": "b4343311-fec8-49f0-ca5d-31334d2cc597"
      },
      "cell_type": "code",
      "source": [
        "# YOUR CODE HERE\n",
        "linear_regression(train_X, test_X, train_Y, test_Y, learning_rate=0.000055, n_epochs=50000, interval = 500)"
      ],
      "execution_count": 29,
      "outputs": [
        {
          "output_type": "stream",
          "text": [
            "Loss after epoch 0  is  48273.26\n",
            "Loss after epoch 500  is  29.478628\n",
            "Loss after epoch 1000  is  28.389067\n",
            "Loss after epoch 1500  is  27.341238\n",
            "Loss after epoch 2000  is  26.333483\n",
            "Loss after epoch 2500  is  25.364286\n",
            "Loss after epoch 3000  is  24.432205\n",
            "Loss after epoch 3500  is  23.535793\n",
            "Loss after epoch 4000  is  22.6737\n",
            "Loss after epoch 4500  is  21.8446\n",
            "Loss after epoch 5000  is  21.047245\n",
            "Loss after epoch 5500  is  20.280382\n",
            "Loss after epoch 6000  is  19.542923\n",
            "Loss after epoch 6500  is  18.833645\n",
            "Loss after epoch 7000  is  18.151527\n",
            "Loss after epoch 7500  is  17.495527\n",
            "Loss after epoch 8000  is  16.864635\n",
            "Loss after epoch 8500  is  16.257872\n",
            "Loss after epoch 9000  is  15.674352\n",
            "Loss after epoch 9500  is  15.1131735\n",
            "Loss after epoch 10000  is  14.573469\n",
            "Loss after epoch 10500  is  14.054433\n",
            "Loss after epoch 11000  is  13.555235\n",
            "Loss after epoch 11500  is  13.075161\n",
            "Loss after epoch 12000  is  12.6134615\n",
            "Loss after epoch 12500  is  12.169436\n",
            "Loss after epoch 13000  is  11.742411\n",
            "Loss after epoch 13500  is  11.331714\n",
            "Loss after epoch 14000  is  10.93675\n",
            "Loss after epoch 14500  is  10.556903\n",
            "Loss after epoch 15000  is  10.191601\n",
            "Loss after epoch 15500  is  9.840267\n",
            "Loss after epoch 16000  is  9.502374\n",
            "Loss after epoch 16500  is  9.17744\n",
            "Loss after epoch 17000  is  8.86495\n",
            "Loss after epoch 17500  is  8.564396\n",
            "Loss after epoch 18000  is  8.275342\n",
            "Loss after epoch 18500  is  7.9973793\n",
            "Loss after epoch 19000  is  7.7300215\n",
            "Loss after epoch 19500  is  7.4729285\n",
            "Loss after epoch 20000  is  7.2256517\n",
            "Loss after epoch 20500  is  6.9878407\n",
            "Loss after epoch 21000  is  6.7591443\n",
            "Loss after epoch 21500  is  6.5391994\n",
            "Loss after epoch 22000  is  6.3276887\n",
            "Loss after epoch 22500  is  6.124231\n",
            "Loss after epoch 23000  is  5.928603\n",
            "Loss after epoch 23500  is  5.7404494\n",
            "Loss after epoch 24000  is  5.5594907\n",
            "Loss after epoch 24500  is  5.385469\n",
            "Loss after epoch 25000  is  5.218107\n",
            "Loss after epoch 25500  is  5.057144\n",
            "Loss after epoch 26000  is  4.902348\n",
            "Loss after epoch 26500  is  4.753478\n",
            "Loss after epoch 27000  is  4.6102924\n",
            "Loss after epoch 27500  is  4.472594\n",
            "Loss after epoch 28000  is  4.340179\n",
            "Loss after epoch 28500  is  4.2128267\n",
            "Loss after epoch 29000  is  4.0903354\n",
            "Loss after epoch 29500  is  3.9725316\n",
            "Loss after epoch 30000  is  3.8592598\n",
            "Loss after epoch 30500  is  3.750307\n",
            "Loss after epoch 31000  is  3.6455407\n",
            "Loss after epoch 31500  is  3.5447667\n",
            "Loss after epoch 32000  is  3.4478414\n",
            "Loss after epoch 32500  is  3.3546534\n",
            "Loss after epoch 33000  is  3.26502\n",
            "Loss after epoch 33500  is  3.178814\n",
            "Loss after epoch 34000  is  3.0959113\n",
            "Loss after epoch 34500  is  3.01617\n",
            "Loss after epoch 35000  is  2.9395053\n",
            "Loss after epoch 35500  is  2.8657575\n",
            "Loss after epoch 36000  is  2.7948442\n",
            "Loss after epoch 36500  is  2.7266319\n",
            "Loss after epoch 37000  is  2.6610353\n",
            "Loss after epoch 37500  is  2.5979624\n",
            "Loss after epoch 38000  is  2.5372794\n",
            "Loss after epoch 38500  is  2.4789388\n",
            "Loss after epoch 39000  is  2.4228272\n",
            "Loss after epoch 39500  is  2.368856\n",
            "Loss after epoch 40000  is  2.3169582\n",
            "Loss after epoch 40500  is  2.267039\n",
            "Loss after epoch 41000  is  2.2190416\n",
            "Loss after epoch 41500  is  2.1728735\n",
            "Loss after epoch 42000  is  2.1284742\n",
            "Loss after epoch 42500  is  2.0857682\n",
            "Loss after epoch 43000  is  2.0447087\n",
            "Loss after epoch 43500  is  2.0052192\n",
            "Loss after epoch 44000  is  1.9672306\n",
            "Loss after epoch 44500  is  1.9307019\n",
            "Loss after epoch 45000  is  1.8955777\n",
            "Loss after epoch 45500  is  1.8617859\n",
            "Loss after epoch 46000  is  1.8292993\n",
            "Loss after epoch 46500  is  1.7980505\n",
            "Loss after epoch 47000  is  1.7679942\n",
            "Loss after epoch 47500  is  1.7391038\n",
            "Loss after epoch 48000  is  1.7113074\n",
            "Loss after epoch 48500  is  1.6845603\n",
            "Loss after epoch 49000  is  1.6588577\n",
            "Loss after epoch 49500  is  1.6341325\n",
            "Now testing the model in the test set\n",
            "The final loss is:  1.626684\n"
          ],
          "name": "stdout"
        },
        {
          "output_type": "display_data",
          "data": {
            "image/png": "[encoded data removed]",
            "text/plain": [
              "<matplotlib.figure.Figure at 0x7ff1d59470b8>"
            ]
          },
          "metadata": {
            "tags": []
          }
        }
      ]
    },
    {
      "metadata": {
        "id": "QOC7xuIuxOGr",
        "colab_type": "text"
      },
      "cell_type": "markdown",
      "source": [
        "thank you mlcc for teaching me!!!!"
      ]
    }
  ]
}