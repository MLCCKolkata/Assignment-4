{
  "nbformat": 4,
  "nbformat_minor": 0,
  "metadata": {
    "colab": {
      "name": "Solution_to_First_Date_with_Tensorflow.ipynb",
      "version": "0.3.2",
      "provenance": [],
      "collapsed_sections": [],
      "include_colab_link": true
    },
    "kernelspec": {
      "name": "python3",
      "display_name": "Python 3"
    }
  },
  "cells": [
    {
      "cell_type": "markdown",
      "metadata": {
        "id": "view-in-github",
        "colab_type": "text"
      },
      "source": [
        "[View in Colaboratory](https://colab.research.google.com/github/crazy-lazy-life/Assignment-4/blob/crazy-lazy-life/Solution_to_First_Date_with_Tensorflow.ipynb)"
      ]
    },
    {
      "metadata": {
        "id": "YKK7xnCRR8Ji",
        "colab_type": "text"
      },
      "cell_type": "markdown",
      "source": [
        "First_Date_With_Tensorflow"
      ]
    },
    {
      "metadata": {
        "id": "TW64x5eUR7Ac",
        "colab_type": "code",
        "colab": {}
      },
      "cell_type": "code",
      "source": [
        "import numpy as np\n",
        "import tensorflow as tf\n",
        "import matplotlib.pyplot as plt"
      ],
      "execution_count": 0,
      "outputs": []
    },
    {
      "metadata": {
        "id": "SY_34iziScYF",
        "colab_type": "code",
        "colab": {
          "base_uri": "https://localhost:8080/",
          "height": 255
        },
        "outputId": "17c74c5b-7686-4eaf-80d4-b358e2feeadf"
      },
      "cell_type": "code",
      "source": [
        "# Let's define some tensors\n",
        "t1 = tf.constant(2.0, dtype=tf.float32)\n",
        "t2 = tf.constant([1.0, 2.0], dtype=tf.float32)\n",
        "t3 = tf.constant([[[1.0, 9.0], [2.0, 3.0], [4.0, 5.0]], \n",
        "                  [[1.0, 9.0], [2.0, 3.0], [4.0, 5.0]]])\n",
        "# Let's print them out!\n",
        "print (t1)\n",
        "print (t2)\n",
        "print (t3)\n",
        "\n",
        "sess = tf.Session()\n",
        "print (sess.run(t1))\n",
        "print (\"=======================\")\n",
        "print (sess.run(t2))\n",
        "print (\"=======================\")\n",
        "print (sess.run(t3))\n",
        "sess.close()"
      ],
      "execution_count": 2,
      "outputs": [
        {
          "output_type": "stream",
          "text": [
            "Tensor(\"Const:0\", shape=(), dtype=float32)\n",
            "Tensor(\"Const_1:0\", shape=(2,), dtype=float32)\n",
            "Tensor(\"Const_2:0\", shape=(2, 3, 2), dtype=float32)\n",
            "2.0\n",
            "=======================\n",
            "[1. 2.]\n",
            "=======================\n",
            "[[[1. 9.]\n",
            "  [2. 3.]\n",
            "  [4. 5.]]\n",
            "\n",
            " [[1. 9.]\n",
            "  [2. 3.]\n",
            "  [4. 5.]]]\n"
          ],
          "name": "stdout"
        }
      ]
    },
    {
      "metadata": {
        "id": "rXKfVs_zb-kU",
        "colab_type": "text"
      },
      "cell_type": "markdown",
      "source": [
        "Aaahaa!! Just printed those tensors!!!<br/>\n",
        "Feels good! <br/>\n",
        "\n",
        "For some of you, who are like, dude you got \"No Theory Just Code\" in bold <br/>\n",
        "And you are still using the markdown cells for the theory ?!\n",
        "\n",
        "I am just gonna say I am a unreasonable man.<br/>\n",
        "\n",
        "\n",
        "So, you are programming with tf.<br/>\n",
        "What ever you do is broken down to 2 basic steps:\n",
        "- Building the computational Graph!\n",
        "- Execute that graph using `session`!\n",
        "\n",
        "That's all!\n",
        "\n",
        "<hr/>\n",
        "\n",
        "Let's compare this 2 steps with what we did above!<br/>\n",
        "So, I defined 3 `tensor`s and these 3 `tensor`s formed my computational Graph.<br/>\n",
        "And then I executed each tensor in this graph using a `session`.\n",
        "\n",
        "That simple!\n",
        "\n",
        "<hr/>\n",
        "\n",
        "Now, let's define a few more computational graphs and execute them with sessions.\n",
        "\n",
        "Okay, to start with let's build this computational graph!\n",
        "\n",
        "![Comp Graph 1](https://raw.githubusercontent.com/iArunava/TensorFlow-NoteBooks/master/assets/comp_graph_1.jpg)"
      ]
    },
    {
      "metadata": {
        "id": "j34li5NCS40F",
        "colab_type": "code",
        "colab": {
          "base_uri": "https://localhost:8080/",
          "height": 51
        },
        "outputId": "746e553c-77c9-477f-b004-7259a7c1b95d"
      },
      "cell_type": "code",
      "source": [
        "# Let's define the graph\n",
        "comp_graph_1 = tf.multiply(tf.add(78, 19), 79)\n",
        "\n",
        "# Alternatively\n",
        "comp_graph_1_alt = (tf.constant(78) + tf.constant(19)) * tf.constant(79)\n",
        "\n",
        "# Let's execute using session\n",
        "sess = tf.Session()\n",
        "print ('Comp Graph 1    : ', sess.run(comp_graph_1))\n",
        "print ('Comp Graph 1 Alt: ', sess.run(comp_graph_1_alt))\n",
        "sess.close()"
      ],
      "execution_count": 3,
      "outputs": [
        {
          "output_type": "stream",
          "text": [
            "Comp Graph 1    :  7663\n",
            "Comp Graph 1 Alt:  7663\n"
          ],
          "name": "stdout"
        }
      ]
    },
    {
      "metadata": {
        "id": "SVMMtuFYhaQB",
        "colab_type": "text"
      },
      "cell_type": "markdown",
      "source": [
        "Let's define a sligtly more involved graph!\n",
        "\n",
        "![alt text](https://raw.githubusercontent.com/iArunava/TensorFlow-NoteBooks/master/assets/comp_graph_2.jpg)"
      ]
    },
    {
      "metadata": {
        "id": "T1z8UfitTI7e",
        "colab_type": "code",
        "colab": {
          "base_uri": "https://localhost:8080/",
          "height": 68
        },
        "outputId": "691e2a9b-0b94-4121-f993-95fa2a7c693e"
      },
      "cell_type": "code",
      "source": [
        "# Let build the graph\n",
        "# We need to cast cause the tensors operated on should be of the same type\n",
        "comp_graph_part_1 = tf.cast(tf.subtract(tf.add(7, 8), tf.add(9, 10)), \n",
        "                            dtype=tf.float32)\n",
        "comp_graph_part_2 = tf.divide(tf.cast(tf.multiply(7, 10), dtype=tf.float32), tf.constant(19.5))\n",
        "comp_graph_complete = tf.maximum(comp_graph_part_1, comp_graph_part_2)\n",
        "\n",
        "# Let's execute\n",
        "sess = tf.Session()\n",
        "part1_res, part2_res, total_res = sess.run([comp_graph_part_1, comp_graph_part_2, comp_graph_complete])\n",
        "print ('Complete Result: ', total_res)\n",
        "print ('Part 1 Result: ', part1_res)\n",
        "print ('Part 2 Result: ', part2_res)\n",
        "sess.close()"
      ],
      "execution_count": 4,
      "outputs": [
        {
          "output_type": "stream",
          "text": [
            "Complete Result:  3.5897436\n",
            "Part 1 Result:  -4.0\n",
            "Part 2 Result:  3.5897436\n"
          ],
          "name": "stdout"
        }
      ]
    },
    {
      "metadata": {
        "id": "B-_ZDtEbj4N0",
        "colab_type": "text"
      },
      "cell_type": "markdown",
      "source": [
        "Cool! Let's go! Build another graph and execute it with sessions.<br/>\n",
        "\n",
        "But this time, it's all you!\n",
        "\n",
        "Build this graph and execute it with `session`!\n",
        "\n",
        "![alt text](https://raw.githubusercontent.com/iArunava/TensorFlow-NoteBooks/master/assets/comp_graph_3.jpg)\n",
        "\n",
        "_Remember that `tensors` operated on should be of the same type!_<br/>\n",
        "_Search up errors and other help you need on Google_"
      ]
    },
    {
      "metadata": {
        "id": "J-ZoUqlnTSEo",
        "colab_type": "code",
        "colab": {
          "base_uri": "https://localhost:8080/",
          "height": 34
        },
        "outputId": "80211188-649e-46b6-be05-4f44d78b9d21"
      },
      "cell_type": "code",
      "source": [
        "#Building the computational graph\n",
        "node_1 = tf.constant([9, 10], dtype = tf.float32, name=\"leaf_node_1\")\n",
        "node_2 = tf.constant([7, 8.65], dtype = tf.float32, name=\"leaf_node_2\")\n",
        "node_3 = tf.constant([7.65, 9], dtype = tf.float32, name=\"leaf_node_3\")\n",
        "node_4 = tf.constant([13.5, 7.18], dtype = tf.float32, name=\"leaf_node_4\")\n",
        "node_5 = tf.constant(5.6, dtype = tf.float32, name=\"leaf_node_5\")\n",
        "\n",
        "cg1 = tf.multiply(node_1, node_2)\n",
        "cg2 = tf.divide(cg1, node_5)\n",
        "cg3 = tf.add(node_3, node_4)\n",
        "cg4 = tf.minimum(cg2, cg3)\n",
        "\n",
        "with tf.Session() as sess:\n",
        "  print(sess.run(cg4))"
      ],
      "execution_count": 5,
      "outputs": [
        {
          "output_type": "stream",
          "text": [
            "[11.25     15.446429]\n"
          ],
          "name": "stdout"
        }
      ]
    },
    {
      "metadata": {
        "id": "Geo1lknNzO_G",
        "colab_type": "text"
      },
      "cell_type": "markdown",
      "source": [
        ""
      ]
    },
    {
      "metadata": {
        "id": "qmap38WelREN",
        "colab_type": "text"
      },
      "cell_type": "markdown",
      "source": [
        "Let's do another!<br/>\n",
        "It's fun! Isn't it?!\n",
        "\n",
        "Build and execute this one!\n",
        "\n",
        "![alt text](https://raw.githubusercontent.com/iArunava/TensorFlow-NoteBooks/master/assets/comp_graph_4.jpg)"
      ]
    },
    {
      "metadata": {
        "id": "NwVbnf2Y1M9B",
        "colab_type": "code",
        "colab": {
          "base_uri": "https://localhost:8080/",
          "height": 51
        },
        "outputId": "c758417d-add2-443a-c28d-e24bf6118195"
      },
      "cell_type": "code",
      "source": [
        "#Building the computational graph\n",
        "node_1 = tf.constant([[1.2,3.4],[7.5,8.6]], dtype = tf.float32, name=\"leaf_node_1\")\n",
        "node_2 = tf.constant([[7, 9],[8,6]], dtype = tf.float32, name=\"leaf_node_2\")\n",
        "node_3 = tf.constant([[2.79, 3.81, 5.6],[7.3, 5.67, 8.9]], dtype = tf.float32, name=\"leaf_node_3\")\n",
        "node_4 = tf.constant([[2.6, 18.1],[7.86, 9.81],[9.36, 10.11]], dtype = tf.float32, name=\"leaf_node_4\")\n",
        "node_4 = tf.transpose(node_4)\n",
        "\n",
        "cg7 = tf.multiply(node_3, node_4)\n",
        "cg8 = tf.reduce_mean(node_1, axis=1)\n",
        "cg9 = tf.multiply(node_2, cg8)\n",
        "cg10 = tf.reduce_sum(cg7)\n",
        "cg11 = tf.add(cg9, cg10)\n",
        "\n",
        "with tf.Session() as sess:\n",
        "  print(sess.run(cg11))"
      ],
      "execution_count": 6,
      "outputs": [
        {
          "output_type": "stream",
          "text": [
            "[[383.4483  439.7983 ]\n",
            " [385.7483  415.64832]]\n"
          ],
          "name": "stdout"
        }
      ]
    },
    {
      "metadata": {
        "id": "BnB0b6qCmGmg",
        "colab_type": "text"
      },
      "cell_type": "markdown",
      "source": [
        "And a final one, before we move on to the next part!\n",
        "\n",
        "![alt text](https://raw.githubusercontent.com/iArunava/TensorFlow-NoteBooks/master/assets/comp_graph_5.jpg)"
      ]
    },
    {
      "metadata": {
        "id": "s3seP9518uvw",
        "colab_type": "code",
        "colab": {
          "base_uri": "https://localhost:8080/",
          "height": 85
        },
        "outputId": "356ff601-f74e-4859-d207-fbeaea6fe77b"
      },
      "cell_type": "code",
      "source": [
        "#Building the computational graph\n",
        "node_1 = tf.constant(7.0, dtype = tf.float32, name=\"leaf_node_1\")\n",
        "node_2 = tf.constant([[7.36, 8.91, 10.41],[5.31, 9.38, 7.99]], dtype = tf.float32, name=\"leaf_node_2\")\n",
        "node_3 = tf.constant([[7.99, 10.36],[5.36, 7.98],[8.91, 5.67]], dtype = tf.float32, name=\"leaf_node_3\")\n",
        "node_4 = tf.constant([[1, 5.6, 6.1, 8],[0, 0, 7.98, 9],[0, 0, 7.6, 7],[0, 0, 0, 8.98]], dtype = tf.float32, name = \"leaf_node_4\")\n",
        "node_5 = tf.constant(19.6, dtype = tf.float32, name=\"leaf_node_5\")\n",
        "\n",
        "cg12 = tf.reduce_sum(tf.multiply(node_2, tf.transpose(node_3)))\n",
        "cg13 = tf.add(cg12, node_1)\n",
        "cg14 = tf.divide(cg13, node_5)\n",
        "cg15 = tf.divide(cg14, node_4)\n",
        "\n",
        "with tf.Session() as sess:\n",
        "  print(sess.run(cg15))"
      ],
      "execution_count": 7,
      "outputs": [
        {
          "output_type": "stream",
          "text": [
            "[[19.463488   3.475623   3.1907358  2.432936 ]\n",
            " [       inf        inf  2.4390335  2.1626098]\n",
            " [       inf        inf  2.5609853  2.7804983]\n",
            " [       inf        inf        inf  2.1674263]]\n"
          ],
          "name": "stdout"
        }
      ]
    },
    {
      "metadata": {
        "id": "12NC7XTPsJw7",
        "colab_type": "text"
      },
      "cell_type": "markdown",
      "source": [
        "# Linear Regression\n",
        "\n",
        "Okay, now we will create a dummy dataset and perform linear regression on this dataset."
      ]
    },
    {
      "metadata": {
        "id": "MEILryGpFRn-",
        "colab_type": "code",
        "colab": {}
      },
      "cell_type": "code",
      "source": [
        "# Create the dataset\n",
        "X = np.linspace(-30.0, 300.0, 300)\n",
        "Y = 2 * np.linspace(-30.0, 250.0, 300) + np.random.randn(*X.shape)\n",
        "\n",
        "#print(X)\n",
        "#print(Y)\n",
        "#Normalizing the dataset\n",
        "X = X / np.max(X)\n",
        "Y = Y / np.max(Y)\n",
        "\n",
        "# Divide it into train and test\n",
        "train_X = X[:250]\n",
        "train_Y = Y[:250]\n",
        "\n",
        "test_X = X[250:]\n",
        "test_Y = Y[250:]"
      ],
      "execution_count": 0,
      "outputs": []
    },
    {
      "metadata": {
        "id": "vQljC__QF6hk",
        "colab_type": "code",
        "colab": {}
      },
      "cell_type": "code",
      "source": [
        "# Let's define the hyperparameters\n",
        "learning_rate = 0.000005\n",
        "n_epochs = 1000\n",
        "interval = 50"
      ],
      "execution_count": 0,
      "outputs": []
    },
    {
      "metadata": {
        "id": "toz7KwbXGVkT",
        "colab_type": "code",
        "colab": {
          "base_uri": "https://localhost:8080/",
          "height": 347
        },
        "outputId": "e4aa66de-f450-4c0f-cb29-2d413f7bd2e0"
      },
      "cell_type": "code",
      "source": [
        "# let's viz the first 10 datapoints of the dataset\n",
        "plt.plot(train_X[:10], train_Y[:10], 'g')\n",
        "plt.show()"
      ],
      "execution_count": 14,
      "outputs": [
        {
          "output_type": "display_data",
          "data": {
            "image/png": "[encoded data removed]",
            "text/plain": [
              "<matplotlib.figure.Figure at 0x7fd800c47c88>"
            ]
          },
          "metadata": {
            "tags": []
          }
        }
      ]
    },
    {
      "metadata": {
        "id": "8RzXk8DtGWT_",
        "colab_type": "code",
        "colab": {
          "base_uri": "https://localhost:8080/",
          "height": 721
        },
        "outputId": "93358bed-8c05-4ff8-f936-e66951ec149c"
      },
      "cell_type": "code",
      "source": [
        "#Creating the placeholders\n",
        "x = tf.placeholder(tf.float32, name=\"x\")\n",
        "y = tf.placeholder(tf.float32, name=\"y\")\n",
        "\n",
        "\n",
        "W = tf.Variable(0.0, name='weight_1')\n",
        "b = tf.Variable(0.0, name='bias_1')\n",
        "\n",
        "pred_y = (W*x) + b\n",
        "\n",
        "loss = tf.reduce_mean(tf.square(y - pred_y))\n",
        "\n",
        "optimizer = tf.train.GradientDescentOptimizer(learning_rate=learning_rate).minimize(loss)\n",
        "\n",
        "with tf.Session() as sess:\n",
        "\n",
        "  sess.run(tf.global_variables_initializer())\n",
        "  \n",
        "  for epoch in range(n_epochs):\n",
        "    _, curr_loss = sess.run([optimizer, loss], feed_dict={x:train_X, y:train_Y})\n",
        "    \n",
        "    if epoch % interval == 0:\n",
        "      print ('Loss after epoch', epoch, ' is ', curr_loss)\n",
        "    \n",
        "  print ('Now testing the model in the test set')\n",
        "  final_preds, final_loss = sess.run([pred_y, loss], feed_dict={x:test_X, y:test_Y})\n",
        "    \n",
        "  print ('The final loss is: ', final_loss)\n",
        "  \n",
        "  plt.plot(test_X[:10], test_Y[:10], 'g', label='True Function')\n",
        "  plt.plot(test_X[:10], final_preds[:10], 'r', label='Predicted Function')\n",
        "  plt.legend()\n",
        "  plt.show()"
      ],
      "execution_count": 15,
      "outputs": [
        {
          "output_type": "stream",
          "text": [
            "Loss after epoch 0  is  0.1941911\n",
            "Loss after epoch 50  is  0.19403192\n",
            "Loss after epoch 100  is  0.19387293\n",
            "Loss after epoch 150  is  0.19371411\n",
            "Loss after epoch 200  is  0.19355547\n",
            "Loss after epoch 250  is  0.193397\n",
            "Loss after epoch 300  is  0.19323872\n",
            "Loss after epoch 350  is  0.19308062\n",
            "Loss after epoch 400  is  0.19292267\n",
            "Loss after epoch 450  is  0.19276491\n",
            "Loss after epoch 500  is  0.19260734\n",
            "Loss after epoch 550  is  0.19244994\n",
            "Loss after epoch 600  is  0.1922927\n",
            "Loss after epoch 650  is  0.19213565\n",
            "Loss after epoch 700  is  0.19197878\n",
            "Loss after epoch 750  is  0.19182205\n",
            "Loss after epoch 800  is  0.1916655\n",
            "Loss after epoch 850  is  0.19150916\n",
            "Loss after epoch 900  is  0.19135296\n",
            "Loss after epoch 950  is  0.19119698\n",
            "Now testing the model in the test set\n",
            "The final loss is:  0.82333696\n"
          ],
          "name": "stdout"
        },
        {
          "output_type": "display_data",
          "data": {
            "image/png": "[encoded data removed]",
            "text/plain": [
              "<matplotlib.figure.Figure at 0x7fd7fe2aaf60>"
            ]
          },
          "metadata": {
            "tags": []
          }
        }
      ]
    },
    {
      "metadata": {
        "id": "obvL33e38wkp",
        "colab_type": "code",
        "colab": {
          "base_uri": "https://localhost:8080/",
          "height": 415
        },
        "outputId": "20980253-daa4-48d3-c977-288a5c8d0e55"
      },
      "cell_type": "code",
      "source": [
        "# Create the dataset\n",
        "X = np.linspace(-30.0, 300.0, 300)\n",
        "Y = 2 * np.linspace(-30.0, 250.0, 300) + np.random.randn(*X.shape)\n",
        "\n",
        "# Normalize the dataset\n",
        "X = X / np.max(X)\n",
        "Y = Y / np.max(Y)\n",
        "\n",
        "# Divide it into train and test\n",
        "train_X = X[:250]\n",
        "train_Y = Y[:250]\n",
        "\n",
        "test_X = X[250:]\n",
        "test_Y = Y[250:]\n",
        "\n",
        "def linear_regression(learning_rate, n_epochs, interval):  \n",
        "\n",
        "  #Creating the placeholders\n",
        "  x = tf.placeholder(tf.float32, name=\"x\")\n",
        "  y = tf.placeholder(tf.float32, name=\"y\")\n",
        "\n",
        "\n",
        "  W = tf.Variable(0.0, name='weight_1')\n",
        "  b = tf.Variable(0.0, name='bias_1')\n",
        "\n",
        "  pred_y = (W*x) + b\n",
        "\n",
        "  loss = tf.reduce_mean(tf.square(y - pred_y))\n",
        "\n",
        "  optimizer = tf.train.GradientDescentOptimizer(learning_rate=learning_rate).minimize(loss)\n",
        "\n",
        "  with tf.Session() as sess:\n",
        "\n",
        "    sess.run(tf.global_variables_initializer())\n",
        "\n",
        "    for epoch in range(n_epochs):\n",
        "      _, curr_loss = sess.run([optimizer, loss], feed_dict={x:train_X, y:train_Y})\n",
        "\n",
        "      if epoch % interval == 0:\n",
        "        print ('Loss after epoch', epoch, ' is ', curr_loss)\n",
        "\n",
        "    print ('Now testing the model in the test set')\n",
        "    final_preds, final_loss = sess.run([pred_y, loss], feed_dict={x:test_X, y:test_Y})\n",
        "\n",
        "    print ('The final loss is: ', final_loss)\n",
        "\n",
        "    plt.plot(test_X[:10], test_Y[:10], 'g', label='True Function')\n",
        "    plt.plot(test_X[:10], final_preds[:10], 'r', label='Predicted Function')\n",
        "    plt.legend()\n",
        "    plt.show()\n",
        "    \n",
        "linear_regression(learning_rate=0.000005, n_epochs=100, interval=50)"
      ],
      "execution_count": 17,
      "outputs": [
        {
          "output_type": "stream",
          "text": [
            "Loss after epoch 0  is  0.1922823\n",
            "Loss after epoch 50  is  0.19212465\n",
            "Now testing the model in the test set\n",
            "The final loss is:  0.8234747\n"
          ],
          "name": "stdout"
        },
        {
          "output_type": "display_data",
          "data": {
            "image/png": "[encoded data removed]",
            "text/plain": [
              "<matplotlib.figure.Figure at 0x7fd7fe1799b0>"
            ]
          },
          "metadata": {
            "tags": []
          }
        }
      ]
    },
    {
      "metadata": {
        "id": "WIuwnz9Ox12R",
        "colab_type": "code",
        "colab": {
          "base_uri": "https://localhost:8080/",
          "height": 551
        },
        "outputId": "e2d4cee0-aa9d-4ca9-bf55-27313239eeca"
      },
      "cell_type": "code",
      "source": [
        "linear_regression(learning_rate=0.000034, n_epochs=500, interval = 50)"
      ],
      "execution_count": 19,
      "outputs": [
        {
          "output_type": "stream",
          "text": [
            "Loss after epoch 0  is  0.1922823\n",
            "Loss after epoch 50  is  0.19121365\n",
            "Loss after epoch 100  is  0.19015308\n",
            "Loss after epoch 150  is  0.18910047\n",
            "Loss after epoch 200  is  0.18805581\n",
            "Loss after epoch 250  is  0.18701902\n",
            "Loss after epoch 300  is  0.18599004\n",
            "Loss after epoch 350  is  0.18496881\n",
            "Loss after epoch 400  is  0.18395527\n",
            "Loss after epoch 450  is  0.18294935\n",
            "Now testing the model in the test set\n",
            "The final loss is:  0.7930045\n"
          ],
          "name": "stdout"
        },
        {
          "output_type": "display_data",
          "data": {
            "image/png": "[encoded data removed]",
            "text/plain": [
              "<matplotlib.figure.Figure at 0x7fd80f285e80>"
            ]
          },
          "metadata": {
            "tags": []
          }
        }
      ]
    },
    {
      "metadata": {
        "id": "oYxi_5dNx_Hc",
        "colab_type": "code",
        "colab": {
          "base_uri": "https://localhost:8080/",
          "height": 721
        },
        "outputId": "d099c70c-7136-4719-f795-b39dfd3c2f9b"
      },
      "cell_type": "code",
      "source": [
        "linear_regression(learning_rate=0.0000006, n_epochs=1000, interval=50)"
      ],
      "execution_count": 20,
      "outputs": [
        {
          "output_type": "stream",
          "text": [
            "Loss after epoch 0  is  0.1922823\n",
            "Loss after epoch 50  is  0.1922634\n",
            "Loss after epoch 100  is  0.19224446\n",
            "Loss after epoch 150  is  0.19222555\n",
            "Loss after epoch 200  is  0.19220662\n",
            "Loss after epoch 250  is  0.1921877\n",
            "Loss after epoch 300  is  0.19216877\n",
            "Loss after epoch 350  is  0.19214988\n",
            "Loss after epoch 400  is  0.19213097\n",
            "Loss after epoch 450  is  0.19211206\n",
            "Loss after epoch 500  is  0.19209315\n",
            "Loss after epoch 550  is  0.19207424\n",
            "Loss after epoch 600  is  0.19205534\n",
            "Loss after epoch 650  is  0.19203645\n",
            "Loss after epoch 700  is  0.19201757\n",
            "Loss after epoch 750  is  0.19199866\n",
            "Loss after epoch 800  is  0.19197978\n",
            "Loss after epoch 850  is  0.19196089\n",
            "Loss after epoch 900  is  0.19194202\n",
            "Loss after epoch 950  is  0.19192313\n",
            "Now testing the model in the test set\n",
            "The final loss is:  0.823285\n"
          ],
          "name": "stdout"
        },
        {
          "output_type": "display_data",
          "data": {
            "image/png": "[encoded data removed]",
            "text/plain": [
              "<matplotlib.figure.Figure at 0x7fd81df49400>"
            ]
          },
          "metadata": {
            "tags": []
          }
        }
      ]
    },
    {
      "metadata": {
        "id": "RjiHdLMNyNyB",
        "colab_type": "code",
        "colab": {}
      },
      "cell_type": "code",
      "source": [
        ""
      ],
      "execution_count": 0,
      "outputs": []
    }
  ]
}