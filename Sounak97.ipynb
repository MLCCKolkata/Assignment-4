{
  "nbformat": 4,
  "nbformat_minor": 0,
  "metadata": {
    "colab": {
      "name": "Sounak97.ipynb",
      "version": "0.3.2",
      "provenance": [],
      "include_colab_link": true
    },
    "kernelspec": {
      "name": "python3",
      "display_name": "Python 3"
    }
  },
  "cells": [
    {
      "cell_type": "markdown",
      "metadata": {
        "id": "view-in-github",
        "colab_type": "text"
      },
      "source": [
        "[View in Colaboratory](https://colab.research.google.com/github/Sounak97/Assignment-4/blob/Sounak97/Sounak97.ipynb)"
      ]
    },
    {
      "metadata": {
        "id": "dPQAEAWLvlo0",
        "colab_type": "code",
        "colab": {}
      },
      "cell_type": "code",
      "source": [
        "import numpy as np \n",
        "import pandas as pd\n",
        "import tensorflow as tf\n",
        "import matplotlib.pyplot as plt"
      ],
      "execution_count": 0,
      "outputs": []
    },
    {
      "metadata": {
        "id": "UFUayVcqwCFF",
        "colab_type": "text"
      },
      "cell_type": "markdown",
      "source": [
        "Defining tensors\n"
      ]
    },
    {
      "metadata": {
        "id": "8DQcGHP6wFGm",
        "colab_type": "code",
        "colab": {}
      },
      "cell_type": "code",
      "source": [
        "t1=tf.constant(2.0,dtype=tf.float32)\n",
        "t2=tf.constant([1.0,2.0],dtype=tf.float32)\n",
        "t3=tf.constant([[[1.0,9.0],[2.0,3.0],[4.0,5.0]],[[1.0,9.0],[2.0,3.0],[4.0,5.0]]])\n"
      ],
      "execution_count": 0,
      "outputs": []
    },
    {
      "metadata": {
        "id": "gkuzjcWax6EZ",
        "colab_type": "code",
        "colab": {
          "base_uri": "https://localhost:8080/",
          "height": 67
        },
        "outputId": "4f23d5fe-50ca-429a-bb88-37d633ad7073"
      },
      "cell_type": "code",
      "source": [
        "print(t1)\n",
        "print(t2)\n",
        "print(t3)"
      ],
      "execution_count": 45,
      "outputs": [
        {
          "output_type": "stream",
          "text": [
            "Tensor(\"Const_15:0\", shape=(), dtype=float32)\n",
            "Tensor(\"Const_16:0\", shape=(2,), dtype=float32)\n",
            "Tensor(\"Const_17:0\", shape=(2, 3, 2), dtype=float32)\n"
          ],
          "name": "stdout"
        }
      ]
    },
    {
      "metadata": {
        "id": "4IhNWKk4yXVq",
        "colab_type": "text"
      },
      "cell_type": "markdown",
      "source": [
        "Using sessions to get the values ofmthe tensors"
      ]
    },
    {
      "metadata": {
        "id": "c3xngmddyZ3t",
        "colab_type": "code",
        "colab": {
          "base_uri": "https://localhost:8080/",
          "height": 202
        },
        "outputId": "985d002e-9bb6-4bd2-b833-22e4ea21544e"
      },
      "cell_type": "code",
      "source": [
        "sess = tf.Session()\n",
        "print (sess.run(t1))\n",
        "print (\"=======================\")\n",
        "print (sess.run(t2))\n",
        "print (\"=======================\")\n",
        "print (sess.run(t3))\n",
        "sess.close()"
      ],
      "execution_count": 46,
      "outputs": [
        {
          "output_type": "stream",
          "text": [
            "2.0\n",
            "=======================\n",
            "[1. 2.]\n",
            "=======================\n",
            "[[[1. 9.]\n",
            "  [2. 3.]\n",
            "  [4. 5.]]\n",
            "\n",
            " [[1. 9.]\n",
            "  [2. 3.]\n",
            "  [4. 5.]]]\n"
          ],
          "name": "stdout"
        }
      ]
    },
    {
      "metadata": {
        "id": "UMB4dUMtzyUD",
        "colab_type": "text"
      },
      "cell_type": "markdown",
      "source": [
        "Computational Graph Example 1"
      ]
    },
    {
      "metadata": {
        "id": "OYim7HYtz0hI",
        "colab_type": "code",
        "colab": {
          "base_uri": "https://localhost:8080/",
          "height": 50
        },
        "outputId": "daa3515a-e513-4da8-b91a-24f4dee8a469"
      },
      "cell_type": "code",
      "source": [
        "#process1\n",
        "comp_graph_ex1=tf.multiply(tf.add(78.0,19.0),79)#no dtype needed when casting not used\n",
        "#process 2\n",
        "comp_graph_ex1alt=(tf.constant(78)+tf.constant(19))*tf.constant(79)\n",
        "sess=tf.Session()\n",
        "print(sess.run(comp_graph_ex1))\n",
        "print(sess.run(comp_graph_ex1alt))\n",
        "sess.close()\n"
      ],
      "execution_count": 47,
      "outputs": [
        {
          "output_type": "stream",
          "text": [
            "7663.0\n",
            "7663\n"
          ],
          "name": "stdout"
        }
      ]
    },
    {
      "metadata": {
        "id": "tAl6wUydS37F",
        "colab_type": "text"
      },
      "cell_type": "markdown",
      "source": [
        "Bulding the second example graph"
      ]
    },
    {
      "metadata": {
        "id": "hSNQ78UTS_Rb",
        "colab_type": "code",
        "colab": {
          "base_uri": "https://localhost:8080/",
          "height": 34
        },
        "outputId": "ed83a6a9-6682-49cd-bdf9-ca7800fe7a94"
      },
      "cell_type": "code",
      "source": [
        "comp2_part1=tf.cast(tf.subtract(tf.add(7,8),tf.add(9,10)),dtype=tf.float32)\n",
        "sess=tf.Session()\n",
        "print(sess.run(comp2_part1))\n",
        "sess.close()"
      ],
      "execution_count": 48,
      "outputs": [
        {
          "output_type": "stream",
          "text": [
            "-4.0\n"
          ],
          "name": "stdout"
        }
      ]
    },
    {
      "metadata": {
        "id": "2HX-0xSvUeyR",
        "colab_type": "code",
        "colab": {
          "base_uri": "https://localhost:8080/",
          "height": 34
        },
        "outputId": "66204e82-80be-4f88-ec70-a0d3e98a6e1b"
      },
      "cell_type": "code",
      "source": [
        "comp2_part2=tf.divide(tf.cast(tf.multiply(7,10),dtype=tf.float32),tf.constant(19.5))\n",
        "sess=tf.Session()\n",
        "print(sess.run(comp2_part2))\n",
        "sess.close()"
      ],
      "execution_count": 49,
      "outputs": [
        {
          "output_type": "stream",
          "text": [
            "3.5897436\n"
          ],
          "name": "stdout"
        }
      ]
    },
    {
      "metadata": {
        "id": "X2-VcbZJWMbJ",
        "colab_type": "code",
        "colab": {
          "base_uri": "https://localhost:8080/",
          "height": 34
        },
        "outputId": "b25b9242-b673-4ac7-a1a4-7af18a107567"
      },
      "cell_type": "code",
      "source": [
        "comp2_full=tf.maximum(comp2_part1,comp2_part2)\n",
        "sess=tf.Session()\n",
        "print(sess.run(comp2_full))\n",
        "sess.close()"
      ],
      "execution_count": 50,
      "outputs": [
        {
          "output_type": "stream",
          "text": [
            "3.5897436\n"
          ],
          "name": "stdout"
        }
      ]
    },
    {
      "metadata": {
        "id": "gHS-wMyaWp9x",
        "colab_type": "text"
      },
      "cell_type": "markdown",
      "source": [
        "Evaluating test graph 1"
      ]
    },
    {
      "metadata": {
        "id": "ka5JUPueWr-h",
        "colab_type": "code",
        "colab": {}
      },
      "cell_type": "code",
      "source": [
        "test1_node1=tf.constant([9,10],dtype=tf.float32,name=\"leaf1\")\n",
        "test1_node2=tf.constant([7,8.65],dtype=tf.float32,name=\"leaf2\")\n",
        "test1_node3=tf.constant([7.65,9],dtype=tf.float32,name=\"leaf3\")\n",
        "test1_node4=tf.constant([13.5,7.18],dtype=tf.float32,name=\"leaf4\")\n",
        "\n"
      ],
      "execution_count": 0,
      "outputs": []
    },
    {
      "metadata": {
        "id": "tMr0BqF6Zrcp",
        "colab_type": "code",
        "colab": {}
      },
      "cell_type": "code",
      "source": [
        "test1_res1=tf.multiply(test1_node1,test1_node2)\n",
        "test1_sf1=tf.divide(test1_res1,5.6)\n",
        "test1_sf2=tf.add(test1_node3,test1_node4)\n",
        "test1_ans=tf.minimum(test1_sf1,test1_sf2)"
      ],
      "execution_count": 0,
      "outputs": []
    },
    {
      "metadata": {
        "id": "Vj8lzrdraQjn",
        "colab_type": "code",
        "colab": {
          "base_uri": "https://localhost:8080/",
          "height": 34
        },
        "outputId": "b127adff-75f5-4628-91ae-80ade6a7fb21"
      },
      "cell_type": "code",
      "source": [
        "sess=tf.Session()\n",
        "print(sess.run(test1_ans))\n",
        "sess.close()"
      ],
      "execution_count": 53,
      "outputs": [
        {
          "output_type": "stream",
          "text": [
            "[11.25     15.446429]\n"
          ],
          "name": "stdout"
        }
      ]
    },
    {
      "metadata": {
        "id": "eSCdkjMmeUUv",
        "colab_type": "text"
      },
      "cell_type": "markdown",
      "source": [
        "Evaluating test  graph 2"
      ]
    },
    {
      "metadata": {
        "id": "YR-sI2hFekgw",
        "colab_type": "code",
        "colab": {}
      },
      "cell_type": "code",
      "source": [
        "test2_node1=tf.constant([[7.2,3.4],[7.5,8.6]],dtype=tf.float32,name=\"leaf2_1\")\n",
        "test2_node2=tf.constant([[7,9],[8,6]],dtype=tf.float32,name=\"leaf2_2\")\n",
        "test2_node3=tf.constant([[2.79,3.81,5.6],[7.3,5.67,8.9]],dtype=tf.float32,name=\"leaf2_3\")\n",
        "test2_node4=tf.constant([[2.6,18.1],[7.86,9.81],[9.36,10.41]],dtype=tf.float32,name=\"leaf2_4\")"
      ],
      "execution_count": 0,
      "outputs": []
    },
    {
      "metadata": {
        "id": "hFJW0t78gM2s",
        "colab_type": "code",
        "colab": {}
      },
      "cell_type": "code",
      "source": [
        "test2_node1=tf.reduce_mean(test2_node1,1)\n",
        "test2_res1=tf.multiply(test2_node1,test2_node2)"
      ],
      "execution_count": 0,
      "outputs": []
    },
    {
      "metadata": {
        "id": "QeqcaNpGqPlD",
        "colab_type": "code",
        "colab": {}
      },
      "cell_type": "code",
      "source": [
        "test2_node4=tf.transpose(test2_node4)"
      ],
      "execution_count": 0,
      "outputs": []
    },
    {
      "metadata": {
        "id": "gStyTNwgqpTd",
        "colab_type": "code",
        "colab": {}
      },
      "cell_type": "code",
      "source": [
        "test2_res2=tf.multiply(test2_node4,test2_node3)"
      ],
      "execution_count": 0,
      "outputs": []
    },
    {
      "metadata": {
        "id": "O_-eaoCirBw6",
        "colab_type": "code",
        "colab": {}
      },
      "cell_type": "code",
      "source": [
        "test2_res2=tf.reduce_sum(test2_res2)"
      ],
      "execution_count": 0,
      "outputs": []
    },
    {
      "metadata": {
        "id": "Op4SPM2FrZtf",
        "colab_type": "code",
        "colab": {
          "base_uri": "https://localhost:8080/",
          "height": 50
        },
        "outputId": "ca0d6ba8-47b1-443b-bc8a-bc54cc0f5333"
      },
      "cell_type": "code",
      "source": [
        "test2_res=tf.add(test2_res1,test2_res2)\n",
        "sess=tf.Session()\n",
        "print(sess.run(test2_res))\n",
        "sess.close()"
      ],
      "execution_count": 66,
      "outputs": [
        {
          "output_type": "stream",
          "text": [
            "[[407.1183  442.4683 ]\n",
            " [412.41827 418.3183 ]]\n"
          ],
          "name": "stdout"
        }
      ]
    },
    {
      "metadata": {
        "id": "C0BtbhHqszeR",
        "colab_type": "text"
      },
      "cell_type": "markdown",
      "source": [
        "Evaluating test graph 3"
      ]
    },
    {
      "metadata": {
        "id": "5g1sWeKKs2lD",
        "colab_type": "code",
        "colab": {}
      },
      "cell_type": "code",
      "source": [
        "test3_node1=tf.constant([[7.36,8.91,10.41],[5.31,9.38,7.99]],dtype=tf.float32)\n",
        "test3_node2=tf.constant([[7.99,10.36],[5.36,7.98],[8.91,5.67]],dtype=tf.float32)\n",
        "test3_node3=tf.constant([[1,5.61,6.1,8],[0,0,7.98,9],[0,0,7.67,7],[0,0,0,8.98]],dtype=tf.float32)\n",
        "\n"
      ],
      "execution_count": 0,
      "outputs": []
    },
    {
      "metadata": {
        "id": "O2spa_vauZDn",
        "colab_type": "code",
        "colab": {}
      },
      "cell_type": "code",
      "source": [
        "test3_node2=tf.transpose(test3_node2)"
      ],
      "execution_count": 0,
      "outputs": []
    },
    {
      "metadata": {
        "id": "efTIqUM-vXiE",
        "colab_type": "code",
        "colab": {}
      },
      "cell_type": "code",
      "source": [
        "test3_node2=tf.multiply(test3_node1,test3_node2)"
      ],
      "execution_count": 0,
      "outputs": []
    },
    {
      "metadata": {
        "id": "DIJPKSuZvi8x",
        "colab_type": "code",
        "colab": {}
      },
      "cell_type": "code",
      "source": [
        "test3_node2=tf.reduce_sum(test3_node2)"
      ],
      "execution_count": 0,
      "outputs": []
    },
    {
      "metadata": {
        "id": "cqMs4FYNvsjN",
        "colab_type": "code",
        "colab": {}
      },
      "cell_type": "code",
      "source": [
        "test3_node2=tf.add(test3_node2,7.0)"
      ],
      "execution_count": 0,
      "outputs": []
    },
    {
      "metadata": {
        "id": "4XcKCBxevzSO",
        "colab_type": "code",
        "colab": {}
      },
      "cell_type": "code",
      "source": [
        "test3_node2=tf.divide(test3_node2,19.6)"
      ],
      "execution_count": 0,
      "outputs": []
    },
    {
      "metadata": {
        "id": "q9Sh3X1Qv6wY",
        "colab_type": "code",
        "colab": {}
      },
      "cell_type": "code",
      "source": [
        "test3_res=tf.divide(test3_node2,test3_node3)"
      ],
      "execution_count": 0,
      "outputs": []
    },
    {
      "metadata": {
        "id": "PmVvTZ78wDP_",
        "colab_type": "code",
        "colab": {
          "base_uri": "https://localhost:8080/",
          "height": 84
        },
        "outputId": "f86bf079-8bde-4975-e12a-2ce32ee0e818"
      },
      "cell_type": "code",
      "source": [
        "sess=tf.Session()\n",
        "print(sess.run(test3_res))\n",
        "sess.close()"
      ],
      "execution_count": 82,
      "outputs": [
        {
          "output_type": "stream",
          "text": [
            "[[19.463488   3.4694273  3.1907358  2.432936 ]\n",
            " [       inf        inf  2.4390335  2.1626098]\n",
            " [       inf        inf  2.5376124  2.7804983]\n",
            " [       inf        inf        inf  2.1674263]]\n"
          ],
          "name": "stdout"
        }
      ]
    },
    {
      "metadata": {
        "id": "arMbqrblwdcL",
        "colab_type": "text"
      },
      "cell_type": "markdown",
      "source": [
        "LINEAR **REGRESSION** **bold text**"
      ]
    },
    {
      "metadata": {
        "id": "xb5cwgyvwiGU",
        "colab_type": "code",
        "colab": {}
      },
      "cell_type": "code",
      "source": [
        "#dataset creation\n",
        "X=np.linspace(-30.0,300,300)\n",
        "Y=2*np.linspace(-30.0,250,300)+np.random.randn(*X.shape)\n",
        "#division into test and training set\n",
        "train_X=X[:250]\n",
        "train_Y=Y[:250]\n",
        "\n",
        "test_X=X[250:]\n",
        "test_Y=Y[250:]\n",
        "        "
      ],
      "execution_count": 0,
      "outputs": []
    },
    {
      "metadata": {
        "id": "Gv6vV2BEx9RG",
        "colab_type": "code",
        "colab": {}
      },
      "cell_type": "code",
      "source": [
        "#defining hyperparameters\n",
        "lr=0.000005\n",
        "ep=1000\n",
        "int=50"
      ],
      "execution_count": 0,
      "outputs": []
    },
    {
      "metadata": {
        "id": "pppqi9ThyhkZ",
        "colab_type": "code",
        "colab": {
          "base_uri": "https://localhost:8080/",
          "height": 347
        },
        "outputId": "16c4a389-256d-49c0-a6c6-9b092ee330b2"
      },
      "cell_type": "code",
      "source": [
        "#visualising 10 datapoints\n",
        "plt.plot(train_X[:10],train_Y[:10],'g')\n",
        "plt.show()"
      ],
      "execution_count": 85,
      "outputs": [
        {
          "output_type": "display_data",
          "data": {
            "image/png": "[encoded data removed]",
            "text/plain": [
              "<matplotlib.figure.Figure at 0x7f078a323ba8>"
            ]
          },
          "metadata": {
            "tags": []
          }
        }
      ]
    },
    {
      "metadata": {
        "id": "U2unbvpOzrOq",
        "colab_type": "code",
        "colab": {}
      },
      "cell_type": "code",
      "source": [
        "x=tf.placeholder(tf.float32,name='x')\n",
        "y=tf.placeholder(tf.float32,name='y')\n"
      ],
      "execution_count": 0,
      "outputs": []
    },
    {
      "metadata": {
        "id": "VykiC3NF0Woe",
        "colab_type": "code",
        "colab": {}
      },
      "cell_type": "code",
      "source": [
        "W = tf.Variable(0.0, name='weight_1')\n",
        "b = tf.Variable(0.0, name='bias_1')\n",
        "\n",
        "pred_y = (W*x) + b"
      ],
      "execution_count": 0,
      "outputs": []
    },
    {
      "metadata": {
        "id": "8T1hDY5U0c6K",
        "colab_type": "code",
        "colab": {}
      },
      "cell_type": "code",
      "source": [
        "loss=tf.reduce_mean(tf.square(y-pred_y))#defining loss function,as mean squared loss"
      ],
      "execution_count": 0,
      "outputs": []
    },
    {
      "metadata": {
        "id": "-lwdUE0E0uDU",
        "colab_type": "code",
        "colab": {}
      },
      "cell_type": "code",
      "source": [
        "#optimizer defining and specifying which value has to be minimized(in this case=loss)\n",
        "optimizer=tf.train.GradientDescentOptimizer(learning_rate=lr).minimize(loss)\n"
      ],
      "execution_count": 0,
      "outputs": []
    },
    {
      "metadata": {
        "id": "luOsNhgG147U",
        "colab_type": "code",
        "colab": {
          "base_uri": "https://localhost:8080/",
          "height": 17181
        },
        "outputId": "4c23b225-2aab-4023-d78d-03b7764f6902"
      },
      "cell_type": "code",
      "source": [
        "# So the graph is now built\n",
        "# Now let's execute the graph using session\n",
        "#train the model\n",
        "# To update the paramters in the graph (i.e. tf.Variables)\n",
        "# So that the loss is minimized\n",
        "with tf.Session() as sess:\n",
        "  sess.run(tf.global_variables_initializer())#initializing variables\n",
        "  \n",
        "  for epoch in range(ep):\n",
        "    _,curr_loss=sess.run([optimizer,loss],feed_dict={x:train_X,y:train_Y})\n",
        "    if ep % int==0:\n",
        "      print(\"Loss after epoch\",ep,\" is \",curr_loss)\n",
        "   \n",
        "  print ('Now testing the model in the test set')\n",
        "  final_preds, final_loss = sess.run([pred_y, loss], feed_dict={x:test_X, y:test_Y})\n",
        "   \n",
        "  print(\"The final loss is:\",final_loss)\n",
        "  \n",
        "  #Plotting the final predictions against the true predictions\n",
        "  \n",
        "  plt.plot(test_X[:10], test_Y[:10], 'g', label='True Function')\n",
        "  plt.plot(test_X[:10], final_preds[:10], 'r', label='Predicted Function')\n",
        "  plt.legend()\n",
        "  plt.show()"
      ],
      "execution_count": 92,
      "outputs": [
        {
          "output_type": "stream",
          "text": [
            "Loss after epoch 1000  is  48201.82\n",
            "Loss after epoch 1000  is  32514.393\n",
            "Loss after epoch 1000  is  21935.615\n",
            "Loss after epoch 1000  is  14801.842\n",
            "Loss after epoch 1000  is  9991.2\n",
            "Loss after epoch 1000  is  6747.1577\n",
            "Loss after epoch 1000  is  4559.5435\n",
            "Loss after epoch 1000  is  3084.3308\n",
            "Loss after epoch 1000  is  2089.5254\n",
            "Loss after epoch 1000  is  1418.6813\n",
            "Loss after epoch 1000  is  966.29865\n",
            "Loss after epoch 1000  is  661.23553\n",
            "Loss after epoch 1000  is  455.51712\n",
            "Loss after epoch 1000  is  316.7908\n",
            "Loss after epoch 1000  is  223.24173\n",
            "Loss after epoch 1000  is  160.15659\n",
            "Loss after epoch 1000  is  117.615265\n",
            "Loss after epoch 1000  is  88.927734\n",
            "Loss after epoch 1000  is  69.58228\n",
            "Loss after epoch 1000  is  56.536533\n",
            "Loss after epoch 1000  is  47.739346\n",
            "Loss after epoch 1000  is  41.80677\n",
            "Loss after epoch 1000  is  37.806087\n",
            "Loss after epoch 1000  is  35.108215\n",
            "Loss after epoch 1000  is  33.28887\n",
            "Loss after epoch 1000  is  32.06185\n",
            "Loss after epoch 1000  is  31.234419\n",
            "Loss after epoch 1000  is  30.676388\n",
            "Loss after epoch 1000  is  30.299934\n",
            "Loss after epoch 1000  is  30.046068\n",
            "Loss after epoch 1000  is  29.874825\n",
            "Loss after epoch 1000  is  29.759256\n",
            "Loss after epoch 1000  is  29.681257\n",
            "Loss after epoch 1000  is  29.628601\n",
            "Loss after epoch 1000  is  29.59302\n",
            "Loss after epoch 1000  is  29.568983\n",
            "Loss after epoch 1000  is  29.552683\n",
            "Loss after epoch 1000  is  29.541632\n",
            "Loss after epoch 1000  is  29.534115\n",
            "Loss after epoch 1000  is  29.528982\n",
            "Loss after epoch 1000  is  29.525434\n",
            "Loss after epoch 1000  is  29.522995\n",
            "Loss after epoch 1000  is  29.521276\n",
            "Loss after epoch 1000  is  29.520054\n",
            "Loss after epoch 1000  is  29.519169\n",
            "Loss after epoch 1000  is  29.51849\n",
            "Loss after epoch 1000  is  29.517979\n",
            "Loss after epoch 1000  is  29.517563\n",
            "Loss after epoch 1000  is  29.517225\n",
            "Loss after epoch 1000  is  29.516926\n",
            "Loss after epoch 1000  is  29.516655\n",
            "Loss after epoch 1000  is  29.51642\n",
            "Loss after epoch 1000  is  29.516178\n",
            "Loss after epoch 1000  is  29.515955\n",
            "Loss after epoch 1000  is  29.515741\n",
            "Loss after epoch 1000  is  29.515514\n",
            "Loss after epoch 1000  is  29.515303\n",
            "Loss after epoch 1000  is  29.515099\n",
            "Loss after epoch 1000  is  29.514887\n",
            "Loss after epoch 1000  is  29.514679\n",
            "Loss after epoch 1000  is  29.51448\n",
            "Loss after epoch 1000  is  29.51432\n",
            "Loss after epoch 1000  is  29.514122\n",
            "Loss after epoch 1000  is  29.513916\n",
            "Loss after epoch 1000  is  29.513704\n",
            "Loss after epoch 1000  is  29.513502\n",
            "Loss after epoch 1000  is  29.513308\n",
            "Loss after epoch 1000  is  29.513086\n",
            "Loss after epoch 1000  is  29.512878\n",
            "Loss after epoch 1000  is  29.512684\n",
            "Loss after epoch 1000  is  29.512472\n",
            "Loss after epoch 1000  is  29.51227\n",
            "Loss after epoch 1000  is  29.512066\n",
            "Loss after epoch 1000  is  29.511871\n",
            "Loss after epoch 1000  is  29.511667\n",
            "Loss after epoch 1000  is  29.511475\n",
            "Loss after epoch 1000  is  29.51126\n",
            "Loss after epoch 1000  is  29.511055\n",
            "Loss after epoch 1000  is  29.510853\n",
            "Loss after epoch 1000  is  29.51064\n",
            "Loss after epoch 1000  is  29.510433\n",
            "Loss after epoch 1000  is  29.510237\n",
            "Loss after epoch 1000  is  29.510029\n",
            "Loss after epoch 1000  is  29.509823\n",
            "Loss after epoch 1000  is  29.509663\n",
            "Loss after epoch 1000  is  29.50946\n",
            "Loss after epoch 1000  is  29.509264\n",
            "Loss after epoch 1000  is  29.509048\n",
            "Loss after epoch 1000  is  29.50885\n",
            "Loss after epoch 1000  is  29.50865\n",
            "Loss after epoch 1000  is  29.508436\n",
            "Loss after epoch 1000  is  29.50823\n",
            "Loss after epoch 1000  is  29.508028\n",
            "Loss after epoch 1000  is  29.507812\n",
            "Loss after epoch 1000  is  29.507618\n",
            "Loss after epoch 1000  is  29.507414\n",
            "Loss after epoch 1000  is  29.507215\n",
            "Loss after epoch 1000  is  29.507017\n",
            "Loss after epoch 1000  is  29.506811\n",
            "Loss after epoch 1000  is  29.506603\n",
            "Loss after epoch 1000  is  29.506403\n",
            "Loss after epoch 1000  is  29.506203\n",
            "Loss after epoch 1000  is  29.50598\n",
            "Loss after epoch 1000  is  29.505781\n",
            "Loss after epoch 1000  is  29.505577\n",
            "Loss after epoch 1000  is  29.50537\n",
            "Loss after epoch 1000  is  29.505173\n",
            "Loss after epoch 1000  is  29.504965\n",
            "Loss after epoch 1000  is  29.504808\n",
            "Loss after epoch 1000  is  29.504606\n",
            "Loss after epoch 1000  is  29.5044\n",
            "Loss after epoch 1000  is  29.5042\n",
            "Loss after epoch 1000  is  29.503996\n",
            "Loss after epoch 1000  is  29.50379\n",
            "Loss after epoch 1000  is  29.50357\n",
            "Loss after epoch 1000  is  29.503366\n",
            "Loss after epoch 1000  is  29.503166\n",
            "Loss after epoch 1000  is  29.50296\n",
            "Loss after epoch 1000  is  29.502754\n",
            "Loss after epoch 1000  is  29.502556\n",
            "Loss after epoch 1000  is  29.50236\n",
            "Loss after epoch 1000  is  29.502155\n",
            "Loss after epoch 1000  is  29.501957\n",
            "Loss after epoch 1000  is  29.501745\n",
            "Loss after epoch 1000  is  29.501541\n",
            "Loss after epoch 1000  is  29.501345\n",
            "Loss after epoch 1000  is  29.501125\n",
            "Loss after epoch 1000  is  29.500921\n",
            "Loss after epoch 1000  is  29.500723\n",
            "Loss after epoch 1000  is  29.500511\n",
            "Loss after epoch 1000  is  29.500309\n",
            "Loss after epoch 1000  is  29.500109\n",
            "Loss after epoch 1000  is  29.49995\n",
            "Loss after epoch 1000  is  29.499746\n",
            "Loss after epoch 1000  is  29.499548\n",
            "Loss after epoch 1000  is  29.499338\n",
            "Loss after epoch 1000  is  29.499134\n",
            "Loss after epoch 1000  is  29.498938\n",
            "Loss after epoch 1000  is  29.498716\n",
            "Loss after epoch 1000  is  29.498516\n",
            "Loss after epoch 1000  is  29.498314\n",
            "Loss after epoch 1000  is  29.498102\n",
            "Loss after epoch 1000  is  29.497898\n",
            "Loss after epoch 1000  is  29.497702\n",
            "Loss after epoch 1000  is  29.497501\n",
            "Loss after epoch 1000  is  29.4973\n",
            "Loss after epoch 1000  is  29.497103\n",
            "Loss after epoch 1000  is  29.496891\n",
            "Loss after epoch 1000  is  29.496685\n",
            "Loss after epoch 1000  is  29.496492\n",
            "Loss after epoch 1000  is  29.496271\n",
            "Loss after epoch 1000  is  29.496069\n",
            "Loss after epoch 1000  is  29.495855\n",
            "Loss after epoch 1000  is  29.495657\n",
            "Loss after epoch 1000  is  29.495457\n",
            "Loss after epoch 1000  is  29.495295\n",
            "Loss after epoch 1000  is  29.495096\n",
            "Loss after epoch 1000  is  29.49489\n",
            "Loss after epoch 1000  is  29.494684\n",
            "Loss after epoch 1000  is  29.494484\n",
            "Loss after epoch 1000  is  29.494268\n",
            "Loss after epoch 1000  is  29.494053\n",
            "Loss after epoch 1000  is  29.493877\n",
            "Loss after epoch 1000  is  29.49366\n",
            "Loss after epoch 1000  is  29.493446\n",
            "Loss after epoch 1000  is  29.493248\n",
            "Loss after epoch 1000  is  29.493044\n",
            "Loss after epoch 1000  is  29.492844\n",
            "Loss after epoch 1000  is  29.49265\n",
            "Loss after epoch 1000  is  29.492447\n",
            "Loss after epoch 1000  is  29.49224\n",
            "Loss after epoch 1000  is  29.492037\n",
            "Loss after epoch 1000  is  29.49184\n",
            "Loss after epoch 1000  is  29.491613\n",
            "Loss after epoch 1000  is  29.491417\n",
            "Loss after epoch 1000  is  29.49121\n",
            "Loss after epoch 1000  is  29.491005\n",
            "Loss after epoch 1000  is  29.490805\n",
            "Loss after epoch 1000  is  29.490597\n",
            "Loss after epoch 1000  is  29.490442\n",
            "Loss after epoch 1000  is  29.490242\n",
            "Loss after epoch 1000  is  29.490038\n",
            "Loss after epoch 1000  is  29.48983\n",
            "Loss after epoch 1000  is  29.489634\n",
            "Loss after epoch 1000  is  29.489424\n",
            "Loss after epoch 1000  is  29.489204\n",
            "Loss after epoch 1000  is  29.489006\n",
            "Loss after epoch 1000  is  29.488802\n",
            "Loss after epoch 1000  is  29.488594\n",
            "Loss after epoch 1000  is  29.488398\n",
            "Loss after epoch 1000  is  29.488192\n",
            "Loss after epoch 1000  is  29.487995\n",
            "Loss after epoch 1000  is  29.487797\n",
            "Loss after epoch 1000  is  29.487593\n",
            "Loss after epoch 1000  is  29.487383\n",
            "Loss after epoch 1000  is  29.487192\n",
            "Loss after epoch 1000  is  29.486979\n",
            "Loss after epoch 1000  is  29.486757\n",
            "Loss after epoch 1000  is  29.486559\n",
            "Loss after epoch 1000  is  29.48636\n",
            "Loss after epoch 1000  is  29.486149\n",
            "Loss after epoch 1000  is  29.485949\n",
            "Loss after epoch 1000  is  29.485744\n",
            "Loss after epoch 1000  is  29.485586\n",
            "Loss after epoch 1000  is  29.485394\n",
            "Loss after epoch 1000  is  29.485188\n",
            "Loss after epoch 1000  is  29.484978\n",
            "Loss after epoch 1000  is  29.484772\n",
            "Loss after epoch 1000  is  29.484573\n",
            "Loss after epoch 1000  is  29.484352\n",
            "Loss after epoch 1000  is  29.48415\n",
            "Loss after epoch 1000  is  29.483953\n",
            "Loss after epoch 1000  is  29.483744\n",
            "Loss after epoch 1000  is  29.48354\n",
            "Loss after epoch 1000  is  29.48334\n",
            "Loss after epoch 1000  is  29.483143\n",
            "Loss after epoch 1000  is  29.482935\n",
            "Loss after epoch 1000  is  29.48274\n",
            "Loss after epoch 1000  is  29.482529\n",
            "Loss after epoch 1000  is  29.482328\n",
            "Loss after epoch 1000  is  29.482128\n",
            "Loss after epoch 1000  is  29.481913\n",
            "Loss after epoch 1000  is  29.481705\n",
            "Loss after epoch 1000  is  29.481508\n",
            "Loss after epoch 1000  is  29.4813\n",
            "Loss after epoch 1000  is  29.481092\n",
            "Loss after epoch 1000  is  29.480896\n",
            "Loss after epoch 1000  is  29.48073\n",
            "Loss after epoch 1000  is  29.480532\n",
            "Loss after epoch 1000  is  29.480335\n",
            "Loss after epoch 1000  is  29.480127\n",
            "Loss after epoch 1000  is  29.479921\n",
            "Loss after epoch 1000  is  29.47972\n",
            "Loss after epoch 1000  is  29.479502\n",
            "Loss after epoch 1000  is  29.479307\n",
            "Loss after epoch 1000  is  29.4791\n",
            "Loss after epoch 1000  is  29.478893\n",
            "Loss after epoch 1000  is  29.478685\n",
            "Loss after epoch 1000  is  29.478489\n",
            "Loss after epoch 1000  is  29.478292\n",
            "Loss after epoch 1000  is  29.478086\n",
            "Loss after epoch 1000  is  29.47789\n",
            "Loss after epoch 1000  is  29.477682\n",
            "Loss after epoch 1000  is  29.477474\n",
            "Loss after epoch 1000  is  29.477276\n",
            "Loss after epoch 1000  is  29.477058\n",
            "Loss after epoch 1000  is  29.476854\n",
            "Loss after epoch 1000  is  29.47665\n",
            "Loss after epoch 1000  is  29.476446\n",
            "Loss after epoch 1000  is  29.476238\n",
            "Loss after epoch 1000  is  29.476042\n",
            "Loss after epoch 1000  is  29.475887\n",
            "Loss after epoch 1000  is  29.475681\n",
            "Loss after epoch 1000  is  29.475483\n",
            "Loss after epoch 1000  is  29.475271\n",
            "Loss after epoch 1000  is  29.47507\n",
            "Loss after epoch 1000  is  29.474867\n",
            "Loss after epoch 1000  is  29.474646\n",
            "Loss after epoch 1000  is  29.474443\n",
            "Loss after epoch 1000  is  29.474247\n",
            "Loss after epoch 1000  is  29.474037\n",
            "Loss after epoch 1000  is  29.473835\n",
            "Loss after epoch 1000  is  29.473639\n",
            "Loss after epoch 1000  is  29.47344\n",
            "Loss after epoch 1000  is  29.473234\n",
            "Loss after epoch 1000  is  29.47304\n",
            "Loss after epoch 1000  is  29.472828\n",
            "Loss after epoch 1000  is  29.472622\n",
            "Loss after epoch 1000  is  29.472425\n",
            "Loss after epoch 1000  is  29.472202\n",
            "Loss after epoch 1000  is  29.472004\n",
            "Loss after epoch 1000  is  29.471806\n",
            "Loss after epoch 1000  is  29.471594\n",
            "Loss after epoch 1000  is  29.471388\n",
            "Loss after epoch 1000  is  29.471191\n",
            "Loss after epoch 1000  is  29.471033\n",
            "Loss after epoch 1000  is  29.470829\n",
            "Loss after epoch 1000  is  29.470633\n",
            "Loss after epoch 1000  is  29.47042\n",
            "Loss after epoch 1000  is  29.470217\n",
            "Loss after epoch 1000  is  29.47002\n",
            "Loss after epoch 1000  is  29.469795\n",
            "Loss after epoch 1000  is  29.469595\n",
            "Loss after epoch 1000  is  29.469397\n",
            "Loss after epoch 1000  is  29.469185\n",
            "Loss after epoch 1000  is  29.468985\n",
            "Loss after epoch 1000  is  29.468782\n",
            "Loss after epoch 1000  is  29.46859\n",
            "Loss after epoch 1000  is  29.468382\n",
            "Loss after epoch 1000  is  29.468185\n",
            "Loss after epoch 1000  is  29.467976\n",
            "Loss after epoch 1000  is  29.467772\n",
            "Loss after epoch 1000  is  29.467567\n",
            "Loss after epoch 1000  is  29.467354\n",
            "Loss after epoch 1000  is  29.46715\n",
            "Loss after epoch 1000  is  29.466953\n",
            "Loss after epoch 1000  is  29.466742\n",
            "Loss after epoch 1000  is  29.466541\n",
            "Loss after epoch 1000  is  29.466343\n",
            "Loss after epoch 1000  is  29.466183\n",
            "Loss after epoch 1000  is  29.465979\n",
            "Loss after epoch 1000  is  29.465778\n",
            "Loss after epoch 1000  is  29.465565\n",
            "Loss after epoch 1000  is  29.46536\n",
            "Loss after epoch 1000  is  29.465164\n",
            "Loss after epoch 1000  is  29.464945\n",
            "Loss after epoch 1000  is  29.464758\n",
            "Loss after epoch 1000  is  29.464544\n",
            "Loss after epoch 1000  is  29.464334\n",
            "Loss after epoch 1000  is  29.46413\n",
            "Loss after epoch 1000  is  29.463934\n",
            "Loss after epoch 1000  is  29.463737\n",
            "Loss after epoch 1000  is  29.463531\n",
            "Loss after epoch 1000  is  29.463333\n",
            "Loss after epoch 1000  is  29.463127\n",
            "Loss after epoch 1000  is  29.462925\n",
            "Loss after epoch 1000  is  29.462725\n",
            "Loss after epoch 1000  is  29.462502\n",
            "Loss after epoch 1000  is  29.4623\n",
            "Loss after epoch 1000  is  29.4621\n",
            "Loss after epoch 1000  is  29.461897\n",
            "Loss after epoch 1000  is  29.461683\n",
            "Loss after epoch 1000  is  29.461494\n",
            "Loss after epoch 1000  is  29.461332\n",
            "Loss after epoch 1000  is  29.461126\n",
            "Loss after epoch 1000  is  29.46093\n",
            "Loss after epoch 1000  is  29.460722\n",
            "Loss after epoch 1000  is  29.460516\n",
            "Loss after epoch 1000  is  29.460314\n",
            "Loss after epoch 1000  is  29.460098\n",
            "Loss after epoch 1000  is  29.459894\n",
            "Loss after epoch 1000  is  29.459696\n",
            "Loss after epoch 1000  is  29.459484\n",
            "Loss after epoch 1000  is  29.459282\n",
            "Loss after epoch 1000  is  29.459084\n",
            "Loss after epoch 1000  is  29.458885\n",
            "Loss after epoch 1000  is  29.458685\n",
            "Loss after epoch 1000  is  29.458485\n",
            "Loss after epoch 1000  is  29.458277\n",
            "Loss after epoch 1000  is  29.458075\n",
            "Loss after epoch 1000  is  29.457874\n",
            "Loss after epoch 1000  is  29.457655\n",
            "Loss after epoch 1000  is  29.457453\n",
            "Loss after epoch 1000  is  29.457253\n",
            "Loss after epoch 1000  is  29.457045\n",
            "Loss after epoch 1000  is  29.45684\n",
            "Loss after epoch 1000  is  29.45664\n",
            "Loss after epoch 1000  is  29.456482\n",
            "Loss after epoch 1000  is  29.456282\n",
            "Loss after epoch 1000  is  29.456083\n",
            "Loss after epoch 1000  is  29.455873\n",
            "Loss after epoch 1000  is  29.455664\n",
            "Loss after epoch 1000  is  29.45547\n",
            "Loss after epoch 1000  is  29.455246\n",
            "Loss after epoch 1000  is  29.455044\n",
            "Loss after epoch 1000  is  29.454845\n",
            "Loss after epoch 1000  is  29.45464\n",
            "Loss after epoch 1000  is  29.454435\n",
            "Loss after epoch 1000  is  29.454237\n",
            "Loss after epoch 1000  is  29.454039\n",
            "Loss after epoch 1000  is  29.453833\n",
            "Loss after epoch 1000  is  29.453636\n",
            "Loss after epoch 1000  is  29.453424\n",
            "Loss after epoch 1000  is  29.453228\n",
            "Loss after epoch 1000  is  29.453022\n",
            "Loss after epoch 1000  is  29.452808\n",
            "Loss after epoch 1000  is  29.452606\n",
            "Loss after epoch 1000  is  29.452404\n",
            "Loss after epoch 1000  is  29.452192\n",
            "Loss after epoch 1000  is  29.451994\n",
            "Loss after epoch 1000  is  29.45179\n",
            "Loss after epoch 1000  is  29.451635\n",
            "Loss after epoch 1000  is  29.451433\n",
            "Loss after epoch 1000  is  29.45123\n",
            "Loss after epoch 1000  is  29.451025\n",
            "Loss after epoch 1000  is  29.450823\n",
            "Loss after epoch 1000  is  29.45062\n",
            "Loss after epoch 1000  is  29.450397\n",
            "Loss after epoch 1000  is  29.450209\n",
            "Loss after epoch 1000  is  29.449997\n",
            "Loss after epoch 1000  is  29.449791\n",
            "Loss after epoch 1000  is  29.44959\n",
            "Loss after epoch 1000  is  29.449383\n",
            "Loss after epoch 1000  is  29.449192\n",
            "Loss after epoch 1000  is  29.44899\n",
            "Loss after epoch 1000  is  29.448792\n",
            "Loss after epoch 1000  is  29.44858\n",
            "Loss after epoch 1000  is  29.448381\n",
            "Loss after epoch 1000  is  29.448177\n",
            "Loss after epoch 1000  is  29.44796\n",
            "Loss after epoch 1000  is  29.44776\n",
            "Loss after epoch 1000  is  29.447557\n",
            "Loss after epoch 1000  is  29.447348\n",
            "Loss after epoch 1000  is  29.44715\n",
            "Loss after epoch 1000  is  29.446945\n",
            "Loss after epoch 1000  is  29.446785\n",
            "Loss after epoch 1000  is  29.446589\n",
            "Loss after epoch 1000  is  29.446383\n",
            "Loss after epoch 1000  is  29.446173\n",
            "Loss after epoch 1000  is  29.445976\n",
            "Loss after epoch 1000  is  29.445772\n",
            "Loss after epoch 1000  is  29.445553\n",
            "Loss after epoch 1000  is  29.445349\n",
            "Loss after epoch 1000  is  29.44515\n",
            "Loss after epoch 1000  is  29.444935\n",
            "Loss after epoch 1000  is  29.44474\n",
            "Loss after epoch 1000  is  29.444542\n",
            "Loss after epoch 1000  is  29.444344\n",
            "Loss after epoch 1000  is  29.444143\n",
            "Loss after epoch 1000  is  29.44394\n",
            "Loss after epoch 1000  is  29.443731\n",
            "Loss after epoch 1000  is  29.443533\n",
            "Loss after epoch 1000  is  29.443329\n",
            "Loss after epoch 1000  is  29.443108\n",
            "Loss after epoch 1000  is  29.442907\n",
            "Loss after epoch 1000  is  29.442703\n",
            "Loss after epoch 1000  is  29.442509\n",
            "Loss after epoch 1000  is  29.442297\n",
            "Loss after epoch 1000  is  29.442097\n",
            "Loss after epoch 1000  is  29.441898\n",
            "Loss after epoch 1000  is  29.441736\n",
            "Loss after epoch 1000  is  29.441536\n",
            "Loss after epoch 1000  is  29.44134\n",
            "Loss after epoch 1000  is  29.441126\n",
            "Loss after epoch 1000  is  29.440926\n",
            "Loss after epoch 1000  is  29.440725\n",
            "Loss after epoch 1000  is  29.440508\n",
            "Loss after epoch 1000  is  29.440304\n",
            "Loss after epoch 1000  is  29.440105\n",
            "Loss after epoch 1000  is  29.439892\n",
            "Loss after epoch 1000  is  29.439692\n",
            "Loss after epoch 1000  is  29.439495\n",
            "Loss after epoch 1000  is  29.439297\n",
            "Loss after epoch 1000  is  29.439095\n",
            "Loss after epoch 1000  is  29.438898\n",
            "Loss after epoch 1000  is  29.43869\n",
            "Loss after epoch 1000  is  29.438478\n",
            "Loss after epoch 1000  is  29.438286\n",
            "Loss after epoch 1000  is  29.438065\n",
            "Loss after epoch 1000  is  29.437859\n",
            "Loss after epoch 1000  is  29.437662\n",
            "Loss after epoch 1000  is  29.437452\n",
            "Loss after epoch 1000  is  29.437248\n",
            "Loss after epoch 1000  is  29.43705\n",
            "Loss after epoch 1000  is  29.436892\n",
            "Loss after epoch 1000  is  29.43669\n",
            "Loss after epoch 1000  is  29.436493\n",
            "Loss after epoch 1000  is  29.43628\n",
            "Loss after epoch 1000  is  29.436073\n",
            "Loss after epoch 1000  is  29.435875\n",
            "Loss after epoch 1000  is  29.435661\n",
            "Loss after epoch 1000  is  29.435455\n",
            "Loss after epoch 1000  is  29.435253\n",
            "Loss after epoch 1000  is  29.435045\n",
            "Loss after epoch 1000  is  29.434849\n",
            "Loss after epoch 1000  is  29.434647\n",
            "Loss after epoch 1000  is  29.43445\n",
            "Loss after epoch 1000  is  29.434254\n",
            "Loss after epoch 1000  is  29.434046\n",
            "Loss after epoch 1000  is  29.433838\n",
            "Loss after epoch 1000  is  29.433643\n",
            "Loss after epoch 1000  is  29.433435\n",
            "Loss after epoch 1000  is  29.433216\n",
            "Loss after epoch 1000  is  29.43302\n",
            "Loss after epoch 1000  is  29.432816\n",
            "Loss after epoch 1000  is  29.432608\n",
            "Loss after epoch 1000  is  29.432404\n",
            "Loss after epoch 1000  is  29.432203\n",
            "Loss after epoch 1000  is  29.432045\n",
            "Loss after epoch 1000  is  29.431843\n",
            "Loss after epoch 1000  is  29.431646\n",
            "Loss after epoch 1000  is  29.431435\n",
            "Loss after epoch 1000  is  29.431238\n",
            "Loss after epoch 1000  is  29.431036\n",
            "Loss after epoch 1000  is  29.43081\n",
            "Loss after epoch 1000  is  29.430614\n",
            "Loss after epoch 1000  is  29.430412\n",
            "Loss after epoch 1000  is  29.430199\n",
            "Loss after epoch 1000  is  29.430002\n",
            "Loss after epoch 1000  is  29.429802\n",
            "Loss after epoch 1000  is  29.429604\n",
            "Loss after epoch 1000  is  29.429405\n",
            "Loss after epoch 1000  is  29.429205\n",
            "Loss after epoch 1000  is  29.429008\n",
            "Loss after epoch 1000  is  29.428793\n",
            "Loss after epoch 1000  is  29.42859\n",
            "Loss after epoch 1000  is  29.428394\n",
            "Loss after epoch 1000  is  29.428167\n",
            "Loss after epoch 1000  is  29.427973\n",
            "Loss after epoch 1000  is  29.427769\n",
            "Loss after epoch 1000  is  29.427565\n",
            "Loss after epoch 1000  is  29.427359\n",
            "Loss after epoch 1000  is  29.42716\n",
            "Loss after epoch 1000  is  29.427002\n",
            "Loss after epoch 1000  is  29.4268\n",
            "Loss after epoch 1000  is  29.426601\n",
            "Loss after epoch 1000  is  29.426394\n",
            "Loss after epoch 1000  is  29.42619\n",
            "Loss after epoch 1000  is  29.425993\n",
            "Loss after epoch 1000  is  29.425772\n",
            "Loss after epoch 1000  is  29.42557\n",
            "Loss after epoch 1000  is  29.42537\n",
            "Loss after epoch 1000  is  29.425161\n",
            "Loss after epoch 1000  is  29.424957\n",
            "Loss after epoch 1000  is  29.424757\n",
            "Loss after epoch 1000  is  29.424562\n",
            "Loss after epoch 1000  is  29.424358\n",
            "Loss after epoch 1000  is  29.424158\n",
            "Loss after epoch 1000  is  29.423948\n",
            "Loss after epoch 1000  is  29.423754\n",
            "Loss after epoch 1000  is  29.42355\n",
            "Loss after epoch 1000  is  29.423328\n",
            "Loss after epoch 1000  is  29.42313\n",
            "Loss after epoch 1000  is  29.42293\n",
            "Loss after epoch 1000  is  29.422718\n",
            "Loss after epoch 1000  is  29.422518\n",
            "Loss after epoch 1000  is  29.422314\n",
            "Loss after epoch 1000  is  29.422161\n",
            "Loss after epoch 1000  is  29.42196\n",
            "Loss after epoch 1000  is  29.421757\n",
            "Loss after epoch 1000  is  29.421549\n",
            "Loss after epoch 1000  is  29.42135\n",
            "Loss after epoch 1000  is  29.421148\n",
            "Loss after epoch 1000  is  29.420921\n",
            "Loss after epoch 1000  is  29.42073\n",
            "Loss after epoch 1000  is  29.420525\n",
            "Loss after epoch 1000  is  29.420315\n",
            "Loss after epoch 1000  is  29.420115\n",
            "Loss after epoch 1000  is  29.41991\n",
            "Loss after epoch 1000  is  29.419714\n",
            "Loss after epoch 1000  is  29.419518\n",
            "Loss after epoch 1000  is  29.419315\n",
            "Loss after epoch 1000  is  29.419106\n",
            "Loss after epoch 1000  is  29.418907\n",
            "Loss after epoch 1000  is  29.418701\n",
            "Loss after epoch 1000  is  29.418509\n",
            "Loss after epoch 1000  is  29.418287\n",
            "Loss after epoch 1000  is  29.418083\n",
            "Loss after epoch 1000  is  29.417887\n",
            "Loss after epoch 1000  is  29.417675\n",
            "Loss after epoch 1000  is  29.41747\n",
            "Loss after epoch 1000  is  29.41727\n",
            "Loss after epoch 1000  is  29.41711\n",
            "Loss after epoch 1000  is  29.416912\n",
            "Loss after epoch 1000  is  29.416714\n",
            "Loss after epoch 1000  is  29.416504\n",
            "Loss after epoch 1000  is  29.416302\n",
            "Loss after epoch 1000  is  29.416105\n",
            "Loss after epoch 1000  is  29.415884\n",
            "Loss after epoch 1000  is  29.41568\n",
            "Loss after epoch 1000  is  29.415483\n",
            "Loss after epoch 1000  is  29.415274\n",
            "Loss after epoch 1000  is  29.415068\n",
            "Loss after epoch 1000  is  29.414871\n",
            "Loss after epoch 1000  is  29.414677\n",
            "Loss after epoch 1000  is  29.414476\n",
            "Loss after epoch 1000  is  29.414274\n",
            "Loss after epoch 1000  is  29.414064\n",
            "Loss after epoch 1000  is  29.413866\n",
            "Loss after epoch 1000  is  29.41366\n",
            "Loss after epoch 1000  is  29.413443\n",
            "Loss after epoch 1000  is  29.413244\n",
            "Loss after epoch 1000  is  29.413038\n",
            "Loss after epoch 1000  is  29.41283\n",
            "Loss after epoch 1000  is  29.412628\n",
            "Loss after epoch 1000  is  29.41243\n",
            "Loss after epoch 1000  is  29.412275\n",
            "Loss after epoch 1000  is  29.412073\n",
            "Loss after epoch 1000  is  29.411871\n",
            "Loss after epoch 1000  is  29.41166\n",
            "Loss after epoch 1000  is  29.411465\n",
            "Loss after epoch 1000  is  29.411257\n",
            "Loss after epoch 1000  is  29.411037\n",
            "Loss after epoch 1000  is  29.41084\n",
            "Loss after epoch 1000  is  29.41064\n",
            "Loss after epoch 1000  is  29.410439\n",
            "Loss after epoch 1000  is  29.410229\n",
            "Loss after epoch 1000  is  29.410025\n",
            "Loss after epoch 1000  is  29.409832\n",
            "Loss after epoch 1000  is  29.409632\n",
            "Loss after epoch 1000  is  29.40943\n",
            "Loss after epoch 1000  is  29.40923\n",
            "Loss after epoch 1000  is  29.409021\n",
            "Loss after epoch 1000  is  29.408817\n",
            "Loss after epoch 1000  is  29.408623\n",
            "Loss after epoch 1000  is  29.408401\n",
            "Loss after epoch 1000  is  29.408201\n",
            "Loss after epoch 1000  is  29.408\n",
            "Loss after epoch 1000  is  29.40779\n",
            "Loss after epoch 1000  is  29.407585\n",
            "Loss after epoch 1000  is  29.407387\n",
            "Loss after epoch 1000  is  29.40723\n",
            "Loss after epoch 1000  is  29.407024\n",
            "Loss after epoch 1000  is  29.406834\n",
            "Loss after epoch 1000  is  29.406624\n",
            "Loss after epoch 1000  is  29.406427\n",
            "Loss after epoch 1000  is  29.406223\n",
            "Loss after epoch 1000  is  29.405998\n",
            "Loss after epoch 1000  is  29.405804\n",
            "Loss after epoch 1000  is  29.405596\n",
            "Loss after epoch 1000  is  29.405386\n",
            "Loss after epoch 1000  is  29.40519\n",
            "Loss after epoch 1000  is  29.404987\n",
            "Loss after epoch 1000  is  29.404789\n",
            "Loss after epoch 1000  is  29.40459\n",
            "Loss after epoch 1000  is  29.40439\n",
            "Loss after epoch 1000  is  29.404179\n",
            "Loss after epoch 1000  is  29.403978\n",
            "Loss after epoch 1000  is  29.403776\n",
            "Loss after epoch 1000  is  29.40356\n",
            "Loss after epoch 1000  is  29.403358\n",
            "Loss after epoch 1000  is  29.403158\n",
            "Loss after epoch 1000  is  29.40296\n",
            "Loss after epoch 1000  is  29.402752\n",
            "Loss after epoch 1000  is  29.40255\n",
            "Loss after epoch 1000  is  29.40235\n",
            "Loss after epoch 1000  is  29.40219\n",
            "Loss after epoch 1000  is  29.401989\n",
            "Loss after epoch 1000  is  29.401793\n",
            "Loss after epoch 1000  is  29.401583\n",
            "Loss after epoch 1000  is  29.401379\n",
            "Loss after epoch 1000  is  29.401176\n",
            "Loss after epoch 1000  is  29.400957\n",
            "Loss after epoch 1000  is  29.400751\n",
            "Loss after epoch 1000  is  29.400557\n",
            "Loss after epoch 1000  is  29.400352\n",
            "Loss after epoch 1000  is  29.400145\n",
            "Loss after epoch 1000  is  29.39995\n",
            "Loss after epoch 1000  is  29.399752\n",
            "Loss after epoch 1000  is  29.399553\n",
            "Loss after epoch 1000  is  29.399345\n",
            "Loss after epoch 1000  is  29.399143\n",
            "Loss after epoch 1000  is  29.39894\n",
            "Loss after epoch 1000  is  29.398739\n",
            "Loss after epoch 1000  is  29.398521\n",
            "Loss after epoch 1000  is  29.398321\n",
            "Loss after epoch 1000  is  29.398119\n",
            "Loss after epoch 1000  is  29.397907\n",
            "Loss after epoch 1000  is  29.397709\n",
            "Loss after epoch 1000  is  29.39751\n",
            "Loss after epoch 1000  is  29.397348\n",
            "Loss after epoch 1000  is  29.397152\n",
            "Loss after epoch 1000  is  29.396948\n",
            "Loss after epoch 1000  is  29.396734\n",
            "Loss after epoch 1000  is  29.396542\n",
            "Loss after epoch 1000  is  29.396334\n",
            "Loss after epoch 1000  is  29.396143\n",
            "Loss after epoch 1000  is  29.395918\n",
            "Loss after epoch 1000  is  29.395714\n",
            "Loss after epoch 1000  is  29.395517\n",
            "Loss after epoch 1000  is  29.395308\n",
            "Loss after epoch 1000  is  29.395105\n",
            "Loss after epoch 1000  is  29.394907\n",
            "Loss after epoch 1000  is  29.394709\n",
            "Loss after epoch 1000  is  29.394508\n",
            "Loss after epoch 1000  is  29.394308\n",
            "Loss after epoch 1000  is  29.394102\n",
            "Loss after epoch 1000  is  29.393894\n",
            "Loss after epoch 1000  is  29.393702\n",
            "Loss after epoch 1000  is  29.393478\n",
            "Loss after epoch 1000  is  29.39328\n",
            "Loss after epoch 1000  is  29.393078\n",
            "Loss after epoch 1000  is  29.392868\n",
            "Loss after epoch 1000  is  29.392672\n",
            "Loss after epoch 1000  is  29.392471\n",
            "Loss after epoch 1000  is  29.392313\n",
            "Loss after epoch 1000  is  29.392109\n",
            "Loss after epoch 1000  is  29.391907\n",
            "Loss after epoch 1000  is  29.391693\n",
            "Loss after epoch 1000  is  29.391502\n",
            "Loss after epoch 1000  is  29.391302\n",
            "Loss after epoch 1000  is  29.391077\n",
            "Loss after epoch 1000  is  29.390877\n",
            "Loss after epoch 1000  is  29.390676\n",
            "Loss after epoch 1000  is  29.390478\n",
            "Loss after epoch 1000  is  29.390266\n",
            "Loss after epoch 1000  is  29.390066\n",
            "Loss after epoch 1000  is  29.38987\n",
            "Loss after epoch 1000  is  29.38967\n",
            "Loss after epoch 1000  is  29.389465\n",
            "Loss after epoch 1000  is  29.389269\n",
            "Loss after epoch 1000  is  29.389065\n",
            "Loss after epoch 1000  is  29.38886\n",
            "Loss after epoch 1000  is  29.388662\n",
            "Loss after epoch 1000  is  29.388441\n",
            "Loss after epoch 1000  is  29.388237\n",
            "Loss after epoch 1000  is  29.388042\n",
            "Loss after epoch 1000  is  29.387833\n",
            "Loss after epoch 1000  is  29.387634\n",
            "Loss after epoch 1000  is  29.387428\n",
            "Loss after epoch 1000  is  29.387272\n",
            "Loss after epoch 1000  is  29.387072\n",
            "Loss after epoch 1000  is  29.386871\n",
            "Loss after epoch 1000  is  29.38666\n",
            "Loss after epoch 1000  is  29.386465\n",
            "Loss after epoch 1000  is  29.386261\n",
            "Loss after epoch 1000  is  29.386042\n",
            "Loss after epoch 1000  is  29.38584\n",
            "Loss after epoch 1000  is  29.385641\n",
            "Loss after epoch 1000  is  29.385431\n",
            "Loss after epoch 1000  is  29.385233\n",
            "Loss after epoch 1000  is  29.385029\n",
            "Loss after epoch 1000  is  29.384832\n",
            "Loss after epoch 1000  is  29.384636\n",
            "Loss after epoch 1000  is  29.384432\n",
            "Loss after epoch 1000  is  29.384241\n",
            "Loss after epoch 1000  is  29.384024\n",
            "Loss after epoch 1000  is  29.383821\n",
            "Loss after epoch 1000  is  29.383625\n",
            "Loss after epoch 1000  is  29.38341\n",
            "Loss after epoch 1000  is  29.383202\n",
            "Loss after epoch 1000  is  29.383005\n",
            "Loss after epoch 1000  is  29.382793\n",
            "Loss after epoch 1000  is  29.38259\n",
            "Loss after epoch 1000  is  29.382393\n",
            "Loss after epoch 1000  is  29.382233\n",
            "Loss after epoch 1000  is  29.382032\n",
            "Loss after epoch 1000  is  29.381836\n",
            "Loss after epoch 1000  is  29.381624\n",
            "Loss after epoch 1000  is  29.381428\n",
            "Loss after epoch 1000  is  29.38122\n",
            "Loss after epoch 1000  is  29.381006\n",
            "Loss after epoch 1000  is  29.380808\n",
            "Loss after epoch 1000  is  29.380602\n",
            "Loss after epoch 1000  is  29.380392\n",
            "Loss after epoch 1000  is  29.380194\n",
            "Loss after epoch 1000  is  29.379988\n",
            "Loss after epoch 1000  is  29.379793\n",
            "Loss after epoch 1000  is  29.379595\n",
            "Loss after epoch 1000  is  29.379395\n",
            "Loss after epoch 1000  is  29.379202\n",
            "Loss after epoch 1000  is  29.37899\n",
            "Loss after epoch 1000  is  29.378786\n",
            "Loss after epoch 1000  is  29.378584\n",
            "Loss after epoch 1000  is  29.378365\n",
            "Loss after epoch 1000  is  29.37816\n",
            "Loss after epoch 1000  is  29.377964\n",
            "Loss after epoch 1000  is  29.377758\n",
            "Loss after epoch 1000  is  29.377552\n",
            "Loss after epoch 1000  is  29.377354\n",
            "Loss after epoch 1000  is  29.377201\n",
            "Loss after epoch 1000  is  29.376999\n",
            "Loss after epoch 1000  is  29.376793\n",
            "Loss after epoch 1000  is  29.376589\n",
            "Loss after epoch 1000  is  29.376387\n",
            "Loss after epoch 1000  is  29.376186\n",
            "Loss after epoch 1000  is  29.375969\n",
            "Loss after epoch 1000  is  29.375769\n",
            "Loss after epoch 1000  is  29.37557\n",
            "Loss after epoch 1000  is  29.375355\n",
            "Loss after epoch 1000  is  29.375158\n",
            "Loss after epoch 1000  is  29.374954\n",
            "Loss after epoch 1000  is  29.37476\n",
            "Loss after epoch 1000  is  29.37456\n",
            "Loss after epoch 1000  is  29.37436\n",
            "Loss after epoch 1000  is  29.374159\n",
            "Loss after epoch 1000  is  29.373943\n",
            "Loss after epoch 1000  is  29.373747\n",
            "Loss after epoch 1000  is  29.373549\n",
            "Loss after epoch 1000  is  29.373325\n",
            "Loss after epoch 1000  is  29.373127\n",
            "Loss after epoch 1000  is  29.372929\n",
            "Loss after epoch 1000  is  29.372719\n",
            "Loss after epoch 1000  is  29.372513\n",
            "Loss after epoch 1000  is  29.372318\n",
            "Loss after epoch 1000  is  29.37216\n",
            "Loss after epoch 1000  is  29.371964\n",
            "Loss after epoch 1000  is  29.371758\n",
            "Loss after epoch 1000  is  29.371553\n",
            "Loss after epoch 1000  is  29.37135\n",
            "Loss after epoch 1000  is  29.371143\n",
            "Loss after epoch 1000  is  29.370932\n",
            "Loss after epoch 1000  is  29.370731\n",
            "Loss after epoch 1000  is  29.370533\n",
            "Loss after epoch 1000  is  29.370317\n",
            "Loss after epoch 1000  is  29.370121\n",
            "Loss after epoch 1000  is  29.36992\n",
            "Loss after epoch 1000  is  29.369722\n",
            "Loss after epoch 1000  is  29.369528\n",
            "Loss after epoch 1000  is  29.369324\n",
            "Loss after epoch 1000  is  29.369123\n",
            "Loss after epoch 1000  is  29.368914\n",
            "Loss after epoch 1000  is  29.368711\n",
            "Loss after epoch 1000  is  29.368517\n",
            "Loss after epoch 1000  is  29.368298\n",
            "Loss after epoch 1000  is  29.368092\n",
            "Loss after epoch 1000  is  29.367897\n",
            "Loss after epoch 1000  is  29.367685\n",
            "Loss after epoch 1000  is  29.367489\n",
            "Loss after epoch 1000  is  29.367285\n",
            "Loss after epoch 1000  is  29.367128\n",
            "Loss after epoch 1000  is  29.366928\n",
            "Loss after epoch 1000  is  29.36672\n",
            "Loss after epoch 1000  is  29.366516\n",
            "Loss after epoch 1000  is  29.366318\n",
            "Loss after epoch 1000  is  29.366117\n",
            "Loss after epoch 1000  is  29.365892\n",
            "Loss after epoch 1000  is  29.365698\n",
            "Loss after epoch 1000  is  29.365494\n",
            "Loss after epoch 1000  is  29.365301\n",
            "Loss after epoch 1000  is  29.365088\n",
            "Loss after epoch 1000  is  29.364883\n",
            "Loss after epoch 1000  is  29.364685\n",
            "Loss after epoch 1000  is  29.364487\n",
            "Loss after epoch 1000  is  29.364283\n",
            "Loss after epoch 1000  is  29.364088\n",
            "Loss after epoch 1000  is  29.363884\n",
            "Loss after epoch 1000  is  29.363676\n",
            "Loss after epoch 1000  is  29.363478\n",
            "Loss after epoch 1000  is  29.363262\n",
            "Loss after epoch 1000  is  29.36306\n",
            "Loss after epoch 1000  is  29.362856\n",
            "Loss after epoch 1000  is  29.362644\n",
            "Loss after epoch 1000  is  29.362457\n",
            "Loss after epoch 1000  is  29.362242\n",
            "Loss after epoch 1000  is  29.362091\n",
            "Loss after epoch 1000  is  29.361889\n",
            "Loss after epoch 1000  is  29.361687\n",
            "Loss after epoch 1000  is  29.36148\n",
            "Loss after epoch 1000  is  29.361284\n",
            "Loss after epoch 1000  is  29.361082\n",
            "Loss after epoch 1000  is  29.360886\n",
            "Loss after epoch 1000  is  29.360659\n",
            "Loss after epoch 1000  is  29.360458\n",
            "Loss after epoch 1000  is  29.360262\n",
            "Loss after epoch 1000  is  29.360054\n",
            "Loss after epoch 1000  is  29.35985\n",
            "Loss after epoch 1000  is  29.35965\n",
            "Loss after epoch 1000  is  29.359457\n",
            "Loss after epoch 1000  is  29.35925\n",
            "Loss after epoch 1000  is  29.359053\n",
            "Loss after epoch 1000  is  29.35884\n",
            "Loss after epoch 1000  is  29.35865\n",
            "Loss after epoch 1000  is  29.358442\n",
            "Loss after epoch 1000  is  29.358227\n",
            "Loss after epoch 1000  is  29.358028\n",
            "Loss after epoch 1000  is  29.357826\n",
            "Loss after epoch 1000  is  29.357615\n",
            "Loss after epoch 1000  is  29.357416\n",
            "Loss after epoch 1000  is  29.357216\n",
            "Loss after epoch 1000  is  29.357018\n",
            "Loss after epoch 1000  is  29.356853\n",
            "Loss after epoch 1000  is  29.356655\n",
            "Loss after epoch 1000  is  29.356459\n",
            "Loss after epoch 1000  is  29.356247\n",
            "Loss after epoch 1000  is  29.356047\n",
            "Loss after epoch 1000  is  29.35585\n",
            "Loss after epoch 1000  is  29.355629\n",
            "Loss after epoch 1000  is  29.355423\n",
            "Loss after epoch 1000  is  29.355227\n",
            "Loss after epoch 1000  is  29.355019\n",
            "Loss after epoch 1000  is  29.354822\n",
            "Loss after epoch 1000  is  29.354616\n",
            "Loss after epoch 1000  is  29.354424\n",
            "Loss after epoch 1000  is  29.354225\n",
            "Loss after epoch 1000  is  29.354021\n",
            "Loss after epoch 1000  is  29.353813\n",
            "Loss after epoch 1000  is  29.353611\n",
            "Loss after epoch 1000  is  29.353415\n",
            "Loss after epoch 1000  is  29.353193\n",
            "Loss after epoch 1000  is  29.352993\n",
            "Loss after epoch 1000  is  29.352787\n",
            "Loss after epoch 1000  is  29.352596\n",
            "Loss after epoch 1000  is  29.352385\n",
            "Loss after epoch 1000  is  29.352179\n",
            "Loss after epoch 1000  is  29.351984\n",
            "Loss after epoch 1000  is  29.351826\n",
            "Loss after epoch 1000  is  29.351622\n",
            "Loss after epoch 1000  is  29.351423\n",
            "Loss after epoch 1000  is  29.351213\n",
            "Loss after epoch 1000  is  29.351015\n",
            "Loss after epoch 1000  is  29.350815\n",
            "Loss after epoch 1000  is  29.350595\n",
            "Loss after epoch 1000  is  29.3504\n",
            "Loss after epoch 1000  is  29.350193\n",
            "Loss after epoch 1000  is  29.349985\n",
            "Loss after epoch 1000  is  29.349787\n",
            "Loss after epoch 1000  is  29.349585\n",
            "Loss after epoch 1000  is  29.349384\n",
            "Loss after epoch 1000  is  29.34919\n",
            "Loss after epoch 1000  is  29.34899\n",
            "Loss after epoch 1000  is  29.348791\n",
            "Loss after epoch 1000  is  29.348583\n",
            "Loss after epoch 1000  is  29.34838\n",
            "Loss after epoch 1000  is  29.348183\n",
            "Loss after epoch 1000  is  29.347965\n",
            "Loss after epoch 1000  is  29.347746\n",
            "Loss after epoch 1000  is  29.347553\n",
            "Loss after epoch 1000  is  29.34735\n",
            "Loss after epoch 1000  is  29.347155\n",
            "Loss after epoch 1000  is  29.34695\n",
            "Loss after epoch 1000  is  29.346794\n",
            "Loss after epoch 1000  is  29.346598\n",
            "Loss after epoch 1000  is  29.346392\n",
            "Loss after epoch 1000  is  29.34618\n",
            "Loss after epoch 1000  is  29.345982\n",
            "Loss after epoch 1000  is  29.345781\n",
            "Loss after epoch 1000  is  29.345562\n",
            "Loss after epoch 1000  is  29.345364\n",
            "Loss after epoch 1000  is  29.345161\n",
            "Loss after epoch 1000  is  29.344963\n",
            "Loss after epoch 1000  is  29.344751\n",
            "Loss after epoch 1000  is  29.34455\n",
            "Loss after epoch 1000  is  29.344355\n",
            "Loss after epoch 1000  is  29.344162\n",
            "Loss after epoch 1000  is  29.343952\n",
            "Loss after epoch 1000  is  29.343758\n",
            "Loss after epoch 1000  is  29.343552\n",
            "Loss after epoch 1000  is  29.34335\n",
            "Loss after epoch 1000  is  29.34315\n",
            "Loss after epoch 1000  is  29.34293\n",
            "Loss after epoch 1000  is  29.34273\n",
            "Loss after epoch 1000  is  29.342525\n",
            "Loss after epoch 1000  is  29.342318\n",
            "Loss after epoch 1000  is  29.34212\n",
            "Loss after epoch 1000  is  29.341915\n",
            "Loss after epoch 1000  is  29.341722\n",
            "Loss after epoch 1000  is  29.341562\n",
            "Loss after epoch 1000  is  29.34136\n",
            "Loss after epoch 1000  is  29.34116\n",
            "Loss after epoch 1000  is  29.340952\n",
            "Loss after epoch 1000  is  29.340744\n",
            "Loss after epoch 1000  is  29.340551\n",
            "Loss after epoch 1000  is  29.340334\n",
            "Loss after epoch 1000  is  29.34013\n",
            "Loss after epoch 1000  is  29.33993\n",
            "Loss after epoch 1000  is  29.339725\n",
            "Loss after epoch 1000  is  29.339523\n",
            "Loss after epoch 1000  is  29.339323\n",
            "Loss after epoch 1000  is  29.339125\n",
            "Loss after epoch 1000  is  29.338932\n",
            "Loss after epoch 1000  is  29.338726\n",
            "Loss after epoch 1000  is  29.338518\n",
            "Loss after epoch 1000  is  29.338318\n",
            "Loss after epoch 1000  is  29.338116\n",
            "Loss after epoch 1000  is  29.33792\n",
            "Loss after epoch 1000  is  29.3377\n",
            "Loss after epoch 1000  is  29.33749\n",
            "Loss after epoch 1000  is  29.3373\n",
            "Loss after epoch 1000  is  29.337088\n",
            "Loss after epoch 1000  is  29.336887\n",
            "Loss after epoch 1000  is  29.336687\n",
            "Loss after epoch 1000  is  29.33653\n",
            "Loss after epoch 1000  is  29.33633\n",
            "Loss after epoch 1000  is  29.336128\n",
            "Loss after epoch 1000  is  29.335918\n",
            "Loss after epoch 1000  is  29.335722\n",
            "Loss after epoch 1000  is  29.33552\n",
            "Loss after epoch 1000  is  29.3353\n",
            "Loss after epoch 1000  is  29.335102\n",
            "Loss after epoch 1000  is  29.334902\n",
            "Loss after epoch 1000  is  29.33471\n",
            "Loss after epoch 1000  is  29.334494\n",
            "Loss after epoch 1000  is  29.334295\n",
            "Loss after epoch 1000  is  29.334093\n",
            "Loss after epoch 1000  is  29.333897\n",
            "Loss after epoch 1000  is  29.333693\n",
            "Loss after epoch 1000  is  29.3335\n",
            "Loss after epoch 1000  is  29.333288\n",
            "Loss after epoch 1000  is  29.333092\n",
            "Loss after epoch 1000  is  29.33289\n",
            "Loss after epoch 1000  is  29.332668\n",
            "Loss after epoch 1000  is  29.332472\n",
            "Loss after epoch 1000  is  29.332272\n",
            "Loss after epoch 1000  is  29.33206\n",
            "Loss after epoch 1000  is  29.331861\n",
            "Loss after epoch 1000  is  29.331656\n",
            "Loss after epoch 1000  is  29.331497\n",
            "Loss after epoch 1000  is  29.331299\n",
            "Loss after epoch 1000  is  29.331102\n",
            "Loss after epoch 1000  is  29.330902\n",
            "Loss after epoch 1000  is  29.330694\n",
            "Loss after epoch 1000  is  29.330488\n",
            "Loss after epoch 1000  is  29.330292\n",
            "Loss after epoch 1000  is  29.330072\n",
            "Loss after epoch 1000  is  29.329868\n",
            "Loss after epoch 1000  is  29.329672\n",
            "Loss after epoch 1000  is  29.329464\n",
            "Loss after epoch 1000  is  29.32927\n",
            "Loss after epoch 1000  is  29.32906\n",
            "Loss after epoch 1000  is  29.328867\n",
            "Loss after epoch 1000  is  29.328669\n",
            "Loss after epoch 1000  is  29.32847\n",
            "Loss after epoch 1000  is  29.328259\n",
            "Loss after epoch 1000  is  29.328058\n",
            "Loss after epoch 1000  is  29.327856\n",
            "Loss after epoch 1000  is  29.327656\n",
            "Loss after epoch 1000  is  29.32744\n",
            "Loss after epoch 1000  is  29.327236\n",
            "Loss after epoch 1000  is  29.327042\n",
            "Loss after epoch 1000  is  29.32683\n",
            "Loss after epoch 1000  is  29.32663\n",
            "Loss after epoch 1000  is  29.326433\n",
            "Loss after epoch 1000  is  29.32627\n",
            "Loss after epoch 1000  is  29.326078\n",
            "Loss after epoch 1000  is  29.325874\n",
            "Loss after epoch 1000  is  29.325665\n",
            "Loss after epoch 1000  is  29.325464\n",
            "Loss after epoch 1000  is  29.325266\n",
            "Loss after epoch 1000  is  29.325045\n",
            "Now testing the model in the test set\n",
            "The final loss is: 38.24373\n"
          ],
          "name": "stdout"
        },
        {
          "output_type": "display_data",
          "data": {
            "image/png": "[encoded data removed]",
            "text/plain": [
              "<matplotlib.figure.Figure at 0x7f0788042e80>"
            ]
          },
          "metadata": {
            "tags": []
          }
        }
      ]
    },
    {
      "metadata": {
        "id": "AP9l0Eug_XYC",
        "colab_type": "code",
        "colab": {}
      },
      "cell_type": "code",
      "source": [
        ""
      ],
      "execution_count": 0,
      "outputs": []
    },
    {
      "metadata": {
        "id": "gRfw-GCTBV3D",
        "colab_type": "code",
        "colab": {
          "base_uri": "https://localhost:8080/",
          "height": 162
        },
        "outputId": "527afb23-8b42-4ed1-986b-bd7cd3ec8dd5"
      },
      "cell_type": "code",
      "source": [
        "linear_regression(learning_rate=0.000005, ep=500)"
      ],
      "execution_count": 93,
      "outputs": [
        {
          "output_type": "error",
          "ename": "NameError",
          "evalue": "ignored",
          "traceback": [
            "\u001b[0;31m---------------------------------------------------------------------------\u001b[0m",
            "\u001b[0;31mNameError\u001b[0m                                 Traceback (most recent call last)",
            "\u001b[0;32m<ipython-input-93-07d4e363a317>\u001b[0m in \u001b[0;36m<module>\u001b[0;34m()\u001b[0m\n\u001b[0;32m----> 1\u001b[0;31m \u001b[0mlinear_regression\u001b[0m\u001b[0;34m(\u001b[0m\u001b[0mlearning_rate\u001b[0m\u001b[0;34m=\u001b[0m\u001b[0;36m0.000005\u001b[0m\u001b[0;34m,\u001b[0m \u001b[0mep\u001b[0m\u001b[0;34m=\u001b[0m\u001b[0;36m500\u001b[0m\u001b[0;34m)\u001b[0m\u001b[0;34m\u001b[0m\u001b[0m\n\u001b[0m",
            "\u001b[0;31mNameError\u001b[0m: name 'linear_regression' is not defined"
          ]
        }
      ]
    },
    {
      "metadata": {
        "id": "WgnyFIsbBlfQ",
        "colab_type": "code",
        "colab": {
          "base_uri": "https://localhost:8080/",
          "height": 162
        },
        "outputId": "cdaeca71-0cc4-4332-8d23-fe111bf5503d"
      },
      "cell_type": "code",
      "source": [
        "linear_regression(learning_rate=0.0000006,ep=1000)\n"
      ],
      "execution_count": 94,
      "outputs": [
        {
          "output_type": "error",
          "ename": "NameError",
          "evalue": "ignored",
          "traceback": [
            "\u001b[0;31m---------------------------------------------------------------------------\u001b[0m",
            "\u001b[0;31mNameError\u001b[0m                                 Traceback (most recent call last)",
            "\u001b[0;32m<ipython-input-94-7a00e40b0321>\u001b[0m in \u001b[0;36m<module>\u001b[0;34m()\u001b[0m\n\u001b[0;32m----> 1\u001b[0;31m \u001b[0mlinear_regression\u001b[0m\u001b[0;34m(\u001b[0m\u001b[0mlearning_rate\u001b[0m\u001b[0;34m=\u001b[0m\u001b[0;36m0.0000006\u001b[0m\u001b[0;34m,\u001b[0m\u001b[0mep\u001b[0m\u001b[0;34m=\u001b[0m\u001b[0;36m1000\u001b[0m\u001b[0;34m)\u001b[0m\u001b[0;34m\u001b[0m\u001b[0m\n\u001b[0m",
            "\u001b[0;31mNameError\u001b[0m: name 'linear_regression' is not defined"
          ]
        }
      ]
    },
    {
      "metadata": {
        "id": "ZZ6XwFXQBvPP",
        "colab_type": "code",
        "colab": {}
      },
      "cell_type": "code",
      "source": [
        ""
      ],
      "execution_count": 0,
      "outputs": []
    }
  ]
}