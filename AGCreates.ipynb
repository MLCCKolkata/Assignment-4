{
  "nbformat": 4,
  "nbformat_minor": 0,
  "metadata": {
    "colab": {
      "name": "First_Date_with_TensorFlow.ipynb",
      "version": "0.3.2",
      "provenance": [],
      "include_colab_link": true
    },
    "kernelspec": {
      "name": "python3",
      "display_name": "Python 3"
    }
  },
  "cells": [
    {
      "cell_type": "markdown",
      "metadata": {
        "id": "view-in-github",
        "colab_type": "text"
      },
      "source": [
        "<a href=\"https://colab.research.google.com/github/AGCreates/Assignment-4/blob/AGCreates/AGCreates.ipynb\" target=\"_parent\"><img src=\"https://colab.research.google.com/assets/colab-badge.svg\" alt=\"Open In Colab\"/></a>"
      ]
    },
    {
      "metadata": {
        "id": "2XXfXed5YLbe",
        "colab_type": "text"
      },
      "cell_type": "markdown",
      "source": [
        "# First Date with TensorFlow\n",
        "\n",
        "Hi all,<br/>\n",
        "\n",
        "You know what's important for understanding Deep Learning / Machine Learning?<br/>\n",
        "Intuition. Period.\n",
        "\n",
        "And Intuition comes when you run the code multiple times.\n",
        "\n",
        "So, today I can write a couple of defination and say this is this, this is that.<br/>\n",
        "You Google half of the things up. You find answers which you need to Google further.<br/>\n",
        "In the process, you probably won't even remember what's the first thing you started out with!\n",
        "\n",
        "So?\n",
        "\n",
        "Hence on, I will execute cells with code. <br/>\n",
        "The neurons in your brain will optimize a function to get a hold of what each function is doing.<br/>\n",
        "**No Theory Just Code.**\n",
        "\n",
        "I will at max give a defination that extends for a line. That's it.<br/>\n",
        "Let's get started!\n",
        "\n",
        "<hr/>\n",
        "\n",
        "**RECOMMENDED!**<br/>\n",
        "Write the code in the cells using the signals sent by your brain to your fingers!<br/>\n",
        "Don't just `shift+enter` the cells.\n",
        "\n",
        "[Source](https://github.com/iArunava/TensorFlow-NoteBooks)"
      ]
    },
    {
      "metadata": {
        "id": "gYWUpE-bYKWP",
        "colab_type": "code",
        "colab": {}
      },
      "cell_type": "code",
      "source": [
        "# Essential imports\n",
        "import numpy as np\n",
        "import tensorflow as tf\n",
        "import matplotlib.pyplot as plt"
      ],
      "execution_count": 0,
      "outputs": []
    },
    {
      "metadata": {
        "id": "eKpz5NCIYMdi",
        "colab_type": "code",
        "colab": {}
      },
      "cell_type": "code",
      "source": [
        "# Let's define some tensors\n",
        "t1 = tf.constant(2.0, dtype=tf.float32)\n",
        "t2 = tf.constant([1.0, 2.0], dtype=tf.float32)\n",
        "t3 = tf.constant([[[1.0, 9.0], [2.0, 3.0], [4.0, 5.0]], \n",
        "                  [[1.0, 9.0], [2.0, 3.0], [4.0, 5.0]]])"
      ],
      "execution_count": 0,
      "outputs": []
    },
    {
      "metadata": {
        "id": "vmMcjzTxbWzw",
        "colab_type": "code",
        "colab": {
          "base_uri": "https://localhost:8080/",
          "height": 68
        },
        "outputId": "87cd3421-2bd4-4f14-efa0-ea5c9225e13b"
      },
      "cell_type": "code",
      "source": [
        "# Let's print them out!\n",
        "print (t1)\n",
        "print (t2)\n",
        "print (t3)"
      ],
      "execution_count": 3,
      "outputs": [
        {
          "output_type": "stream",
          "text": [
            "Tensor(\"Const:0\", shape=(), dtype=float32)\n",
            "Tensor(\"Const_1:0\", shape=(2,), dtype=float32)\n",
            "Tensor(\"Const_2:0\", shape=(2, 3, 2), dtype=float32)\n"
          ],
          "name": "stdout"
        }
      ]
    },
    {
      "metadata": {
        "id": "10ahnfjYbcop",
        "colab_type": "text"
      },
      "cell_type": "markdown",
      "source": [
        "Where's Waldo?<br/>\n",
        "I mean, the value?<br/>\n",
        "\n",
        "So, the thing is you can't print the value of tensors directly.<br/>\n",
        "You have to use `session`, so let's do that!"
      ]
    },
    {
      "metadata": {
        "id": "ol6O5I7Tb2nb",
        "colab_type": "code",
        "colab": {
          "base_uri": "https://localhost:8080/",
          "height": 204
        },
        "outputId": "bcb98376-cb10-4986-f5ed-ac23ace6a19a"
      },
      "cell_type": "code",
      "source": [
        "sess = tf.Session()\n",
        "print (sess.run(t1))\n",
        "print (\"=======================\")\n",
        "print (sess.run(t2))\n",
        "print (\"=======================\")\n",
        "print (sess.run(t3))\n",
        "sess.close()"
      ],
      "execution_count": 4,
      "outputs": [
        {
          "output_type": "stream",
          "text": [
            "2.0\n",
            "=======================\n",
            "[1. 2.]\n",
            "=======================\n",
            "[[[1. 9.]\n",
            "  [2. 3.]\n",
            "  [4. 5.]]\n",
            "\n",
            " [[1. 9.]\n",
            "  [2. 3.]\n",
            "  [4. 5.]]]\n"
          ],
          "name": "stdout"
        }
      ]
    },
    {
      "metadata": {
        "id": "rXKfVs_zb-kU",
        "colab_type": "text"
      },
      "cell_type": "markdown",
      "source": [
        "Aaahaa!! Just printed those tensors!!!<br/>\n",
        "Feels good! <br/>\n",
        "\n",
        "For some of you, who are like, dude you got \"No Theory Just Code\" in bold <br/>\n",
        "And you are still using the markdown cells for the theory ?!\n",
        "\n",
        "I am just gonna say I am a unreasonable man.<br/>\n",
        "\n",
        "\n",
        "So, you are programming with tf.<br/>\n",
        "What ever you do is broken down to 2 basic steps:\n",
        "- Building the computational Graph!\n",
        "- Execute that graph using `session`!\n",
        "\n",
        "That's all!\n",
        "\n",
        "<hr/>\n",
        "\n",
        "Let's compare this 2 steps with what we did above!<br/>\n",
        "So, I defined 3 `tensor`s and these 3 `tensor`s formed my computational Graph.<br/>\n",
        "And then I executed each tensor in this graph using a `session`.\n",
        "\n",
        "That simple!\n",
        "\n",
        "<hr/>\n",
        "\n",
        "Now, let's define a few more computational graphs and execute them with sessions.\n",
        "\n",
        "Okay, to start with let's build this computational graph!\n",
        "\n",
        "![Comp Graph 1](https://raw.githubusercontent.com/iArunava/TensorFlow-NoteBooks/master/assets/comp_graph_1.jpg)"
      ]
    },
    {
      "metadata": {
        "id": "FyVz0GNqgreZ",
        "colab_type": "code",
        "colab": {
          "base_uri": "https://localhost:8080/",
          "height": 51
        },
        "outputId": "a8179924-90eb-45c2-a6ab-0a6c494af463"
      },
      "cell_type": "code",
      "source": [
        "# Let's define the graph\n",
        "comp_graph_1 = tf.multiply(tf.add(78, 19), 79)\n",
        "\n",
        "# Alternatively\n",
        "comp_graph_1_alt = (tf.constant(78) + tf.constant(19)) * tf.constant(79)\n",
        "\n",
        "# Let's execute using session\n",
        "sess = tf.Session()\n",
        "print ('Comp Graph 1    : ', sess.run(comp_graph_1))\n",
        "print ('Comp Graph 1 Alt: ', sess.run(comp_graph_1_alt))\n",
        "sess.close()"
      ],
      "execution_count": 5,
      "outputs": [
        {
          "output_type": "stream",
          "text": [
            "Comp Graph 1    :  7663\n",
            "Comp Graph 1 Alt:  7663\n"
          ],
          "name": "stdout"
        }
      ]
    },
    {
      "metadata": {
        "id": "SVMMtuFYhaQB",
        "colab_type": "text"
      },
      "cell_type": "markdown",
      "source": [
        "Let's define a sligtly more involved graph!\n",
        "\n",
        "![alt text](https://raw.githubusercontent.com/iArunava/TensorFlow-NoteBooks/master/assets/comp_graph_2.jpg)"
      ]
    },
    {
      "metadata": {
        "id": "4856BTvRhiBb",
        "colab_type": "code",
        "colab": {
          "base_uri": "https://localhost:8080/",
          "height": 68
        },
        "outputId": "9968249b-795f-4aa7-f81a-47da4564d9f8"
      },
      "cell_type": "code",
      "source": [
        "# Let build the graph\n",
        "# We need to cast cause the tensors operated on should be of the same type\n",
        "comp_graph_part_1 = tf.cast(tf.subtract(tf.add(7, 8), tf.add(9, 10)), \n",
        "                            dtype=tf.float32)\n",
        "comp_graph_part_2 = tf.divide(tf.cast(tf.multiply(7, 10), dtype=tf.float32), tf.constant(19.5))\n",
        "comp_graph_complete = tf.maximum(comp_graph_part_1, comp_graph_part_2)\n",
        "\n",
        "# Let's execute\n",
        "sess = tf.Session()\n",
        "part1_res, part2_res, total_res = sess.run([comp_graph_part_1, comp_graph_part_2, comp_graph_complete])\n",
        "print ('Complete Result: ', total_res)\n",
        "print ('Part 1 Result: ', part1_res)\n",
        "print ('Part 2 Result: ', part2_res)\n",
        "sess.close()"
      ],
      "execution_count": 6,
      "outputs": [
        {
          "output_type": "stream",
          "text": [
            "Complete Result:  3.5897436\n",
            "Part 1 Result:  -4.0\n",
            "Part 2 Result:  3.5897436\n"
          ],
          "name": "stdout"
        }
      ]
    },
    {
      "metadata": {
        "id": "B-_ZDtEbj4N0",
        "colab_type": "text"
      },
      "cell_type": "markdown",
      "source": [
        "Cool! Let's go! Build another graph and execute it with sessions.<br/>\n",
        "\n",
        "But this time, it's all you!\n",
        "\n",
        "Build this graph and execute it with `session`!\n",
        "\n",
        "![alt text](https://raw.githubusercontent.com/iArunava/TensorFlow-NoteBooks/master/assets/comp_graph_3.jpg)\n",
        "\n",
        "_Remember that `tensors` operated on should be of the same type!_<br/>\n",
        "_Search up errors and other help you need on Google_"
      ]
    },
    {
      "metadata": {
        "id": "-uHNe1BolJY0",
        "colab_type": "code",
        "colab": {
          "base_uri": "https://localhost:8080/",
          "height": 68
        },
        "outputId": "61fa96aa-a074-4b18-91da-b422f6e7b2df"
      },
      "cell_type": "code",
      "source": [
        "# Build the graph\n",
        "# YOUR CODE HERE\n",
        "comp_graph_part_1 = tf.constant([9, 10], dtype=tf.float32) * tf.constant([7, 8.65], dtype=tf.float32)\n",
        "comp_graph_part_1 = comp_graph_part_1 / 5.6\n",
        "comp_graph_part_2 = tf.constant([7.65, 9], dtype=tf.float32) + tf.constant([13.5, 7.19], dtype=tf.float32)\n",
        "\n",
        "comp_graph_complete = tf.minimum(comp_graph_part_1, comp_graph_part_2)\n",
        "\n",
        "with tf.Session() as sess:\n",
        "  part1_res, part2_res, total_res = sess.run([comp_graph_part_1, comp_graph_part_2, comp_graph_complete])\n",
        "  print ('Complete Result: ', total_res)\n",
        "  print ('Part 1 Result: ', part1_res)\n",
        "  print ('Part 2 Result: ', part2_res)\n",
        "# Execute \n",
        "# Execute \n",
        "# YOUR CODE HERE"
      ],
      "execution_count": 7,
      "outputs": [
        {
          "output_type": "stream",
          "text": [
            "Complete Result:  [11.25     15.446429]\n",
            "Part 1 Result:  [11.25     15.446429]\n",
            "Part 2 Result:  [21.15 16.19]\n"
          ],
          "name": "stdout"
        }
      ]
    },
    {
      "metadata": {
        "id": "qmap38WelREN",
        "colab_type": "text"
      },
      "cell_type": "markdown",
      "source": [
        "Let's do another!<br/>\n",
        "It's fun! Isn't it?!\n",
        "\n",
        "Build and execute this one!\n",
        "\n",
        "![alt text](https://raw.githubusercontent.com/iArunava/TensorFlow-NoteBooks/master/assets/comp_graph_4.jpg)"
      ]
    },
    {
      "metadata": {
        "id": "0ZhYwAlLmEvB",
        "colab_type": "code",
        "colab": {
          "base_uri": "https://localhost:8080/",
          "height": 153
        },
        "outputId": "dbfe7f3b-882c-4a8e-d9dc-8e40c9565c8c"
      },
      "cell_type": "code",
      "source": [
        "# Build the graph\n",
        "# YOUR CODE HERE\n",
        "comp_graph_part_1 = tf.constant(([7.2, 3.4],\n",
        "                                [7.5, 8.6]), dtype=tf.float32)\n",
        "comp_graph_part_1 = tf.reduce_mean(comp_graph_part_1, 1)\n",
        "comp_graph_part_2 = tf.constant(([7, 9],\n",
        "                                [8, 6]), dtype=tf.float32)\n",
        "p1_graph = comp_graph_part_1 * comp_graph_part_2\n",
        "\n",
        "comp_graph_part_3 = tf.constant(([2.79, 3.81, 5.6],\n",
        "                                [7.3, 5.67, 8.9]), dtype=tf.float32)\n",
        "comp_graph_part_4 = tf.constant(([2.6, 18.1],\n",
        "                                [7.86, 9.81],\n",
        "                                [9.36, 10.11]), dtype=tf.float32)\n",
        "comp_graph_part_4 = tf.transpose(comp_graph_part_4)\n",
        "p2_graph = tf.reduce_sum(comp_graph_part_3 * comp_graph_part_4)\n",
        "\n",
        "comp_graph_complete = p1_graph + p2_graph\n",
        "\n",
        "with tf.Session() as sess:\n",
        "  part1_res, part2_res, total_res = sess.run([p1_graph, p2_graph, comp_graph_complete])\n",
        "  print ('Complete Result: \\n', total_res)\n",
        "  print ('Part 1 Result: \\n', part1_res)\n",
        "  print ('Part 2 Result: \\n', part2_res)\n",
        "# Execute \n",
        "# YOUR CODE HERE"
      ],
      "execution_count": 8,
      "outputs": [
        {
          "output_type": "stream",
          "text": [
            "Complete Result: \n",
            " [[404.4483  439.7983 ]\n",
            " [409.7483  415.64832]]\n",
            "Part 1 Result: \n",
            " [[37.100002 72.450005]\n",
            " [42.4      48.300003]]\n",
            "Part 2 Result: \n",
            " 367.3483\n"
          ],
          "name": "stdout"
        }
      ]
    },
    {
      "metadata": {
        "id": "BnB0b6qCmGmg",
        "colab_type": "text"
      },
      "cell_type": "markdown",
      "source": [
        "And a final one, before we move on to the next part!\n",
        "\n",
        "![alt text](https://raw.githubusercontent.com/iArunava/TensorFlow-NoteBooks/master/assets/comp_graph_5.jpg)"
      ]
    },
    {
      "metadata": {
        "id": "GQWyCvsQmMcL",
        "colab_type": "code",
        "colab": {
          "base_uri": "https://localhost:8080/",
          "height": 170
        },
        "outputId": "c9161335-46db-4fc6-ccc3-3af3a064058b"
      },
      "cell_type": "code",
      "source": [
        "# Build the graph\n",
        "# YOUR CODE HERE\n",
        "t1 = tf.constant(([7.36, 8.93, 10.41],\n",
        "                       [5.31, 9.38, 7.99]), dtype=tf.float32)\n",
        "t2 = tf.constant(([7.99, 10.36],\n",
        "                       [5.36, 7.98],\n",
        "                       [8.91, 5.67]), dtype=tf.float32)\n",
        "t2 = tf.transpose(t2)\n",
        "comp_graph_part_1 = tf.reduce_sum(t1 * t2)\n",
        "\n",
        "comp_graph_part_2 = (tf.constant(7.0) + comp_graph_part_1) / 19.6\n",
        "\n",
        "comp_graph_tot = comp_graph_part_2 / tf.constant(([1, 5.6, 6.1, 8],\n",
        "                                                      [0, 0, 7.98, 9],\n",
        "                                                      [0, 0, 7.6, 7],\n",
        "                                                      [0, 0, 0, 8.98]), dtype=tf.float32)\n",
        "\n",
        "with tf.Session() as sess:\n",
        "  part1_res, part2_res, total_result = sess.run([comp_graph_part_1, comp_graph_part_2, comp_graph_tot])\n",
        "  print ('Total Result: \\n', total_result)\n",
        "  print ('Part 1 Result: \\n', part1_res)\n",
        "  print ('Part 2 Result: \\n', part2_res)\n",
        "# Execute \n",
        "# YOUR CODE HERE"
      ],
      "execution_count": 9,
      "outputs": [
        {
          "output_type": "stream",
          "text": [
            "Total Result: \n",
            " [[19.46896    3.4766     3.1916327  2.43362  ]\n",
            " [       inf        inf  2.4397192  2.1632178]\n",
            " [       inf        inf  2.5617054  2.78128  ]\n",
            " [       inf        inf        inf  2.1680357]]\n",
            "Part 1 Result: \n",
            " 374.5916\n",
            "Part 2 Result: \n",
            " 19.46896\n"
          ],
          "name": "stdout"
        }
      ]
    },
    {
      "metadata": {
        "id": "12NC7XTPsJw7",
        "colab_type": "text"
      },
      "cell_type": "markdown",
      "source": [
        "# Linear Regression\n",
        "\n",
        "Okay, now we will create a dummy dataset and perform linear regression on this dataset!\n",
        "\n",
        "\n",
        "To get you in the habit of looking up for the documentation, I am not providing what some of the following functions does, Google them up!"
      ]
    },
    {
      "metadata": {
        "id": "hW31RZkjtNwI",
        "colab_type": "code",
        "colab": {}
      },
      "cell_type": "code",
      "source": [
        "# Create the dataset\n",
        "X = np.linspace(-30.0, 300.0, 300)\n",
        "Y = 2 * np.linspace(-30.0, 250.0, 300) + np.random.randn(*X.shape)\n",
        "\n",
        "# Divide it into train and test\n",
        "train_X = X[:250]\n",
        "train_Y = Y[:250]\n",
        "\n",
        "test_X = X[250:]\n",
        "test_Y = Y[250:]"
      ],
      "execution_count": 0,
      "outputs": []
    },
    {
      "metadata": {
        "id": "LQKy6U33y4lt",
        "colab_type": "code",
        "colab": {}
      },
      "cell_type": "code",
      "source": [
        "# Let's define the hyperparameters\n",
        "learning_rate = 0.000005\n",
        "n_epochs = 1000\n",
        "interval = 50"
      ],
      "execution_count": 0,
      "outputs": []
    },
    {
      "metadata": {
        "id": "1h1-D8K1uT48",
        "colab_type": "code",
        "colab": {
          "base_uri": "https://localhost:8080/",
          "height": 347
        },
        "outputId": "0a4ef3ff-705b-4386-8830-9c05faa5c52c"
      },
      "cell_type": "code",
      "source": [
        "# let's viz the first 10 datapoints of the dataset\n",
        "plt.plot(train_X[:10], train_Y[:10], 'g')\n",
        "plt.show()"
      ],
      "execution_count": 12,
      "outputs": [
        {
          "output_type": "display_data",
          "data": {
            "image/png": "[encoded data removed]",
            "text/plain": [
              "<Figure size 576x396 with 1 Axes>"
            ]
          },
          "metadata": {
            "tags": []
          }
        }
      ]
    },
    {
      "metadata": {
        "id": "jrsUps0nu8vj",
        "colab_type": "text"
      },
      "cell_type": "markdown",
      "source": [
        "** Question **<br/>\n",
        "Why did I created a session to plot the graph?<br/>\n",
        "[Ans]  tf.session.run is used to evaluate a tensor. So in order to visualize the characteristics of the plot and to evaluate and find the values of the tensors we need to use session."
      ]
    },
    {
      "metadata": {
        "id": "P3-iuxE4sjAf",
        "colab_type": "code",
        "colab": {}
      },
      "cell_type": "code",
      "source": [
        "# Let's define the placeholders\n",
        "\n",
        "# Placeholders?\n",
        "# The input to the model changes on iteration\n",
        "# So we cannot have a constant in the input as we did before\n",
        "# And thus we need placeholders which we can change on each \n",
        "# iteration of the training\n",
        "\n",
        "x = tf.placeholder(tf.float32, name='x')\n",
        "y = tf.placeholder(tf.float32, name='y')"
      ],
      "execution_count": 0,
      "outputs": []
    },
    {
      "metadata": {
        "id": "8hPRkaoxvRyV",
        "colab_type": "code",
        "colab": {}
      },
      "cell_type": "code",
      "source": [
        "# Let's define the linear regression model\n",
        "\n",
        "# tf.Variable?\n",
        "# We define the model parameters as tf.Variables\n",
        "# as they get updated throghout the training.\n",
        "# And variables denotes something which changes overtime.\n",
        "\n",
        "W = tf.Variable(0.0, name='weight_1')\n",
        "b = tf.Variable(0.0, name='bias_1')\n",
        "\n",
        "pred_y = (W*x) + b"
      ],
      "execution_count": 0,
      "outputs": []
    },
    {
      "metadata": {
        "id": "cSw1P8bkv96r",
        "colab_type": "code",
        "colab": {}
      },
      "cell_type": "code",
      "source": [
        "# Let's define the loss function\n",
        "# We are going to use the mean squared loss\n",
        "loss = tf.reduce_mean(tf.square(y - pred_y))"
      ],
      "execution_count": 0,
      "outputs": []
    },
    {
      "metadata": {
        "id": "5G4uQqjsygNj",
        "colab_type": "code",
        "colab": {}
      },
      "cell_type": "code",
      "source": [
        "# Let's define the optimizer\n",
        "# And specify the which value (i.e. loss) it has to minimize\n",
        "optimizer = tf.train.GradientDescentOptimizer(learning_rate=learning_rate).minimize(loss)"
      ],
      "execution_count": 0,
      "outputs": []
    },
    {
      "metadata": {
        "id": "ttI7ZT-ozAm1",
        "colab_type": "code",
        "colab": {
          "base_uri": "https://localhost:8080/",
          "height": 721
        },
        "outputId": "0e560c0e-8254-4ffb-e23d-4200dad1df80"
      },
      "cell_type": "code",
      "source": [
        "# So the graph is now built\n",
        "# Now let's execute the graph using session\n",
        "# i.e. lets train the model\n",
        "\n",
        "# What it is to train a model?\n",
        "# To update the paramters in the graph (i.e. tf.Variables)\n",
        "# So that the loss is minimized\n",
        "\n",
        "# Okay let's start!\n",
        "with tf.Session() as sess:\n",
        "  # We need to initialize the variables in our graph\n",
        "  sess.run(tf.global_variables_initializer())\n",
        "  \n",
        "  for epoch in range(n_epochs):\n",
        "    _, curr_loss = sess.run([optimizer, loss], feed_dict={x:train_X, y:train_Y})\n",
        "    \n",
        "    if epoch % interval == 0:\n",
        "      print ('Loss after epoch', epoch, ' is ', curr_loss)\n",
        "    \n",
        "  print ('Now testing the model in the test set')\n",
        "  final_preds, final_loss = sess.run([pred_y, loss], feed_dict={x:test_X, y:test_Y})\n",
        "    \n",
        "  print ('The final loss is: ', final_loss)\n",
        "  \n",
        "  # Plotting the final predictions against the true predictions\n",
        "  plt.plot(test_X[:10], test_Y[:10], 'g', label='True Function')\n",
        "  plt.plot(test_X[:10], final_preds[:10], 'r', label='Predicted Function')\n",
        "  plt.legend()\n",
        "  plt.show()"
      ],
      "execution_count": 18,
      "outputs": [
        {
          "output_type": "stream",
          "text": [
            "Loss after epoch 0  is  48241.758\n",
            "Loss after epoch 50  is  29.843296\n",
            "Loss after epoch 100  is  29.832943\n",
            "Loss after epoch 150  is  29.822683\n",
            "Loss after epoch 200  is  29.812458\n",
            "Loss after epoch 250  is  29.802202\n",
            "Loss after epoch 300  is  29.791937\n",
            "Loss after epoch 350  is  29.781736\n",
            "Loss after epoch 400  is  29.771505\n",
            "Loss after epoch 450  is  29.761292\n",
            "Loss after epoch 500  is  29.751057\n",
            "Loss after epoch 550  is  29.74081\n",
            "Loss after epoch 600  is  29.730623\n",
            "Loss after epoch 650  is  29.72042\n",
            "Loss after epoch 700  is  29.710188\n",
            "Loss after epoch 750  is  29.7\n",
            "Loss after epoch 800  is  29.689804\n",
            "Loss after epoch 850  is  29.679585\n",
            "Loss after epoch 900  is  29.669428\n",
            "Loss after epoch 950  is  29.659227\n",
            "Now testing the model in the test set\n",
            "The final loss is:  35.69291\n"
          ],
          "name": "stdout"
        },
        {
          "output_type": "display_data",
          "data": {
            "image/png": "[encoded data removed]",
            "text/plain": [
              "<Figure size 576x396 with 1 Axes>"
            ]
          },
          "metadata": {
            "tags": []
          }
        }
      ]
    },
    {
      "metadata": {
        "id": "jgmH3wwt1src",
        "colab_type": "text"
      },
      "cell_type": "markdown",
      "source": [
        "Okay, so we are doing good!<br/>\n",
        "\n",
        "Now, let me just put everything here into one function so that you can tweak the hyperparameters easily!\n",
        "\n",
        "Or better, do it yourself!"
      ]
    },
    {
      "metadata": {
        "id": "OZ5TY7B_4E_v",
        "colab_type": "code",
        "colab": {}
      },
      "cell_type": "code",
      "source": [
        "def linear_regression(learning_rate=0.000005, n_epochs=100, interval=50):\n",
        " \n",
        "\n",
        "  # YOUR CODE HERE\n",
        "  with tf.Session() as sess:\n",
        "    sess.run(tf.global_variables_initializer())\n",
        "  \n",
        "    for epoch in range(n_epochs):\n",
        "      pred_train, current_loss = sess.run([optimizer, loss], feed_dict={x:train_X, y:train_Y})\n",
        "\n",
        "      if epoch % interval == 0:\n",
        "        print ('Loss after epoch', epoch, ' is ', current_loss)\n",
        "\n",
        "    print ('Now testing the model in the test set')\n",
        "    final_pred, final_loss = sess.run([pred_y, loss], feed_dict={x:test_X, y:test_Y})\n",
        "    \n",
        "  print ('The final loss is: ', final_loss)\n",
        "  \n",
        "  return\n"
      ],
      "execution_count": 0,
      "outputs": []
    },
    {
      "metadata": {
        "id": "A6MaclhK4rc6",
        "colab_type": "code",
        "colab": {
          "base_uri": "https://localhost:8080/",
          "height": 221
        },
        "outputId": "9988175d-c6f6-4cea-81a1-dc213bf5710c"
      },
      "cell_type": "code",
      "source": [
        "# Okay! Now let's tweak!\n",
        "linear_regression(learning_rate=0.000034, n_epochs=500)"
      ],
      "execution_count": 28,
      "outputs": [
        {
          "output_type": "stream",
          "text": [
            "Loss after epoch 0  is  48241.758\n",
            "Loss after epoch 50  is  29.843296\n",
            "Loss after epoch 100  is  29.832943\n",
            "Loss after epoch 150  is  29.822683\n",
            "Loss after epoch 200  is  29.812458\n",
            "Loss after epoch 250  is  29.802202\n",
            "Loss after epoch 300  is  29.791937\n",
            "Loss after epoch 350  is  29.781736\n",
            "Loss after epoch 400  is  29.771505\n",
            "Loss after epoch 450  is  29.761292\n",
            "Now testing the model in the test set\n",
            "The final loss is:  35.814262\n"
          ],
          "name": "stdout"
        }
      ]
    },
    {
      "metadata": {
        "id": "peoHmV2M40uU",
        "colab_type": "code",
        "colab": {}
      },
      "cell_type": "code",
      "source": [
        "linear_regression(learning_rate=0.0000006, n_epochs=1000)"
      ],
      "execution_count": 0,
      "outputs": []
    },
    {
      "metadata": {
        "id": "KjY_KnlE5ClG",
        "colab_type": "text"
      },
      "cell_type": "markdown",
      "source": [
        "## Drive the loss to a minimum."
      ]
    },
    {
      "metadata": {
        "id": "JKiHjGN15HPX",
        "colab_type": "code",
        "colab": {}
      },
      "cell_type": "code",
      "source": [
        "# YOUR CODE HERE\n",
        "def linear_regression(learning_rate=0.0000001, n_epochs=1000, interval=100):\n",
        "  # YOUR CODE HERE\n",
        "  with tf.Session() as sess:\n",
        "    sess.run(tf.global_variables_initializer())\n",
        "  \n",
        "    for epoch in range(n_epochs):\n",
        "      pred_train, current_loss = sess.run([optimizer, loss], feed_dict={x:train_X, y:train_Y})\n",
        "\n",
        "      if epoch % interval == 0:\n",
        "        print ('Loss after epoch', epoch, ' is ', current_loss)\n",
        "\n",
        "    print ('Now testing the model in the test set')\n",
        "    final_pred, final_loss = sess.run([pred_y, loss], feed_dict={x:test_X, y:test_Y})\n",
        "    \n",
        "  print ('The final loss is: ', final_loss)\n",
        "  \n",
        "  return\n"
      ],
      "execution_count": 0,
      "outputs": []
    },
    {
      "metadata": {
        "id": "0knOp0SUmOoy",
        "colab_type": "code",
        "colab": {
          "base_uri": "https://localhost:8080/",
          "height": 136
        },
        "outputId": "087d8c9e-c3e5-4d8d-93a6-14c57d3ac642"
      },
      "cell_type": "code",
      "source": [
        "linear_regression(learning_rate=0.8, n_epochs=200000, interval=40000)"
      ],
      "execution_count": 44,
      "outputs": [
        {
          "output_type": "stream",
          "text": [
            "Loss after epoch 0  is  48241.758\n",
            "Loss after epoch 40000  is  22.710217\n",
            "Loss after epoch 80000  is  17.332392\n",
            "Loss after epoch 120000  is  13.283219\n",
            "Loss after epoch 160000  is  10.234737\n",
            "Now testing the model in the test set\n",
            "The final loss is:  9.740068\n"
          ],
          "name": "stdout"
        }
      ]
    },
    {
      "metadata": {
        "id": "4smcXWZdnYy1",
        "colab_type": "code",
        "colab": {
          "base_uri": "https://localhost:8080/",
          "height": 221
        },
        "outputId": "ce2609e8-e1b0-4c10-ea16-84cdadceeb9f"
      },
      "cell_type": "code",
      "source": [
        "linear_regression(learning_rate=0.08, n_epochs=300000, interval=30000)"
      ],
      "execution_count": 45,
      "outputs": [
        {
          "output_type": "stream",
          "text": [
            "Loss after epoch 0  is  48241.758\n",
            "Loss after epoch 30000  is  24.310637\n",
            "Loss after epoch 60000  is  19.8307\n",
            "Loss after epoch 90000  is  16.209751\n",
            "Loss after epoch 120000  is  13.283219\n",
            "Loss after epoch 150000  is  10.9177685\n",
            "Loss after epoch 180000  is  9.004981\n",
            "Loss after epoch 210000  is  7.460944\n",
            "Loss after epoch 240000  is  6.211317\n",
            "Loss after epoch 270000  is  5.2022204\n",
            "Now testing the model in the test set\n",
            "The final loss is:  5.4466424\n"
          ],
          "name": "stdout"
        }
      ]
    },
    {
      "metadata": {
        "id": "49PIqfuWqIBm",
        "colab_type": "code",
        "colab": {
          "base_uri": "https://localhost:8080/",
          "height": 221
        },
        "outputId": "b54c1e77-b080-4f67-87af-9dc0c3e511c6"
      },
      "cell_type": "code",
      "source": [
        "linear_regression(learning_rate=0.8, n_epochs=500000, interval=50000)"
      ],
      "execution_count": 46,
      "outputs": [
        {
          "output_type": "stream",
          "text": [
            "Loss after epoch 0  is  48241.758\n",
            "Loss after epoch 50000  is  21.219416\n",
            "Loss after epoch 100000  is  15.16438\n",
            "Loss after epoch 150000  is  10.9177685\n",
            "Loss after epoch 200000  is  7.9400454\n",
            "Loss after epoch 250000  is  5.8506804\n",
            "Loss after epoch 300000  is  4.386475\n",
            "Loss after epoch 350000  is  3.3583517\n",
            "Loss after epoch 400000  is  2.6385438\n",
            "Loss after epoch 450000  is  2.132647\n",
            "Now testing the model in the test set\n",
            "The final loss is:  2.2477086\n"
          ],
          "name": "stdout"
        }
      ]
    },
    {
      "metadata": {
        "id": "I0IaSFJ1q2LT",
        "colab_type": "code",
        "colab": {
          "base_uri": "https://localhost:8080/",
          "height": 221
        },
        "outputId": "d5666f1e-b748-4f41-9a66-b68ef24da17e"
      },
      "cell_type": "code",
      "source": [
        "linear_regression(learning_rate=0.08, n_epochs=500000, interval=50000)"
      ],
      "execution_count": 47,
      "outputs": [
        {
          "output_type": "stream",
          "text": [
            "Loss after epoch 0  is  48241.758\n",
            "Loss after epoch 50000  is  21.219416\n",
            "Loss after epoch 100000  is  15.16438\n",
            "Loss after epoch 150000  is  10.9177685\n",
            "Loss after epoch 200000  is  7.9400454\n",
            "Loss after epoch 250000  is  5.8506804\n",
            "Loss after epoch 300000  is  4.386475\n",
            "Loss after epoch 350000  is  3.3583517\n",
            "Loss after epoch 400000  is  2.6385438\n",
            "Loss after epoch 450000  is  2.132647\n",
            "Now testing the model in the test set\n",
            "The final loss is:  2.2477086\n"
          ],
          "name": "stdout"
        }
      ]
    },
    {
      "metadata": {
        "id": "4b7eBOolq412",
        "colab_type": "code",
        "colab": {
          "base_uri": "https://localhost:8080/",
          "height": 391
        },
        "outputId": "b7245316-aa82-4f24-e7be-085bc9b6e95e"
      },
      "cell_type": "code",
      "source": [
        "linear_regression(learning_rate=0.8, n_epochs=1000000, interval=50000)"
      ],
      "execution_count": 48,
      "outputs": [
        {
          "output_type": "stream",
          "text": [
            "Loss after epoch 0  is  48241.758\n",
            "Loss after epoch 50000  is  21.219416\n",
            "Loss after epoch 100000  is  15.16438\n",
            "Loss after epoch 150000  is  10.9177685\n",
            "Loss after epoch 200000  is  7.9400454\n",
            "Loss after epoch 250000  is  5.8506804\n",
            "Loss after epoch 300000  is  4.386475\n",
            "Loss after epoch 350000  is  3.3583517\n",
            "Loss after epoch 400000  is  2.6385438\n",
            "Loss after epoch 450000  is  2.132647\n",
            "Loss after epoch 500000  is  1.7783551\n",
            "Loss after epoch 550000  is  1.5294437\n",
            "Loss after epoch 600000  is  1.3565342\n",
            "Loss after epoch 650000  is  1.2327821\n",
            "Loss after epoch 700000  is  1.1488175\n",
            "Loss after epoch 750000  is  1.088131\n",
            "Loss after epoch 800000  is  1.0485603\n",
            "Loss after epoch 850000  is  1.0154438\n",
            "Loss after epoch 900000  is  0.99606717\n",
            "Loss after epoch 950000  is  0.9841915\n",
            "Now testing the model in the test set\n",
            "The final loss is:  1.2012733\n"
          ],
          "name": "stdout"
        }
      ]
    },
    {
      "metadata": {
        "id": "cI9eNZeHsnz8",
        "colab_type": "code",
        "colab": {
          "base_uri": "https://localhost:8080/",
          "height": 561
        },
        "outputId": "67fa45be-856c-49fa-8835-9d629e99ba7c"
      },
      "cell_type": "code",
      "source": [
        "linear_regression(learning_rate=0.8, n_epochs=3000000, interval=100000)"
      ],
      "execution_count": 49,
      "outputs": [
        {
          "output_type": "stream",
          "text": [
            "Loss after epoch 0  is  48241.758\n",
            "Loss after epoch 100000  is  15.16438\n",
            "Loss after epoch 200000  is  7.9400454\n",
            "Loss after epoch 300000  is  4.386475\n",
            "Loss after epoch 400000  is  2.6385438\n",
            "Loss after epoch 500000  is  1.7783551\n",
            "Loss after epoch 600000  is  1.3565342\n",
            "Loss after epoch 700000  is  1.1488175\n",
            "Loss after epoch 800000  is  1.0485603\n",
            "Loss after epoch 900000  is  0.99606717\n",
            "Loss after epoch 1000000  is  0.9739313\n",
            "Loss after epoch 1100000  is  0.9582495\n",
            "Loss after epoch 1200000  is  0.9526469\n",
            "Loss after epoch 1300000  is  0.9526469\n",
            "Loss after epoch 1400000  is  0.9526469\n",
            "Loss after epoch 1500000  is  0.9526469\n",
            "Loss after epoch 1600000  is  0.9526469\n",
            "Loss after epoch 1700000  is  0.9526469\n",
            "Loss after epoch 1800000  is  0.9526469\n",
            "Loss after epoch 1900000  is  0.9526469\n",
            "Loss after epoch 2000000  is  0.9526469\n",
            "Loss after epoch 2100000  is  0.9526469\n",
            "Loss after epoch 2200000  is  0.9526469\n",
            "Loss after epoch 2300000  is  0.9526469\n",
            "Loss after epoch 2400000  is  0.9526469\n",
            "Loss after epoch 2500000  is  0.9526469\n",
            "Loss after epoch 2600000  is  0.9526469\n",
            "Loss after epoch 2700000  is  0.9526469\n",
            "Loss after epoch 2800000  is  0.9526469\n",
            "Loss after epoch 2900000  is  0.9526469\n",
            "Now testing the model in the test set\n",
            "The final loss is:  1.1648217\n"
          ],
          "name": "stdout"
        }
      ]
    },
    {
      "metadata": {
        "id": "mjeM--rNujcm",
        "colab_type": "code",
        "colab": {}
      },
      "cell_type": "code",
      "source": [
        ""
      ],
      "execution_count": 0,
      "outputs": []
    }
  ]
}