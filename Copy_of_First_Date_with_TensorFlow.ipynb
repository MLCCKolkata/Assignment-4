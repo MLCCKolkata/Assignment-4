{
  "nbformat": 4,
  "nbformat_minor": 0,
  "metadata": {
    "colab": {
      "name": "Copy of First_Date_with_TensorFlow.ipynb",
      "version": "0.3.2",
      "provenance": [],
      "include_colab_link": true
    },
    "kernelspec": {
      "name": "python3",
      "display_name": "Python 3"
    }
  },
  "cells": [
    {
      "cell_type": "markdown",
      "metadata": {
        "id": "view-in-github",
        "colab_type": "text"
      },
      "source": [
        "<a href=\"https://colab.research.google.com/github/Anubhab-Bob/Assignment-4/blob/Anubhab-Bob/Copy_of_First_Date_with_TensorFlow.ipynb\" target=\"_parent\"><img src=\"https://colab.research.google.com/assets/colab-badge.svg\" alt=\"Open In Colab\"/></a>"
      ]
    },
    {
      "metadata": {
        "id": "2XXfXed5YLbe",
        "colab_type": "text"
      },
      "cell_type": "markdown",
      "source": [
        "# First Date with TensorFlow\n",
        "\n",
        "Hi all,<br/>\n",
        "\n",
        "You know what's important for understanding Deep Learning / Machine Learning?<br/>\n",
        "Intuition. Period.\n",
        "\n",
        "And Intuition comes when you run the code multiple times.\n",
        "\n",
        "So, today I can write a couple of defination and say this is this, this is that.<br/>\n",
        "You Google half of the things up. You find answers which you need to Google further.<br/>\n",
        "In the process, you probably won't even remember what's the first thing you started out with!\n",
        "\n",
        "So?\n",
        "\n",
        "Hence on, I will execute cells with code. <br/>\n",
        "The neurons in your brain will optimize a function to get a hold of what each function is doing.<br/>\n",
        "**No Theory Just Code.**\n",
        "\n",
        "I will at max give a defination that extends for a line. That's it.<br/>\n",
        "Let's get started!\n",
        "\n",
        "<hr/>\n",
        "\n",
        "**RECOMMENDED!**<br/>\n",
        "Write the code in the cells using the signals sent by your brain to your fingers!<br/>\n",
        "Don't just `shift+enter` the cells.\n",
        "\n",
        "[Source](https://github.com/iArunava/TensorFlow-NoteBooks)"
      ]
    },
    {
      "metadata": {
        "id": "gYWUpE-bYKWP",
        "colab_type": "code",
        "colab": {}
      },
      "cell_type": "code",
      "source": [
        "# Essential imports\n",
        "import numpy as np\n",
        "import tensorflow as tf\n",
        "import matplotlib.pyplot as plt"
      ],
      "execution_count": 0,
      "outputs": []
    },
    {
      "metadata": {
        "id": "eKpz5NCIYMdi",
        "colab_type": "code",
        "colab": {}
      },
      "cell_type": "code",
      "source": [
        "# Let's define some tensors\n",
        "t1 = tf.constant(2.0, dtype=tf.float32)\n",
        "t2 = tf.constant([1.0, 2.0], dtype=tf.float32)\n",
        "t3 = tf.constant([[[1.45, 9.0], [2.0, 3.0], [4.0, 5.0]], \n",
        "                  [[1.0, 9.0], [2.0, 3.0], [4.0, 5.0]]])"
      ],
      "execution_count": 0,
      "outputs": []
    },
    {
      "metadata": {
        "id": "vmMcjzTxbWzw",
        "colab_type": "code",
        "outputId": "1396b865-0a11-4b31-a1d5-9510e6b20301",
        "colab": {
          "base_uri": "https://localhost:8080/",
          "height": 68
        }
      },
      "cell_type": "code",
      "source": [
        "# Let's print them out!\n",
        "print (t1)\n",
        "print (t2)\n",
        "print (t3)"
      ],
      "execution_count": 6,
      "outputs": [
        {
          "output_type": "stream",
          "text": [
            "Tensor(\"Const_3:0\", shape=(), dtype=float32)\n",
            "Tensor(\"Const_4:0\", shape=(2,), dtype=float32)\n",
            "Tensor(\"Const_5:0\", shape=(2, 3, 2), dtype=float32)\n"
          ],
          "name": "stdout"
        }
      ]
    },
    {
      "metadata": {
        "id": "10ahnfjYbcop",
        "colab_type": "text"
      },
      "cell_type": "markdown",
      "source": [
        "Where's Waldo?<br/>\n",
        "I mean, the value?<br/>\n",
        "\n",
        "So, the thing is you can't print the value of tensors directly.<br/>\n",
        "You have to use `session`, so let's do that!"
      ]
    },
    {
      "metadata": {
        "id": "ol6O5I7Tb2nb",
        "colab_type": "code",
        "outputId": "1c005d9c-951d-48be-94e5-8681eaefca4d",
        "colab": {
          "base_uri": "https://localhost:8080/",
          "height": 204
        }
      },
      "cell_type": "code",
      "source": [
        "sess = tf.Session()\n",
        "print (sess.run(t1))\n",
        "print (\"=======================\")\n",
        "print (sess.run(t2))\n",
        "print (\"=======================\")\n",
        "print (sess.run(t3))\n",
        "sess.close()"
      ],
      "execution_count": 7,
      "outputs": [
        {
          "output_type": "stream",
          "text": [
            "2.0\n",
            "=======================\n",
            "[1. 2.]\n",
            "=======================\n",
            "[[[1.45 9.  ]\n",
            "  [2.   3.  ]\n",
            "  [4.   5.  ]]\n",
            "\n",
            " [[1.   9.  ]\n",
            "  [2.   3.  ]\n",
            "  [4.   5.  ]]]\n"
          ],
          "name": "stdout"
        }
      ]
    },
    {
      "metadata": {
        "id": "rXKfVs_zb-kU",
        "colab_type": "text"
      },
      "cell_type": "markdown",
      "source": [
        "Aaahaa!! Just printed those tensors!!!<br/>\n",
        "Feels good! <br/>\n",
        "\n",
        "For some of you, who are like, dude you got \"No Theory Just Code\" in bold <br/>\n",
        "And you are still using the markdown cells for the theory ?!\n",
        "\n",
        "I am just gonna say I am a unreasonable man.<br/>\n",
        "\n",
        "\n",
        "So, you are programming with tf.<br/>\n",
        "What ever you do is broken down to 2 basic steps:\n",
        "- Building the computational Graph!\n",
        "- Execute that graph using `session`!\n",
        "\n",
        "That's all!\n",
        "\n",
        "<hr/>\n",
        "\n",
        "Let's compare this 2 steps with what we did above!<br/>\n",
        "So, I defined 3 `tensor`s and these 3 `tensor`s formed my computational Graph.<br/>\n",
        "And then I executed each tensor in this graph using a `session`.\n",
        "\n",
        "That simple!\n",
        "\n",
        "<hr/>\n",
        "\n",
        "Now, let's define a few more computational graphs and execute them with sessions.\n",
        "\n",
        "Okay, to start with let's build this computational graph!\n",
        "\n",
        "![Comp Graph 1](https://raw.githubusercontent.com/iArunava/TensorFlow-NoteBooks/master/assets/comp_graph_1.jpg)"
      ]
    },
    {
      "metadata": {
        "id": "FyVz0GNqgreZ",
        "colab_type": "code",
        "outputId": "e345fccd-ca78-49bf-b9dd-ae0a6d29da9f",
        "colab": {
          "base_uri": "https://localhost:8080/",
          "height": 51
        }
      },
      "cell_type": "code",
      "source": [
        "# Let's define the graph\n",
        "comp_graph_1 = tf.multiply(tf.add(78, 19), 79)\n",
        "\n",
        "# Alternatively\n",
        "comp_graph_1_alt = (tf.constant(78) + tf.constant(19)) * tf.constant(79)\n",
        "\n",
        "# Let's execute using session\n",
        "sess = tf.Session()\n",
        "print ('Comp Graph 1    : ', sess.run(comp_graph_1))\n",
        "print ('Comp Graph 1 Alt: ', sess.run(comp_graph_1_alt))\n",
        "sess.close()"
      ],
      "execution_count": 8,
      "outputs": [
        {
          "output_type": "stream",
          "text": [
            "Comp Graph 1    :  7663\n",
            "Comp Graph 1 Alt:  7663\n"
          ],
          "name": "stdout"
        }
      ]
    },
    {
      "metadata": {
        "id": "SVMMtuFYhaQB",
        "colab_type": "text"
      },
      "cell_type": "markdown",
      "source": [
        "Let's define a sligtly more involved graph!\n",
        "\n",
        "![alt text](https://raw.githubusercontent.com/iArunava/TensorFlow-NoteBooks/master/assets/comp_graph_2.jpg)"
      ]
    },
    {
      "metadata": {
        "id": "4856BTvRhiBb",
        "colab_type": "code",
        "outputId": "50a23939-418c-4565-bd87-b66b9ee7b2bf",
        "colab": {
          "base_uri": "https://localhost:8080/",
          "height": 68
        }
      },
      "cell_type": "code",
      "source": [
        "# Let build the graph\n",
        "# We need to cast cause the tensors operated on should be of the same type\n",
        "comp_graph_part_1 = tf.cast(tf.subtract(tf.add(7, 8), tf.add(9, 10)), \n",
        "                            dtype=tf.float32)\n",
        "comp_graph_part_2 = tf.divide(tf.cast(tf.multiply(7, 10), dtype=tf.float32), tf.constant(19.5))\n",
        "comp_graph_complete = tf.maximum(comp_graph_part_1, comp_graph_part_2)\n",
        "\n",
        "# Let's execute\n",
        "sess = tf.Session()\n",
        "part1_res, part2_res, total_res = sess.run([comp_graph_part_1, comp_graph_part_2, comp_graph_complete])\n",
        "print ('Complete Result: ', total_res)\n",
        "print ('Part 1 Result: ', part1_res)\n",
        "print ('Part 2 Result: ', part2_res)\n",
        "sess.close()"
      ],
      "execution_count": 9,
      "outputs": [
        {
          "output_type": "stream",
          "text": [
            "Complete Result:  3.5897436\n",
            "Part 1 Result:  -4.0\n",
            "Part 2 Result:  3.5897436\n"
          ],
          "name": "stdout"
        }
      ]
    },
    {
      "metadata": {
        "id": "B-_ZDtEbj4N0",
        "colab_type": "text"
      },
      "cell_type": "markdown",
      "source": [
        "Cool! Let's go! Build another graph and execute it with sessions.<br/>\n",
        "\n",
        "But this time, it's all you!\n",
        "\n",
        "Build this graph and execute it with `session`!\n",
        "\n",
        "![alt text](https://raw.githubusercontent.com/iArunava/TensorFlow-NoteBooks/master/assets/comp_graph_3.jpg)\n",
        "\n",
        "_Remember that `tensors` operated on should be of the same type!_<br/>\n",
        "_Search up errors and other help you need on Google_"
      ]
    },
    {
      "metadata": {
        "id": "-uHNe1BolJY0",
        "colab_type": "code",
        "outputId": "25007c20-00d5-4239-ab31-3e319120d77b",
        "colab": {
          "base_uri": "https://localhost:8080/",
          "height": 119
        }
      },
      "cell_type": "code",
      "source": [
        "# Build the graph\n",
        "# YOUR CODE HERE\n",
        "node_1 = tf.constant([9, 10], dtype=tf.float32, name='leaf_node1')\n",
        "node_2 = tf.constant([7, 8.65], dtype=tf.float32, name='leaf_node2')\n",
        "node_3 = tf.constant(5.6, dtype=tf.float32, name='leaf_node3')\n",
        "node_4 = tf.constant([7.65, 9], dtype=tf.float32, name='leaf_node4')\n",
        "node_5 = tf.constant([13.5, 7.18], dtype=tf.float32, name='leaf_node5')\n",
        "\n",
        "cg_part_1=(node_1 * node_2)\n",
        "\n",
        "cg_part_2=(node_4 + node_5)\n",
        "\n",
        "cg_part_3=tf.divide(cg_part_1, node_3)\n",
        "\n",
        "comp_graph_2 = tf.minimum(((node_1 * node_2) / node_3),\n",
        "                  (node_4 + node_5))\n",
        "\n",
        "comp_graph_2_alt=tf.minimum(cg_part_2, cg_part_3)\n",
        "# Execute \n",
        "# YOUR CODE HERE\n",
        "with tf.Session() as sess:\n",
        "    print(sess.run(comp_graph_2))\n",
        "    part1, part2, part3, total = sess.run([cg_part_1, cg_part_2, cg_part_3, comp_graph_2_alt])\n",
        "print (\"=======================\")\n",
        "print ('Part 1 Result: ', part1)\n",
        "print ('Part 2 Result: ', part2)\n",
        "print ('Part 3 Result: ', part3)\n",
        "print ('Final Result: ', total)"
      ],
      "execution_count": 10,
      "outputs": [
        {
          "output_type": "stream",
          "text": [
            "[11.25     15.446429]\n",
            "=======================\n",
            "Part 1 Result:  [63.  86.5]\n",
            "Part 2 Result:  [21.15 16.18]\n",
            "Part 3 Result:  [11.25     15.446429]\n",
            "Final Result:  [11.25     15.446429]\n"
          ],
          "name": "stdout"
        }
      ]
    },
    {
      "metadata": {
        "id": "qmap38WelREN",
        "colab_type": "text"
      },
      "cell_type": "markdown",
      "source": [
        "Let's do another!<br/>\n",
        "It's fun! Isn't it?!\n",
        "\n",
        "Build and execute this one!\n",
        "\n",
        "![alt text](https://raw.githubusercontent.com/iArunava/TensorFlow-NoteBooks/master/assets/comp_graph_4.jpg)"
      ]
    },
    {
      "metadata": {
        "id": "0ZhYwAlLmEvB",
        "colab_type": "code",
        "outputId": "4b97a028-dc5d-4d7b-b640-b21e85c7b8bd",
        "colab": {
          "base_uri": "https://localhost:8080/",
          "height": 238
        }
      },
      "cell_type": "code",
      "source": [
        "# Build the graph\n",
        "# YOUR CODE HERE\n",
        "node_6 = tf.constant([[1.2 , 3.4],\n",
        "                     [7.5 , 8.6]], dtype = tf.float32, name='leaf_node6')\n",
        "node_7 = tf.constant([[7 , 9],\n",
        "                     [8 , 6]] , dtype = tf.float32, name='leaf_node7')\n",
        "node_8 = tf.constant([[2.6 , 18.1],\n",
        "                     [7.86 , 9.81],\n",
        "                     [9.36 , 10.41]] , dtype = tf.float32, name='leaf_node8')\n",
        "node_9 = tf.constant([[2.79 , 3.81 , 5.6],\n",
        "                     [7.3 , 5.67 , 8.9]] , dtype = tf.float32, name='leaf_node9')\n",
        "\n",
        "cg_1 = tf.reduce_mean(node_6, axis = 1)\n",
        "cg_2 = tf.transpose(node_8)\n",
        "cg_3 = tf.multiply(node_7 , cg_1)\n",
        "cg_4 = tf.multiply(node_9 , cg_2)\n",
        "cg_5 = tf.reduce_sum(cg_4)\n",
        "cg_com = cg_3 + cg_5\n",
        "\n",
        "#cg_1alt = (node_7 * (np.mean(node_6, axis = 1)))\n",
        "#cg_1alt = (node_7 * (tf.reduce_mean(node_6, axis = 1)))\n",
        "#cg_2alt = np.sum((node_9 * tf.transpose(node_8)))\n",
        "#cg_2alt = tf.reduce_sum((node_9 * tf.transpose(node_8)))\n",
        "#cg_comalt = cg_1alt + cg_2alt\n",
        "\n",
        "# Execute \n",
        "# YOUR CODE HERE\n",
        "with tf.Session() as sess:\n",
        "    print(sess.run(cg_com))\n",
        "    part_1, part_2, part_3, part_4, part_5, final = sess.run(\n",
        "        [cg_1, cg_2, cg_3, cg_4, cg_5, cg_com])\n",
        "print (\"=======================\")\n",
        "print ('Part 1 Result: ', part_1)\n",
        "print ('Part 2 Result: ', part_2)\n",
        "print ('Part 3 Result: ', part_3)\n",
        "print ('Part 2 Result: ', part_4)\n",
        "print ('Part 3 Result: ', part_5)\n",
        "print ('Final Result: ', final)"
      ],
      "execution_count": 11,
      "outputs": [
        {
          "output_type": "stream",
          "text": [
            "[[386.1183  442.4683 ]\n",
            " [388.41827 418.3183 ]]\n",
            "=======================\n",
            "Part 1 Result:  [2.3000002 8.05     ]\n",
            "Part 2 Result:  [[ 2.6   7.86  9.36]\n",
            " [18.1   9.81 10.41]]\n",
            "Part 3 Result:  [[16.100002 72.450005]\n",
            " [18.400002 48.300003]]\n",
            "Part 2 Result:  [[  7.2539997  29.9466     52.415997 ]\n",
            " [132.13       55.622704   92.648994 ]]\n",
            "Part 3 Result:  370.01828\n",
            "Final Result:  [[386.1183  442.4683 ]\n",
            " [388.41827 418.3183 ]]\n"
          ],
          "name": "stdout"
        }
      ]
    },
    {
      "metadata": {
        "id": "BnB0b6qCmGmg",
        "colab_type": "text"
      },
      "cell_type": "markdown",
      "source": [
        "And a final one, before we move on to the next part!\n",
        "\n",
        "![alt text](https://raw.githubusercontent.com/iArunava/TensorFlow-NoteBooks/master/assets/comp_graph_5.jpg)"
      ]
    },
    {
      "metadata": {
        "id": "GQWyCvsQmMcL",
        "colab_type": "code",
        "outputId": "69060a80-9d7f-4b1a-b125-683be586a07a",
        "colab": {
          "base_uri": "https://localhost:8080/",
          "height": 357
        }
      },
      "cell_type": "code",
      "source": [
        "# Build the graph\n",
        "# YOUR CODE HERE\n",
        "\n",
        "node_10 = tf.constant([[7.36 , 8.91 , 10.41],\n",
        "                       [5.31 , 9.38 , 7.99]] , dtype = tf.float32, name='leaf_node10')\n",
        "node_11 = tf.constant([[7.99 , 10.36],\n",
        "                       [5.36 , 7.98],\n",
        "                       [8.91 , 5.67]] , dtype = tf.float32, name='leaf_node11')\n",
        "node_12 = tf.constant([[1.0 , 5.6 , 6.1 , 8.0],\n",
        "                       [0 , 0 , 7.98 , 9.0],\n",
        "                       [0 , 0 , 7.6 , 7],\n",
        "                       [0 , 0 , 0 , 8.98]] , dtype = tf.float32, name='leaf_node12')\n",
        "\n",
        "c_graph1 = tf.transpose(node_11)\n",
        "c_graph2 = (node_10 * c_graph1)\n",
        "c_graph3 = tf.reduce_sum(c_graph2)\n",
        "c_graph4 = tf.add(c_graph3 , 7.0)\n",
        "c_graph5 = tf.divide(c_graph4 , 19.6)\n",
        "c_graph_final = tf.divide(c_graph5 , node_12)\n",
        "\n",
        "c_graph_alt = (((tf.reduce_sum(node_10 * tf.transpose(node_11))) + 7.0) / 19.6/node_12)\n",
        "\n",
        "# Execute \n",
        "# YOUR CODE HERE\n",
        "\n",
        "with tf.Session() as sess:\n",
        "    print(sess.run(c_graph_final))\n",
        "    pt_1, pt_2, pt_3, pt_4, pt_5, rslt = sess.run(\n",
        "        [c_graph1, c_graph2, c_graph3, c_graph4, c_graph5, c_graph_final])\n",
        "print (\"\\n\\n=======================\\n\\n\")\n",
        "print ('Part 1 Result: ', pt_1)\n",
        "print ('Part 2 Result: ', pt_2)\n",
        "print ('Part 3 Result: ', pt_3)\n",
        "print ('Part 2 Result: ', pt_4)\n",
        "print ('Part 3 Result: ', pt_5)\n",
        "print ('Final Result: ', rslt)"
      ],
      "execution_count": 12,
      "outputs": [
        {
          "output_type": "stream",
          "text": [
            "[[19.463488   3.475623   3.1907358  2.432936 ]\n",
            " [       inf        inf  2.4390335  2.1626098]\n",
            " [       inf        inf  2.5609853  2.7804983]\n",
            " [       inf        inf        inf  2.1674263]]\n",
            "\n",
            "\n",
            "=======================\n",
            "\n",
            "\n",
            "Part 1 Result:  [[ 7.99  5.36  8.91]\n",
            " [10.36  7.98  5.67]]\n",
            "Part 2 Result:  [[58.8064   47.7576   92.7531  ]\n",
            " [55.011597 74.8524   45.3033  ]]\n",
            "Part 3 Result:  374.48438\n",
            "Part 2 Result:  381.48438\n",
            "Part 3 Result:  19.463488\n",
            "Final Result:  [[19.463488   3.475623   3.1907358  2.432936 ]\n",
            " [       inf        inf  2.4390335  2.1626098]\n",
            " [       inf        inf  2.5609853  2.7804983]\n",
            " [       inf        inf        inf  2.1674263]]\n"
          ],
          "name": "stdout"
        }
      ]
    },
    {
      "metadata": {
        "id": "12NC7XTPsJw7",
        "colab_type": "text"
      },
      "cell_type": "markdown",
      "source": [
        "# Linear Regression\n",
        "\n",
        "Okay, now we will create a dummy dataset and perform linear regression on this dataset!\n",
        "\n",
        "\n",
        "To get you in the habit of looking up for the documentation, I am not providing what some of the following functions does, Google them up!"
      ]
    },
    {
      "metadata": {
        "id": "hW31RZkjtNwI",
        "colab_type": "code",
        "colab": {}
      },
      "cell_type": "code",
      "source": [
        "# Create the dataset\n",
        "X = np.linspace(-30.0, 300.0, 300)\n",
        "Y = 2 * np.linspace(-30.0, 250.0, 300) + np.random.randn(*X.shape)\n",
        "\n",
        "# Divide it into train and test\n",
        "train_X = X[:250]\n",
        "train_Y = Y[:250]\n",
        "\n",
        "test_X = X[250:]\n",
        "test_Y = Y[250:]"
      ],
      "execution_count": 0,
      "outputs": []
    },
    {
      "metadata": {
        "id": "LQKy6U33y4lt",
        "colab_type": "code",
        "colab": {}
      },
      "cell_type": "code",
      "source": [
        "# Let's define the hyperparameters\n",
        "learning_rate = 0.000005\n",
        "n_epochs = 1000\n",
        "interval = 50"
      ],
      "execution_count": 0,
      "outputs": []
    },
    {
      "metadata": {
        "id": "1h1-D8K1uT48",
        "colab_type": "code",
        "outputId": "2189ad35-c490-4fe6-b530-27517fff8cc8",
        "colab": {
          "base_uri": "https://localhost:8080/",
          "height": 347
        }
      },
      "cell_type": "code",
      "source": [
        "# let's viz the first 10 datapoints of the dataset\n",
        "plt.plot(train_X[:10], train_Y[:10], 'g')\n",
        "plt.show()"
      ],
      "execution_count": 15,
      "outputs": [
        {
          "output_type": "display_data",
          "data": {
            "image/png": "[encoded data removed]",
            "text/plain": [
              "<matplotlib.figure.Figure at 0x7f0a94ff7860>"
            ]
          },
          "metadata": {
            "tags": []
          }
        }
      ]
    },
    {
      "metadata": {
        "id": "jrsUps0nu8vj",
        "colab_type": "text"
      },
      "cell_type": "markdown",
      "source": [
        "** Question **<br/>\n",
        "Why did I created a session to plot the graph?<br/>\n",
        "[Ans]"
      ]
    },
    {
      "metadata": {
        "id": "P3-iuxE4sjAf",
        "colab_type": "code",
        "colab": {}
      },
      "cell_type": "code",
      "source": [
        "# Let's define the placeholders\n",
        "\n",
        "# Placeholders?\n",
        "# The input to the model changes on iteration\n",
        "# So we cannot have a constant in the input as we did before\n",
        "# And thus we need placeholders which we can change on each \n",
        "# iteration of the training\n",
        "\n",
        "x = tf.placeholder(tf.float32, name='x')\n",
        "y = tf.placeholder(tf.float32, name='y')"
      ],
      "execution_count": 0,
      "outputs": []
    },
    {
      "metadata": {
        "id": "8hPRkaoxvRyV",
        "colab_type": "code",
        "colab": {}
      },
      "cell_type": "code",
      "source": [
        "# Let's define the linear regression model\n",
        "\n",
        "# tf.Variable?\n",
        "# We define the model parameters as tf.Variables\n",
        "# as they get updated throghout the training.\n",
        "# And variables denotes something which changes overtime.\n",
        "\n",
        "W = tf.Variable(0.0, name='weight_1')\n",
        "b = tf.Variable(0.0, name='bias_1')\n",
        "\n",
        "pred_y = (W*x) + b"
      ],
      "execution_count": 0,
      "outputs": []
    },
    {
      "metadata": {
        "id": "cSw1P8bkv96r",
        "colab_type": "code",
        "colab": {}
      },
      "cell_type": "code",
      "source": [
        "# Let's define the loss function\n",
        "# We are going to use the mean squared loss\n",
        "loss = tf.reduce_mean(tf.square(y - pred_y))"
      ],
      "execution_count": 0,
      "outputs": []
    },
    {
      "metadata": {
        "id": "5G4uQqjsygNj",
        "colab_type": "code",
        "colab": {}
      },
      "cell_type": "code",
      "source": [
        "# Let's define the optimizer\n",
        "# And specify the which value (i.e. loss) it has to minimize\n",
        "optimizer = tf.train.GradientDescentOptimizer(learning_rate=learning_rate).minimize(loss)"
      ],
      "execution_count": 0,
      "outputs": []
    },
    {
      "metadata": {
        "id": "ttI7ZT-ozAm1",
        "colab_type": "code",
        "colab": {
          "base_uri": "https://localhost:8080/",
          "height": 721
        },
        "outputId": "d0ff4839-1198-44d8-bd4d-79d92dc1a528"
      },
      "cell_type": "code",
      "source": [
        "# So the graph is now built\n",
        "# Now let's execute the graph using session\n",
        "# i.e. lets train the model\n",
        "\n",
        "# What it is to train a model?\n",
        "# To update the paramters in the graph (i.e. tf.Variables)\n",
        "# So that the loss is minimized\n",
        "\n",
        "# Okay let's start!\n",
        "with tf.Session() as sess:\n",
        "  # We need to initialize the variables in our graph\n",
        "  sess.run(tf.global_variables_initializer())\n",
        "  \n",
        "  for epoch in range(n_epochs):\n",
        "    _, curr_loss = sess.run([optimizer, loss], feed_dict={x:train_X, y:train_Y})\n",
        "    \n",
        "    if epoch % interval == 0:\n",
        "        print ('Loss after epoch', epoch, ' is ', curr_loss)\n",
        "    \n",
        "  print ('Now testing the model in the test set')\n",
        "  final_preds, final_loss = sess.run([pred_y, loss], feed_dict={x:test_X, y:test_Y})\n",
        "    \n",
        "  print ('The final loss is: ', final_loss)\n",
        "  \n",
        "# Plotting the final predictions against the true predictions\n",
        "plt.plot(test_X[:10], test_Y[:10], 'g', label='True Function')\n",
        "plt.plot(test_X[:10], final_preds[:10], 'r', label='Predicted Function')\n",
        "plt.legend()\n",
        "plt.show()"
      ],
      "execution_count": 20,
      "outputs": [
        {
          "output_type": "stream",
          "text": [
            "Loss after epoch 0  is  48290.105\n",
            "Loss after epoch 50  is  29.782778\n",
            "Loss after epoch 100  is  29.7724\n",
            "Loss after epoch 150  is  29.762121\n",
            "Loss after epoch 200  is  29.751879\n",
            "Loss after epoch 250  is  29.741611\n",
            "Loss after epoch 300  is  29.731339\n",
            "Loss after epoch 350  is  29.721113\n",
            "Loss after epoch 400  is  29.710855\n",
            "Loss after epoch 450  is  29.700636\n",
            "Loss after epoch 500  is  29.690397\n",
            "Loss after epoch 550  is  29.680191\n",
            "Loss after epoch 600  is  29.66994\n",
            "Loss after epoch 650  is  29.65969\n",
            "Loss after epoch 700  is  29.6495\n",
            "Loss after epoch 750  is  29.639277\n",
            "Loss after epoch 800  is  29.629047\n",
            "Loss after epoch 850  is  29.618847\n",
            "Loss after epoch 900  is  29.608654\n",
            "Loss after epoch 950  is  29.598469\n",
            "Now testing the model in the test set\n",
            "The final loss is:  33.011585\n"
          ],
          "name": "stdout"
        },
        {
          "output_type": "display_data",
          "data": {
            "image/png": "[encoded data removed]",
            "text/plain": [
              "<matplotlib.figure.Figure at 0x7f0a8fdceac8>"
            ]
          },
          "metadata": {
            "tags": []
          }
        }
      ]
    },
    {
      "metadata": {
        "id": "jgmH3wwt1src",
        "colab_type": "text"
      },
      "cell_type": "markdown",
      "source": [
        "Okay, so we are doing good!<br/>\n",
        "\n",
        "Now, let me just put everything here into one function so that you can tweak the hyperparameters easily!\n",
        "\n",
        "Or better, do it yourself!"
      ]
    },
    {
      "metadata": {
        "id": "OZ5TY7B_4E_v",
        "colab_type": "code",
        "outputId": "5f7cfdb6-e69e-40ea-a4e1-4e0eca574301",
        "colab": {
          "base_uri": "https://localhost:8080/",
          "height": 415
        }
      },
      "cell_type": "code",
      "source": [
        "def linear_regression(learning_rate=0.000005, n_epochs=100, interval=50):\n",
        "  # YOUR CODE HERE\n",
        "\n",
        "    x = tf.placeholder(tf.float32 , name = 'x')\n",
        "    y = tf.placeholder(tf.float32 , name = 'y')\n",
        "    W = tf.Variable(0.0 , name = 'Weight_1')\n",
        "    b = tf.Variable(0.0 , name = 'bias_1')\n",
        "    pred_y = (W*x) + b\n",
        "    loss = tf.reduce_mean(tf.square(y - pred_y))\n",
        "    optimizer = tf.train.GradientDescentOptimizer(learning_rate=learning_rate).minimize(loss)\n",
        "    with tf.Session() as sess:\n",
        "        sess.run(tf.global_variables_initializer())\n",
        "    \n",
        "        for epoch in range(n_epochs):\n",
        "            _, curr_loss = sess.run([optimizer, loss], feed_dict={x:train_X, y:train_Y})\n",
        "    \n",
        "            if epoch % interval == 0:\n",
        "                print ('Loss after epoch', epoch, ' is ', curr_loss)\n",
        "    \n",
        "        print ('Now testing the model in the test set')\n",
        "        final_preds, final_loss = sess.run([pred_y, loss], feed_dict={x:test_X, y:test_Y})\n",
        "    \n",
        "        print ('The final loss is: ', final_loss)\n",
        "        plt.plot(test_X[:10], test_Y[:10], 'g', label='True Function')\n",
        "        plt.plot(test_X[:10], final_preds[:10], 'r', label='Predicted Function')\n",
        "        plt.legend()\n",
        "        plt.show()\n",
        "pass\n",
        "linear_regression()"
      ],
      "execution_count": 21,
      "outputs": [
        {
          "output_type": "stream",
          "text": [
            "Loss after epoch 0  is  48290.105\n",
            "Loss after epoch 50  is  29.782778\n",
            "Now testing the model in the test set\n",
            "The final loss is:  33.2231\n"
          ],
          "name": "stdout"
        },
        {
          "output_type": "display_data",
          "data": {
            "image/png": "[encoded data removed]",
            "text/plain": [
              "<matplotlib.figure.Figure at 0x7f0a8f5202b0>"
            ]
          },
          "metadata": {
            "tags": []
          }
        }
      ]
    },
    {
      "metadata": {
        "id": "A6MaclhK4rc6",
        "colab_type": "code",
        "outputId": "065e7aa3-2d40-4566-9b49-d3237c69e4e5",
        "colab": {
          "base_uri": "https://localhost:8080/",
          "height": 548
        }
      },
      "cell_type": "code",
      "source": [
        "# Okay! Now let's tweak!\n",
        "linear_regression(learning_rate=0.000034, n_epochs=500)"
      ],
      "execution_count": 22,
      "outputs": [
        {
          "output_type": "stream",
          "text": [
            "Loss after epoch 0  is  48290.105\n",
            "Loss after epoch 50  is  29.723145\n",
            "Loss after epoch 100  is  29.653582\n",
            "Loss after epoch 150  is  29.584167\n",
            "Loss after epoch 200  is  29.514908\n",
            "Loss after epoch 250  is  29.445837\n",
            "Loss after epoch 300  is  29.376942\n",
            "Loss after epoch 350  is  29.30818\n",
            "Loss after epoch 400  is  29.239614\n",
            "Loss after epoch 450  is  29.171177\n",
            "Now testing the model in the test set\n",
            "The final loss is:  32.455235\n"
          ],
          "name": "stdout"
        },
        {
          "output_type": "display_data",
          "data": {
            "image/png": "[encoded data removed]",
            "text/plain": [
              "<matplotlib.figure.Figure at 0x7f0a8fe0cf98>"
            ]
          },
          "metadata": {
            "tags": []
          }
        }
      ]
    },
    {
      "metadata": {
        "id": "peoHmV2M40uU",
        "colab_type": "code",
        "outputId": "cc3b5c21-06bd-4aee-9476-1f50063bf5e5",
        "colab": {
          "base_uri": "https://localhost:8080/",
          "height": 715
        }
      },
      "cell_type": "code",
      "source": [
        "linear_regression(learning_rate=0.0000006, n_epochs=1000)"
      ],
      "execution_count": 23,
      "outputs": [
        {
          "output_type": "stream",
          "text": [
            "Loss after epoch 0  is  48290.105\n",
            "Loss after epoch 50  is  5544.9077\n",
            "Loss after epoch 100  is  660.0498\n",
            "Loss after epoch 150  is  101.81439\n",
            "Loss after epoch 200  is  38.018833\n",
            "Loss after epoch 250  is  30.727413\n",
            "Loss after epoch 300  is  29.893017\n",
            "Loss after epoch 350  is  29.796562\n",
            "Loss after epoch 400  is  29.78446\n",
            "Loss after epoch 450  is  29.781971\n",
            "Loss after epoch 500  is  29.780622\n",
            "Loss after epoch 550  is  29.77936\n",
            "Loss after epoch 600  is  29.778126\n",
            "Loss after epoch 650  is  29.776915\n",
            "Loss after epoch 700  is  29.77566\n",
            "Loss after epoch 750  is  29.774433\n",
            "Loss after epoch 800  is  29.77318\n",
            "Loss after epoch 850  is  29.771988\n",
            "Loss after epoch 900  is  29.77074\n",
            "Loss after epoch 950  is  29.76949\n",
            "Now testing the model in the test set\n",
            "The final loss is:  33.224064\n"
          ],
          "name": "stdout"
        },
        {
          "output_type": "display_data",
          "data": {
            "image/png": "[encoded data removed]",
            "text/plain": [
              "<matplotlib.figure.Figure at 0x7f0aa4143ef0>"
            ]
          },
          "metadata": {
            "tags": []
          }
        }
      ]
    },
    {
      "metadata": {
        "id": "KjY_KnlE5ClG",
        "colab_type": "text"
      },
      "cell_type": "markdown",
      "source": [
        "## Drive the loss to a minimum."
      ]
    },
    {
      "metadata": {
        "id": "JKiHjGN15HPX",
        "colab_type": "code",
        "outputId": "4bcb2a50-5858-46ea-e393-667d80049851",
        "colab": {
          "base_uri": "https://localhost:8080/",
          "height": 1049
        }
      },
      "cell_type": "code",
      "source": [
        "# YOUR CODE HERE\n",
        "linear_regression(learning_rate=0.0000556, n_epochs=200000, interval=5000)"
      ],
      "execution_count": 28,
      "outputs": [
        {
          "output_type": "stream",
          "text": [
            "Loss after epoch 0  is  48290.105\n",
            "Loss after epoch 5000  is  20.356878\n",
            "Loss after epoch 10000  is  13.997063\n",
            "Loss after epoch 15000  is  9.710622\n",
            "Loss after epoch 20000  is  6.821608\n",
            "Loss after epoch 25000  is  4.874446\n",
            "Loss after epoch 30000  is  3.5620654\n",
            "Loss after epoch 35000  is  2.6775396\n",
            "Loss after epoch 40000  is  2.081378\n",
            "Loss after epoch 45000  is  1.679563\n",
            "Loss after epoch 50000  is  1.4087588\n",
            "Loss after epoch 55000  is  1.226228\n",
            "Loss after epoch 60000  is  1.1032239\n",
            "Loss after epoch 65000  is  1.0203019\n",
            "Loss after epoch 70000  is  0.9644026\n",
            "Loss after epoch 75000  is  0.92674285\n",
            "Loss after epoch 80000  is  0.90138215\n",
            "Loss after epoch 85000  is  0.8842748\n",
            "Loss after epoch 90000  is  0.87272763\n",
            "Loss after epoch 95000  is  0.864965\n",
            "Loss after epoch 100000  is  0.85972536\n",
            "Loss after epoch 105000  is  0.85620254\n",
            "Loss after epoch 110000  is  0.85381925\n",
            "Loss after epoch 115000  is  0.85222006\n",
            "Loss after epoch 120000  is  0.8511251\n",
            "Loss after epoch 125000  is  0.85038906\n",
            "Loss after epoch 130000  is  0.8499146\n",
            "Loss after epoch 135000  is  0.8495802\n",
            "Loss after epoch 140000  is  0.8493226\n",
            "Loss after epoch 145000  is  0.84920985\n",
            "Loss after epoch 150000  is  0.84911305\n",
            "Loss after epoch 155000  is  0.8490328\n",
            "Loss after epoch 160000  is  0.8489686\n",
            "Loss after epoch 165000  is  0.8489226\n",
            "Loss after epoch 170000  is  0.8489226\n",
            "Loss after epoch 175000  is  0.8489226\n",
            "Loss after epoch 180000  is  0.8489226\n",
            "Loss after epoch 185000  is  0.8489226\n",
            "Loss after epoch 190000  is  0.8489226\n",
            "Loss after epoch 195000  is  0.8489226\n",
            "Now testing the model in the test set\n",
            "The final loss is:  0.95510364\n"
          ],
          "name": "stdout"
        },
        {
          "output_type": "display_data",
          "data": {
            "image/png": "[encoded data removed]",
            "text/plain": [
              "<matplotlib.figure.Figure at 0x7f0a8f16d668>"
            ]
          },
          "metadata": {
            "tags": []
          }
        }
      ]
    }
  ]
}