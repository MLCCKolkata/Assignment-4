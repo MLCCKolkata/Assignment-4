{
  "nbformat": 4,
  "nbformat_minor": 0,
  "metadata": {
    "colab": {
      "name": "ArnabG99.ipynb",
      "version": "0.3.2",
      "provenance": [],
      "include_colab_link": true
    },
    "kernelspec": {
      "name": "python3",
      "display_name": "Python 3"
    }
  },
  "cells": [
    {
      "cell_type": "markdown",
      "metadata": {
        "id": "view-in-github",
        "colab_type": "text"
      },
      "source": [
        "<a href=\"https://colab.research.google.com/github/ArnabG99/Assignment-4/blob/ArnabG99/ArnabG99.ipynb\" target=\"_parent\"><img src=\"https://colab.research.google.com/assets/colab-badge.svg\" alt=\"Open In Colab\"/></a>"
      ]
    },
    {
      "metadata": {
        "id": "2XXfXed5YLbe",
        "colab_type": "text"
      },
      "cell_type": "markdown",
      "source": [
        "# First Date with TensorFlow\n",
        "\n",
        "Hi all,<br/>\n",
        "\n",
        "You know what's important for understanding Deep Learning / Machine Learning?<br/>\n",
        "Intuition. Period.\n",
        "\n",
        "And Intuition comes when you run the code multiple times.\n",
        "\n",
        "So, today I can write a couple of defination and say this is this, this is that.<br/>\n",
        "You Google half of the things up. You find answers which you need to Google further.<br/>\n",
        "In the process, you probably won't even remember what's the first thing you started out with!\n",
        "\n",
        "So?\n",
        "\n",
        "Hence on, I will execute cells with code. <br/>\n",
        "The neurons in your brain will optimize a function to get a hold of what each function is doing.<br/>\n",
        "**No Theory Just Code.**\n",
        "\n",
        "I will at max give a defination that extends for a line. That's it.<br/>\n",
        "Let's get started!\n",
        "\n",
        "<hr/>\n",
        "\n",
        "**RECOMMENDED!**<br/>\n",
        "Write the code in the cells using the signals sent by your brain to your fingers!<br/>\n",
        "Don't just `shift+enter` the cells.\n",
        "\n",
        "[Source](https://github.com/iArunava/TensorFlow-NoteBooks)"
      ]
    },
    {
      "metadata": {
        "id": "gYWUpE-bYKWP",
        "colab_type": "code",
        "colab": {}
      },
      "cell_type": "code",
      "source": [
        "# Essential imports\n",
        "import numpy as np\n",
        "import tensorflow as tf\n",
        "import matplotlib.pyplot as plt"
      ],
      "execution_count": 0,
      "outputs": []
    },
    {
      "metadata": {
        "id": "eKpz5NCIYMdi",
        "colab_type": "code",
        "colab": {}
      },
      "cell_type": "code",
      "source": [
        "# Let's define some tensors\n",
        "t1 = tf.constant(2.0, dtype=tf.float32)\n",
        "t2 = tf.constant([1.0, 2.0], dtype=tf.float32)\n",
        "t3 = tf.constant([[[1.0, 9.0], [2.0, 3.0], [4.0, 5.0]], \n",
        "                  [[1.0, 9.0], [2.0, 3.0], [4.0, 5.0]]])"
      ],
      "execution_count": 0,
      "outputs": []
    },
    {
      "metadata": {
        "id": "vmMcjzTxbWzw",
        "colab_type": "code",
        "outputId": "fe0cd60f-88ef-4e5b-ccf5-b41f853361cf",
        "colab": {
          "base_uri": "https://localhost:8080/",
          "height": 68
        }
      },
      "cell_type": "code",
      "source": [
        "# Let's print them out!\n",
        "print (t1)\n",
        "print (t2)\n",
        "print (t3)"
      ],
      "execution_count": 0,
      "outputs": [
        {
          "output_type": "stream",
          "text": [
            "Tensor(\"Const:0\", shape=(), dtype=float32)\n",
            "Tensor(\"Const_1:0\", shape=(2,), dtype=float32)\n",
            "Tensor(\"Const_2:0\", shape=(2, 3, 2), dtype=float32)\n"
          ],
          "name": "stdout"
        }
      ]
    },
    {
      "metadata": {
        "id": "10ahnfjYbcop",
        "colab_type": "text"
      },
      "cell_type": "markdown",
      "source": [
        "Where's Waldo?<br/>\n",
        "I mean, the value?<br/>\n",
        "\n",
        "So, the thing is you can't print the value of tensors directly.<br/>\n",
        "You have to use `session`, so let's do that!"
      ]
    },
    {
      "metadata": {
        "id": "ol6O5I7Tb2nb",
        "colab_type": "code",
        "outputId": "078668eb-6a15-4499-cd54-bddbd2ffa1eb",
        "colab": {
          "base_uri": "https://localhost:8080/",
          "height": 204
        }
      },
      "cell_type": "code",
      "source": [
        "sess = tf.Session()\n",
        "print (sess.run(t1))\n",
        "print (\"=======================\")\n",
        "print (sess.run(t2))\n",
        "print (\"=======================\")\n",
        "print (sess.run(t3))\n",
        "sess.close()"
      ],
      "execution_count": 0,
      "outputs": [
        {
          "output_type": "stream",
          "text": [
            "2.0\n",
            "=======================\n",
            "[1. 2.]\n",
            "=======================\n",
            "[[[1. 9.]\n",
            "  [2. 3.]\n",
            "  [4. 5.]]\n",
            "\n",
            " [[1. 9.]\n",
            "  [2. 3.]\n",
            "  [4. 5.]]]\n"
          ],
          "name": "stdout"
        }
      ]
    },
    {
      "metadata": {
        "id": "rXKfVs_zb-kU",
        "colab_type": "text"
      },
      "cell_type": "markdown",
      "source": [
        "Aaahaa!! Just printed those tensors!!!<br/>\n",
        "Feels good! <br/>\n",
        "\n",
        "For some of you, who are like, dude you got \"No Theory Just Code\" in bold <br/>\n",
        "And you are still using the markdown cells for the theory ?!\n",
        "\n",
        "I am just gonna say I am a unreasonable man.<br/>\n",
        "\n",
        "\n",
        "So, you are programming with tf.<br/>\n",
        "What ever you do is broken down to 2 basic steps:\n",
        "- Building the computational Graph!\n",
        "- Execute that graph using `session`!\n",
        "\n",
        "That's all!\n",
        "\n",
        "<hr/>\n",
        "\n",
        "Let's compare this 2 steps with what we did above!<br/>\n",
        "So, I defined 3 `tensor`s and these 3 `tensor`s formed my computational Graph.<br/>\n",
        "And then I executed each tensor in this graph using a `session`.\n",
        "\n",
        "That simple!\n",
        "\n",
        "<hr/>\n",
        "\n",
        "Now, let's define a few more computational graphs and execute them with sessions.\n",
        "\n",
        "Okay, to start with let's build this computational graph!\n",
        "\n",
        "![Comp Graph 1](https://raw.githubusercontent.com/iArunava/TensorFlow-NoteBooks/master/assets/comp_graph_1.jpg)"
      ]
    },
    {
      "metadata": {
        "id": "FyVz0GNqgreZ",
        "colab_type": "code",
        "outputId": "b036680e-77cd-4d41-92ab-f12d3c18de84",
        "colab": {
          "base_uri": "https://localhost:8080/",
          "height": 51
        }
      },
      "cell_type": "code",
      "source": [
        "# Let's define the graph\n",
        "comp_graph_1 = tf.multiply(tf.add(78, 19), 79)\n",
        "\n",
        "# Alternatively\n",
        "comp_graph_1_alt = (tf.constant(78) + tf.constant(19)) * tf.constant(79)\n",
        "\n",
        "# Let's execute using session\n",
        "sess = tf.Session()\n",
        "print ('Comp Graph 1    : ', sess.run(comp_graph_1))\n",
        "print ('Comp Graph 1 Alt: ', sess.run(comp_graph_1_alt))\n",
        "sess.close()"
      ],
      "execution_count": 0,
      "outputs": [
        {
          "output_type": "stream",
          "text": [
            "Comp Graph 1    :  7663\n",
            "Comp Graph 1 Alt:  7663\n"
          ],
          "name": "stdout"
        }
      ]
    },
    {
      "metadata": {
        "id": "SVMMtuFYhaQB",
        "colab_type": "text"
      },
      "cell_type": "markdown",
      "source": [
        "Let's define a sligtly more involved graph!\n",
        "\n",
        "![alt text](https://raw.githubusercontent.com/iArunava/TensorFlow-NoteBooks/master/assets/comp_graph_2.jpg)"
      ]
    },
    {
      "metadata": {
        "id": "4856BTvRhiBb",
        "colab_type": "code",
        "outputId": "dcf832d6-fbff-4ec2-f4bc-fd883fa37be8",
        "colab": {
          "base_uri": "https://localhost:8080/",
          "height": 68
        }
      },
      "cell_type": "code",
      "source": [
        "# Let build the graph\n",
        "# We need to cast cause the tensors operated on should be of the same type\n",
        "comp_graph_part_1 = tf.cast(tf.subtract(tf.add(7, 8), tf.add(9, 10)), \n",
        "                            dtype=tf.float32)\n",
        "comp_graph_part_2 = tf.divide(tf.cast(tf.multiply(7, 10), dtype=tf.float32), tf.constant(19.5))\n",
        "comp_graph_complete = tf.maximum(comp_graph_part_1, comp_graph_part_2)\n",
        "\n",
        "# Let's execute\n",
        "sess = tf.Session()\n",
        "part1_res, part2_res, total_res = sess.run([comp_graph_part_1, comp_graph_part_2, comp_graph_complete])\n",
        "print ('Complete Result: ', total_res)\n",
        "print ('Part 1 Result: ', part1_res)\n",
        "print ('Part 2 Result: ', part2_res)\n",
        "sess.close()"
      ],
      "execution_count": 0,
      "outputs": [
        {
          "output_type": "stream",
          "text": [
            "Complete Result:  3.5897436\n",
            "Part 1 Result:  -4.0\n",
            "Part 2 Result:  3.5897436\n"
          ],
          "name": "stdout"
        }
      ]
    },
    {
      "metadata": {
        "id": "B-_ZDtEbj4N0",
        "colab_type": "text"
      },
      "cell_type": "markdown",
      "source": [
        "Cool! Let's go! Build another graph and execute it with sessions.<br/>\n",
        "\n",
        "But this time, it's all you!\n",
        "\n",
        "Build this graph and execute it with `session`!\n",
        "\n",
        "![alt text](https://raw.githubusercontent.com/iArunava/TensorFlow-NoteBooks/master/assets/comp_graph_3.jpg)\n",
        "\n",
        "_Remember that `tensors` operated on should be of the same type!_<br/>\n",
        "_Search up errors and other help you need on Google_"
      ]
    },
    {
      "metadata": {
        "id": "-uHNe1BolJY0",
        "colab_type": "code",
        "outputId": "6770fc11-2869-41ca-879e-73c0bcb64ef0",
        "colab": {
          "base_uri": "https://localhost:8080/",
          "height": 34
        }
      },
      "cell_type": "code",
      "source": [
        "a=tf.constant([9,10],dtype=tf.float32)\n",
        "b=tf.constant([7,8.65],dtype=tf.float32)\n",
        "c=tf.constant(5.6,dtype=tf.float32)\n",
        "d=tf.constant([7.65,9],dtype=tf.float32)\n",
        "e=tf.constant([13.5,7.18],dtype=tf.float32)\n",
        "\n",
        "result=tf.minimum(tf.divide(tf.multiply(a,b),c),tf.add(d,e))\n",
        "sess=tf.Session()\n",
        "\n",
        "print(sess.run(result))"
      ],
      "execution_count": 0,
      "outputs": [
        {
          "output_type": "stream",
          "text": [
            "[11.25     15.446429]\n"
          ],
          "name": "stdout"
        }
      ]
    },
    {
      "metadata": {
        "id": "qmap38WelREN",
        "colab_type": "text"
      },
      "cell_type": "markdown",
      "source": [
        "Let's do another!<br/>\n",
        "It's fun! Isn't it?!\n",
        "\n",
        "Build and execute this one!\n",
        "\n",
        "![alt text](https://raw.githubusercontent.com/iArunava/TensorFlow-NoteBooks/master/assets/comp_graph_4.jpg)"
      ]
    },
    {
      "metadata": {
        "id": "0ZhYwAlLmEvB",
        "colab_type": "code",
        "outputId": "f2917537-a78b-4029-cbed-000fe98022e5",
        "colab": {
          "base_uri": "https://localhost:8080/",
          "height": 51
        }
      },
      "cell_type": "code",
      "source": [
        "a=tf.constant([[1.2,3.4],[7.5,8.6]],dtype=tf.float32)\n",
        "b=tf.constant([[7,9],[8,6]],dtype=tf.float32)\n",
        "c=tf.constant([[2.79,3.81,5.6],[7.3,5.67,8.9]],dtype=tf.float32)\n",
        "d=tf.constant([[2.6,18.1],[7.86,9.81],[9.36,10.11]],dtype=tf.float32)\n",
        "result=tf.add(tf.multiply(tf.reduce_mean(a,1),b),tf.reduce_sum(tf.multiply(tf.transpose(d),c)))\n",
        "print(sess.run(result))"
      ],
      "execution_count": 0,
      "outputs": [
        {
          "output_type": "stream",
          "text": [
            "[[383.4483  439.7983 ]\n",
            " [385.7483  415.64832]]\n"
          ],
          "name": "stdout"
        }
      ]
    },
    {
      "metadata": {
        "id": "BnB0b6qCmGmg",
        "colab_type": "text"
      },
      "cell_type": "markdown",
      "source": [
        "And a final one, before we move on to the next part!\n",
        "\n",
        "![alt text](https://raw.githubusercontent.com/iArunava/TensorFlow-NoteBooks/master/assets/comp_graph_5.jpg)"
      ]
    },
    {
      "metadata": {
        "id": "GQWyCvsQmMcL",
        "colab_type": "code",
        "outputId": "9d803f9b-34d5-4040-a328-92e010cd1b43",
        "colab": {
          "base_uri": "https://localhost:8080/",
          "height": 85
        }
      },
      "cell_type": "code",
      "source": [
        "# Build the graph\n",
        "# YOUR CODE HERE\n",
        "a=tf.constant([[7.36,8.91,10.41],[5.31,9.38,7.99]],dtype=tf.float32)\n",
        "b=tf.constant([[7.99,10.36],[5.36,7.98],[8.91,5.67]],dtype=tf.float32)\n",
        "c=tf.constant([[1,5.6,6.1,8],[0,0,7.98,9],[0,0,7.6,7],[0,0,0,8.98]],dtype=tf.float32)\n",
        "result=tf.divide(tf.divide(tf.add(tf.reduce_sum(tf.multiply(a,tf.transpose(b))),7.0),19.6),c)\n",
        "# Execute \n",
        "# YOUR CODE HERE\n",
        "print(sess.run(result))"
      ],
      "execution_count": 0,
      "outputs": [
        {
          "output_type": "stream",
          "text": [
            "[[19.463488   3.475623   3.1907358  2.432936 ]\n",
            " [       inf        inf  2.4390335  2.1626098]\n",
            " [       inf        inf  2.5609853  2.7804983]\n",
            " [       inf        inf        inf  2.1674263]]\n"
          ],
          "name": "stdout"
        }
      ]
    },
    {
      "metadata": {
        "id": "12NC7XTPsJw7",
        "colab_type": "text"
      },
      "cell_type": "markdown",
      "source": [
        "# Linear Regression\n",
        "\n",
        "Okay, now we will create a dummy dataset and perform linear regression on this dataset!\n",
        "\n",
        "\n",
        "To get you in the habit of looking up for the documentation, I am not providing what some of the following functions does, Google them up!"
      ]
    },
    {
      "metadata": {
        "id": "hW31RZkjtNwI",
        "colab_type": "code",
        "colab": {}
      },
      "cell_type": "code",
      "source": [
        "# Create the dataset\n",
        "X = np.linspace(-30.0, 300.0, 300)\n",
        "Y = 2 * np.linspace(-30.0, 250.0, 300) + np.random.randn(*X.shape)\n",
        "\n",
        "# Divide it into train and test\n",
        "train_X = X[:250]\n",
        "train_Y = Y[:250]\n",
        "\n",
        "test_X = X[250:]\n",
        "test_Y = Y[250:]"
      ],
      "execution_count": 0,
      "outputs": []
    },
    {
      "metadata": {
        "id": "LQKy6U33y4lt",
        "colab_type": "code",
        "colab": {}
      },
      "cell_type": "code",
      "source": [
        "# Let's define the hyperparameters\n",
        "learning_rate = 0.000005\n",
        "n_epochs = 1000\n",
        "interval = 50"
      ],
      "execution_count": 0,
      "outputs": []
    },
    {
      "metadata": {
        "id": "1h1-D8K1uT48",
        "colab_type": "code",
        "outputId": "395a7820-0f68-4e4f-f2bc-2a3984814f91",
        "colab": {
          "base_uri": "https://localhost:8080/",
          "height": 347
        }
      },
      "cell_type": "code",
      "source": [
        "# let's viz the first 10 datapoints of the dataset\n",
        "plt.plot(train_X[:10], train_Y[:10], 'g')\n",
        "plt.show()"
      ],
      "execution_count": 0,
      "outputs": [
        {
          "output_type": "display_data",
          "data": {
            "image/png": "[encoded data removed]",
            "text/plain": [
              "<matplotlib.figure.Figure at 0x7f828fcd8b70>"
            ]
          },
          "metadata": {
            "tags": []
          }
        }
      ]
    },
    {
      "metadata": {
        "id": "jrsUps0nu8vj",
        "colab_type": "text"
      },
      "cell_type": "markdown",
      "source": [
        "** Question **<br/>\n",
        "Why did I create a session to plot the graph?<br/>\n",
        "[Ans] "
      ]
    },
    {
      "metadata": {
        "id": "P3-iuxE4sjAf",
        "colab_type": "code",
        "colab": {}
      },
      "cell_type": "code",
      "source": [
        "# Let's define the placeholders\n",
        "\n",
        "# Placeholders?\n",
        "# The input to the model changes on iteration\n",
        "# So we cannot have a constant in the input as we did before\n",
        "# And thus we need placeholders which we can change on each \n",
        "# iteration of the training\n",
        "\n",
        "x = tf.placeholder(tf.float32, name='x')\n",
        "y = tf.placeholder(tf.float32, name='y')"
      ],
      "execution_count": 0,
      "outputs": []
    },
    {
      "metadata": {
        "id": "8hPRkaoxvRyV",
        "colab_type": "code",
        "colab": {}
      },
      "cell_type": "code",
      "source": [
        "# Let's define the linear regression model\n",
        "\n",
        "# tf.Variable?\n",
        "# We define the model parameters as tf.Variables\n",
        "# as they get updated throghout the training.\n",
        "# And variables denotes something which changes overtime.\n",
        "\n",
        "W = tf.Variable(0.0, name='weight_1')\n",
        "b = tf.Variable(0.0, name='bias_1')\n",
        "\n",
        "pred_y = (W*x) + b"
      ],
      "execution_count": 0,
      "outputs": []
    },
    {
      "metadata": {
        "id": "cSw1P8bkv96r",
        "colab_type": "code",
        "colab": {}
      },
      "cell_type": "code",
      "source": [
        "# Let's define the loss function\n",
        "# We are going to use the mean squared loss\n",
        "loss = tf.reduce_mean(tf.square(y - pred_y))"
      ],
      "execution_count": 0,
      "outputs": []
    },
    {
      "metadata": {
        "id": "5G4uQqjsygNj",
        "colab_type": "code",
        "colab": {}
      },
      "cell_type": "code",
      "source": [
        "# Let's define the optimizer\n",
        "# And specify the which value (i.e. loss) it has to minimize\n",
        "optimizer = tf.train.GradientDescentOptimizer(learning_rate=learning_rate).minimize(loss)"
      ],
      "execution_count": 0,
      "outputs": []
    },
    {
      "metadata": {
        "id": "ttI7ZT-ozAm1",
        "colab_type": "code",
        "outputId": "542834e9-7033-42f6-ae01-26b466259b95",
        "colab": {
          "base_uri": "https://localhost:8080/",
          "height": 721
        }
      },
      "cell_type": "code",
      "source": [
        "# So the graph is now built\n",
        "# Now let's execute the graph using session\n",
        "# i.e. lets train the model\n",
        "\n",
        "# What it is to train a model?\n",
        "# To update the paramters in the graph (i.e. tf.Variables)\n",
        "# So that the loss is minimized\n",
        "\n",
        "# Okay let's start!\n",
        "with tf.Session() as sess:\n",
        "  # We need to initialize the variables in our graph\n",
        "  sess.run(tf.global_variables_initializer())\n",
        "  \n",
        "  for epoch in range(n_epochs):\n",
        "    _, curr_loss = sess.run([optimizer, loss], feed_dict={x:train_X, y:train_Y})\n",
        "    \n",
        "    if epoch % interval == 0:\n",
        "      print ('Loss after epoch', epoch, ' is ', curr_loss)\n",
        "    \n",
        "  print ('Now testing the model in the test set')\n",
        "  final_preds, final_loss = sess.run([pred_y, loss], feed_dict={x:test_X, y:test_Y})\n",
        "    \n",
        "  print ('The final loss is: ', final_loss)\n",
        "  \n",
        "  # Plotting the final predictions against the true predictions\n",
        "  plt.plot(test_X[:10], test_Y[:10], 'g', label='True Function')\n",
        "  plt.plot(test_X[:10], final_preds[:10], 'r', label='Predicted Function')\n",
        "  plt.legend()\n",
        "  plt.show()"
      ],
      "execution_count": 0,
      "outputs": [
        {
          "output_type": "stream",
          "text": [
            "Loss after epoch 0  is  48231.863\n",
            "Loss after epoch 50  is  30.156618\n",
            "Loss after epoch 100  is  30.146185\n",
            "Loss after epoch 150  is  30.135885\n",
            "Loss after epoch 200  is  30.125536\n",
            "Loss after epoch 250  is  30.115234\n",
            "Loss after epoch 300  is  30.104954\n",
            "Loss after epoch 350  is  30.09463\n",
            "Loss after epoch 400  is  30.084347\n",
            "Loss after epoch 450  is  30.074017\n",
            "Loss after epoch 500  is  30.063745\n",
            "Loss after epoch 550  is  30.053429\n",
            "Loss after epoch 600  is  30.043163\n",
            "Loss after epoch 650  is  30.032866\n",
            "Loss after epoch 700  is  30.022612\n",
            "Loss after epoch 750  is  30.012356\n",
            "Loss after epoch 800  is  30.002064\n",
            "Loss after epoch 850  is  29.99182\n",
            "Loss after epoch 900  is  29.981537\n",
            "Loss after epoch 950  is  29.971289\n",
            "Now testing the model in the test set\n",
            "The final loss is:  32.79357\n"
          ],
          "name": "stdout"
        },
        {
          "output_type": "display_data",
          "data": {
            "image/png": "[encoded data removed]",
            "text/plain": [
              "<matplotlib.figure.Figure at 0x7f828aae42b0>"
            ]
          },
          "metadata": {
            "tags": []
          }
        }
      ]
    },
    {
      "metadata": {
        "id": "jgmH3wwt1src",
        "colab_type": "text"
      },
      "cell_type": "markdown",
      "source": [
        "Okay, so we are doing good!<br/>\n",
        "\n",
        "Now, let me just put everything here into one function so that you can tweak the hyperparameters easily!\n",
        "\n",
        "Or better, do it yourself!"
      ]
    },
    {
      "metadata": {
        "id": "OZ5TY7B_4E_v",
        "colab_type": "code",
        "colab": {}
      },
      "cell_type": "code",
      "source": [
        "def linear_regression(learning_rate, n_epochs, interval):\n",
        "  x = tf.placeholder(tf.float32, name='x')\n",
        "  y = tf.placeholder(tf.float32, name='y')\n",
        "  W = tf.Variable(0.0, name='weight_1')\n",
        "  b = tf.Variable(0.0, name='bias_1')\n",
        "  pred_y = (W*x) + b\n",
        "  loss = tf.reduce_mean(tf.square(y - pred_y))\n",
        "  optimizer = tf.train.GradientDescentOptimizer(learning_rate=learning_rate).minimize(loss)\n",
        "  with tf.Session() as sess: \n",
        "    sess.run(tf.global_variables_initializer())\n",
        "  \n",
        "    for epoch in range(n_epochs):\n",
        "      _, curr_loss = sess.run([optimizer, loss], feed_dict={x:train_X, y:train_Y})\n",
        "    \n",
        "      if epoch % interval == 0:\n",
        "        print ('Loss after epoch', epoch, ' is ', curr_loss)\n",
        "    \n",
        "    print ('Now testing the model in the test set')\n",
        "    final_preds, final_loss = sess.run([pred_y, loss], feed_dict={x:test_X, y:test_Y})\n",
        "    \n",
        "    print ('The final loss is: ', final_loss)\n",
        "  \n",
        "  # Plotting the final predictions against the true predictions\n",
        "    plt.plot(test_X[:10], test_Y[:10], 'g', label='True Function')\n",
        "    plt.plot(test_X[:10], final_preds[:10], 'r', label='Predicted Function')\n",
        "    plt.legend()\n",
        "    plt.show()\n",
        "  pass"
      ],
      "execution_count": 0,
      "outputs": []
    },
    {
      "metadata": {
        "id": "A6MaclhK4rc6",
        "colab_type": "code",
        "outputId": "1b438af2-ff2a-4d17-de8a-178b0d77fcd7",
        "colab": {
          "base_uri": "https://localhost:8080/",
          "height": 551
        }
      },
      "cell_type": "code",
      "source": [
        "# Okay! Now let's tweak!\n",
        "linear_regression(learning_rate=0.000034, n_epochs=500,interval=50)"
      ],
      "execution_count": 0,
      "outputs": [
        {
          "output_type": "stream",
          "text": [
            "Loss after epoch 0  is  48231.863\n",
            "Loss after epoch 50  is  30.0967\n",
            "Loss after epoch 100  is  30.02672\n",
            "Loss after epoch 150  is  29.956907\n",
            "Loss after epoch 200  is  29.88726\n",
            "Loss after epoch 250  is  29.81783\n",
            "Loss after epoch 300  is  29.748514\n",
            "Loss after epoch 350  is  29.679358\n",
            "Loss after epoch 400  is  29.610397\n",
            "Loss after epoch 450  is  29.541628\n",
            "Now testing the model in the test set\n",
            "The final loss is:  32.236954\n"
          ],
          "name": "stdout"
        },
        {
          "output_type": "display_data",
          "data": {
            "image/png": "[encoded data removed]",
            "text/plain": [
              "<matplotlib.figure.Figure at 0x7f828aae1470>"
            ]
          },
          "metadata": {
            "tags": []
          }
        }
      ]
    },
    {
      "metadata": {
        "id": "peoHmV2M40uU",
        "colab_type": "code",
        "outputId": "b8620eca-2a2f-496e-987f-d6073d545ae1",
        "colab": {
          "base_uri": "https://localhost:8080/",
          "height": 721
        }
      },
      "cell_type": "code",
      "source": [
        "linear_regression(learning_rate=0.0000006, n_epochs=1000,interval=50)"
      ],
      "execution_count": 0,
      "outputs": [
        {
          "output_type": "stream",
          "text": [
            "Loss after epoch 0  is  48231.863\n",
            "Loss after epoch 50  is  5538.5845\n",
            "Loss after epoch 100  is  659.65924\n",
            "Loss after epoch 150  is  102.101036\n",
            "Loss after epoch 200  is  38.38278\n",
            "Loss after epoch 250  is  31.10012\n",
            "Loss after epoch 300  is  30.266733\n",
            "Loss after epoch 350  is  30.170422\n",
            "Loss after epoch 400  is  30.158295\n",
            "Loss after epoch 450  is  30.155851\n",
            "Loss after epoch 500  is  30.154459\n",
            "Loss after epoch 550  is  30.15318\n",
            "Loss after epoch 600  is  30.151974\n",
            "Loss after epoch 650  is  30.150717\n",
            "Loss after epoch 700  is  30.149467\n",
            "Loss after epoch 750  is  30.148268\n",
            "Loss after epoch 800  is  30.147\n",
            "Loss after epoch 850  is  30.145763\n",
            "Loss after epoch 900  is  30.144552\n",
            "Loss after epoch 950  is  30.143293\n",
            "Now testing the model in the test set\n",
            "The final loss is:  33.00555\n"
          ],
          "name": "stdout"
        },
        {
          "output_type": "display_data",
          "data": {
            "image/png": "[encoded data removed]",
            "text/plain": [
              "<matplotlib.figure.Figure at 0x7f828a12af28>"
            ]
          },
          "metadata": {
            "tags": []
          }
        }
      ]
    },
    {
      "metadata": {
        "id": "KjY_KnlE5ClG",
        "colab_type": "text"
      },
      "cell_type": "markdown",
      "source": [
        "## Drive the loss to a minimum."
      ]
    },
    {
      "metadata": {
        "id": "Jtnn2I6U7uyX",
        "colab_type": "code",
        "outputId": "3161e918-ee5c-4784-f7ea-f0a8375b4b5a",
        "colab": {
          "base_uri": "https://localhost:8080/",
          "height": 551
        }
      },
      "cell_type": "code",
      "source": [
        "linear_regression(learning_rate=0.00000999, n_epochs=1000000,interval=100000)"
      ],
      "execution_count": 0,
      "outputs": [
        {
          "output_type": "stream",
          "text": [
            "Loss after epoch 0  is  48231.863\n",
            "Loss after epoch 100000  is  8.111055\n",
            "Loss after epoch 200000  is  2.7679334\n",
            "Loss after epoch 300000  is  1.4737933\n",
            "Loss after epoch 400000  is  1.1608056\n",
            "Loss after epoch 500000  is  1.0849591\n",
            "Loss after epoch 600000  is  1.0665594\n",
            "Loss after epoch 700000  is  1.061319\n",
            "Loss after epoch 800000  is  1.061319\n",
            "Loss after epoch 900000  is  1.061319\n",
            "Now testing the model in the test set\n",
            "The final loss is:  0.89677835\n"
          ],
          "name": "stdout"
        },
        {
          "output_type": "display_data",
          "data": {
            "image/png": "[encoded data removed]",
            "text/plain": [
              "<matplotlib.figure.Figure at 0x7f828a049da0>"
            ]
          },
          "metadata": {
            "tags": []
          }
        }
      ]
    }
  ]
}